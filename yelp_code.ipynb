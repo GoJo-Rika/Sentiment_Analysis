{
  "cells": [
    {
      "cell_type": "markdown",
      "metadata": {
        "id": "view-in-github",
        "colab_type": "text"
      },
      "source": [
        "<a href=\"https://colab.research.google.com/github/GoJo-Rika/Sentiment_Analysis/blob/Reordering%2FReshuffling-of-code/yelp_code.ipynb\" target=\"_parent\"><img src=\"https://colab.research.google.com/assets/colab-badge.svg\" alt=\"Open In Colab\"/></a>"
      ]
    },
    {
      "cell_type": "markdown",
      "source": [
        "# Lib\n"
      ],
      "metadata": {
        "id": "BFcOReGY0Z95"
      },
      "id": "BFcOReGY0Z95"
    },
    {
      "cell_type": "code",
      "execution_count": 4,
      "id": "238657bc",
      "metadata": {
        "id": "238657bc",
        "outputId": "a9c80cff-6763-43df-e91d-a16f1e6c1b6e",
        "colab": {
          "base_uri": "https://localhost:8080/"
        }
      },
      "outputs": [
        {
          "output_type": "stream",
          "name": "stdout",
          "text": [
            "Looking in indexes: https://pypi.org/simple, https://us-python.pkg.dev/colab-wheels/public/simple/\n",
            "Requirement already satisfied: wordcloud in /usr/local/lib/python3.7/dist-packages (1.8.2.2)\n",
            "Requirement already satisfied: numpy>=1.6.1 in /usr/local/lib/python3.7/dist-packages (from wordcloud) (1.21.6)\n",
            "Requirement already satisfied: matplotlib in /usr/local/lib/python3.7/dist-packages (from wordcloud) (3.2.2)\n",
            "Requirement already satisfied: pillow in /usr/local/lib/python3.7/dist-packages (from wordcloud) (7.1.2)\n",
            "Requirement already satisfied: python-dateutil>=2.1 in /usr/local/lib/python3.7/dist-packages (from matplotlib->wordcloud) (2.8.2)\n",
            "Requirement already satisfied: cycler>=0.10 in /usr/local/lib/python3.7/dist-packages (from matplotlib->wordcloud) (0.11.0)\n",
            "Requirement already satisfied: pyparsing!=2.0.4,!=2.1.2,!=2.1.6,>=2.0.1 in /usr/local/lib/python3.7/dist-packages (from matplotlib->wordcloud) (3.0.9)\n",
            "Requirement already satisfied: kiwisolver>=1.0.1 in /usr/local/lib/python3.7/dist-packages (from matplotlib->wordcloud) (1.4.4)\n",
            "Requirement already satisfied: typing-extensions in /usr/local/lib/python3.7/dist-packages (from kiwisolver>=1.0.1->matplotlib->wordcloud) (4.1.1)\n",
            "Requirement already satisfied: six>=1.5 in /usr/local/lib/python3.7/dist-packages (from python-dateutil>=2.1->matplotlib->wordcloud) (1.15.0)\n",
            "Looking in indexes: https://pypi.org/simple, https://us-python.pkg.dev/colab-wheels/public/simple/\n",
            "Requirement already satisfied: umap-learn[plot] in /usr/local/lib/python3.7/dist-packages (0.5.3)\n",
            "Requirement already satisfied: scipy>=1.0 in /usr/local/lib/python3.7/dist-packages (from umap-learn[plot]) (1.7.3)\n",
            "Requirement already satisfied: numpy>=1.17 in /usr/local/lib/python3.7/dist-packages (from umap-learn[plot]) (1.21.6)\n",
            "Requirement already satisfied: scikit-learn>=0.22 in /usr/local/lib/python3.7/dist-packages (from umap-learn[plot]) (1.0.2)\n",
            "Requirement already satisfied: tqdm in /usr/local/lib/python3.7/dist-packages (from umap-learn[plot]) (4.64.0)\n",
            "Requirement already satisfied: numba>=0.49 in /usr/local/lib/python3.7/dist-packages (from umap-learn[plot]) (0.56.0)\n",
            "Requirement already satisfied: pynndescent>=0.5 in /usr/local/lib/python3.7/dist-packages (from umap-learn[plot]) (0.5.7)\n",
            "Requirement already satisfied: colorcet in /usr/local/lib/python3.7/dist-packages (from umap-learn[plot]) (3.0.0)\n",
            "Requirement already satisfied: seaborn in /usr/local/lib/python3.7/dist-packages (from umap-learn[plot]) (0.11.2)\n",
            "Requirement already satisfied: bokeh in /usr/local/lib/python3.7/dist-packages (from umap-learn[plot]) (2.3.3)\n",
            "Requirement already satisfied: matplotlib in /usr/local/lib/python3.7/dist-packages (from umap-learn[plot]) (3.2.2)\n",
            "Requirement already satisfied: datashader in /usr/local/lib/python3.7/dist-packages (from umap-learn[plot]) (0.14.2)\n",
            "Requirement already satisfied: scikit-image in /usr/local/lib/python3.7/dist-packages (from umap-learn[plot]) (0.18.3)\n",
            "Requirement already satisfied: pandas in /usr/local/lib/python3.7/dist-packages (from umap-learn[plot]) (1.3.5)\n",
            "Requirement already satisfied: holoviews in /usr/local/lib/python3.7/dist-packages (from umap-learn[plot]) (1.14.9)\n",
            "Requirement already satisfied: importlib-metadata in /usr/local/lib/python3.7/dist-packages (from numba>=0.49->umap-learn[plot]) (4.12.0)\n",
            "Requirement already satisfied: llvmlite<0.40,>=0.39.0dev0 in /usr/local/lib/python3.7/dist-packages (from numba>=0.49->umap-learn[plot]) (0.39.0)\n",
            "Requirement already satisfied: setuptools in /usr/local/lib/python3.7/dist-packages (from numba>=0.49->umap-learn[plot]) (57.4.0)\n",
            "Requirement already satisfied: joblib>=0.11 in /usr/local/lib/python3.7/dist-packages (from pynndescent>=0.5->umap-learn[plot]) (1.1.0)\n",
            "Requirement already satisfied: threadpoolctl>=2.0.0 in /usr/local/lib/python3.7/dist-packages (from scikit-learn>=0.22->umap-learn[plot]) (3.1.0)\n",
            "Requirement already satisfied: PyYAML>=3.10 in /usr/local/lib/python3.7/dist-packages (from bokeh->umap-learn[plot]) (6.0)\n",
            "Requirement already satisfied: python-dateutil>=2.1 in /usr/local/lib/python3.7/dist-packages (from bokeh->umap-learn[plot]) (2.8.2)\n",
            "Requirement already satisfied: typing-extensions>=3.7.4 in /usr/local/lib/python3.7/dist-packages (from bokeh->umap-learn[plot]) (4.1.1)\n",
            "Requirement already satisfied: tornado>=5.1 in /usr/local/lib/python3.7/dist-packages (from bokeh->umap-learn[plot]) (5.1.1)\n",
            "Requirement already satisfied: packaging>=16.8 in /usr/local/lib/python3.7/dist-packages (from bokeh->umap-learn[plot]) (21.3)\n",
            "Requirement already satisfied: pillow>=7.1.0 in /usr/local/lib/python3.7/dist-packages (from bokeh->umap-learn[plot]) (7.1.2)\n",
            "Requirement already satisfied: Jinja2>=2.9 in /usr/local/lib/python3.7/dist-packages (from bokeh->umap-learn[plot]) (2.11.3)\n",
            "Requirement already satisfied: MarkupSafe>=0.23 in /usr/local/lib/python3.7/dist-packages (from Jinja2>=2.9->bokeh->umap-learn[plot]) (2.0.1)\n",
            "Requirement already satisfied: pyparsing!=3.0.5,>=2.0.2 in /usr/local/lib/python3.7/dist-packages (from packaging>=16.8->bokeh->umap-learn[plot]) (3.0.9)\n",
            "Requirement already satisfied: six>=1.5 in /usr/local/lib/python3.7/dist-packages (from python-dateutil>=2.1->bokeh->umap-learn[plot]) (1.15.0)\n",
            "Requirement already satisfied: pyct>=0.4.4 in /usr/local/lib/python3.7/dist-packages (from colorcet->umap-learn[plot]) (0.4.8)\n",
            "Requirement already satisfied: param>=1.7.0 in /usr/local/lib/python3.7/dist-packages (from colorcet->umap-learn[plot]) (1.12.2)\n",
            "Requirement already satisfied: requests in /usr/local/lib/python3.7/dist-packages (from datashader->umap-learn[plot]) (2.23.0)\n",
            "Requirement already satisfied: xarray>=0.9.6 in /usr/local/lib/python3.7/dist-packages (from datashader->umap-learn[plot]) (0.20.2)\n",
            "Requirement already satisfied: dask[complete] in /usr/local/lib/python3.7/dist-packages (from datashader->umap-learn[plot]) (2022.2.0)\n",
            "Requirement already satisfied: datashape>=0.5.1 in /usr/local/lib/python3.7/dist-packages (from datashader->umap-learn[plot]) (0.5.2)\n",
            "Requirement already satisfied: multipledispatch>=0.4.7 in /usr/local/lib/python3.7/dist-packages (from datashape>=0.5.1->datashader->umap-learn[plot]) (0.6.0)\n",
            "Requirement already satisfied: pytz>=2017.3 in /usr/local/lib/python3.7/dist-packages (from pandas->umap-learn[plot]) (2022.2.1)\n",
            "Requirement already satisfied: cloudpickle>=1.1.1 in /usr/local/lib/python3.7/dist-packages (from dask[complete]->datashader->umap-learn[plot]) (1.5.0)\n",
            "Requirement already satisfied: toolz>=0.8.2 in /usr/local/lib/python3.7/dist-packages (from dask[complete]->datashader->umap-learn[plot]) (0.12.0)\n",
            "Requirement already satisfied: partd>=0.3.10 in /usr/local/lib/python3.7/dist-packages (from dask[complete]->datashader->umap-learn[plot]) (1.3.0)\n",
            "Requirement already satisfied: fsspec>=0.6.0 in /usr/local/lib/python3.7/dist-packages (from dask[complete]->datashader->umap-learn[plot]) (2022.7.1)\n",
            "Requirement already satisfied: distributed==2022.02.0 in /usr/local/lib/python3.7/dist-packages (from dask[complete]->datashader->umap-learn[plot]) (2022.2.0)\n",
            "Requirement already satisfied: psutil>=5.0 in /usr/local/lib/python3.7/dist-packages (from distributed==2022.02.0->dask[complete]->datashader->umap-learn[plot]) (5.4.8)\n",
            "Requirement already satisfied: sortedcontainers!=2.0.0,!=2.0.1 in /usr/local/lib/python3.7/dist-packages (from distributed==2022.02.0->dask[complete]->datashader->umap-learn[plot]) (2.4.0)\n",
            "Requirement already satisfied: click>=6.6 in /usr/local/lib/python3.7/dist-packages (from distributed==2022.02.0->dask[complete]->datashader->umap-learn[plot]) (7.1.2)\n",
            "Requirement already satisfied: tblib>=1.6.0 in /usr/local/lib/python3.7/dist-packages (from distributed==2022.02.0->dask[complete]->datashader->umap-learn[plot]) (1.7.0)\n",
            "Requirement already satisfied: zict>=0.1.3 in /usr/local/lib/python3.7/dist-packages (from distributed==2022.02.0->dask[complete]->datashader->umap-learn[plot]) (2.2.0)\n",
            "Requirement already satisfied: msgpack>=0.6.0 in /usr/local/lib/python3.7/dist-packages (from distributed==2022.02.0->dask[complete]->datashader->umap-learn[plot]) (1.0.4)\n",
            "Requirement already satisfied: locket in /usr/local/lib/python3.7/dist-packages (from partd>=0.3.10->dask[complete]->datashader->umap-learn[plot]) (1.0.0)\n",
            "Requirement already satisfied: heapdict in /usr/local/lib/python3.7/dist-packages (from zict>=0.1.3->distributed==2022.02.0->dask[complete]->datashader->umap-learn[plot]) (1.0.1)\n",
            "Requirement already satisfied: pyviz-comms>=0.7.4 in /usr/local/lib/python3.7/dist-packages (from holoviews->umap-learn[plot]) (2.2.0)\n",
            "Requirement already satisfied: panel>=0.8.0 in /usr/local/lib/python3.7/dist-packages (from holoviews->umap-learn[plot]) (0.12.1)\n",
            "Requirement already satisfied: markdown in /usr/local/lib/python3.7/dist-packages (from panel>=0.8.0->holoviews->umap-learn[plot]) (3.4.1)\n",
            "Requirement already satisfied: bleach in /usr/local/lib/python3.7/dist-packages (from panel>=0.8.0->holoviews->umap-learn[plot]) (5.0.1)\n",
            "Requirement already satisfied: webencodings in /usr/local/lib/python3.7/dist-packages (from bleach->panel>=0.8.0->holoviews->umap-learn[plot]) (0.5.1)\n",
            "Requirement already satisfied: zipp>=0.5 in /usr/local/lib/python3.7/dist-packages (from importlib-metadata->numba>=0.49->umap-learn[plot]) (3.8.1)\n",
            "Requirement already satisfied: cycler>=0.10 in /usr/local/lib/python3.7/dist-packages (from matplotlib->umap-learn[plot]) (0.11.0)\n",
            "Requirement already satisfied: kiwisolver>=1.0.1 in /usr/local/lib/python3.7/dist-packages (from matplotlib->umap-learn[plot]) (1.4.4)\n",
            "Requirement already satisfied: idna<3,>=2.5 in /usr/local/lib/python3.7/dist-packages (from requests->datashader->umap-learn[plot]) (2.10)\n",
            "Requirement already satisfied: certifi>=2017.4.17 in /usr/local/lib/python3.7/dist-packages (from requests->datashader->umap-learn[plot]) (2022.6.15)\n",
            "Requirement already satisfied: chardet<4,>=3.0.2 in /usr/local/lib/python3.7/dist-packages (from requests->datashader->umap-learn[plot]) (3.0.4)\n",
            "Requirement already satisfied: urllib3!=1.25.0,!=1.25.1,<1.26,>=1.21.1 in /usr/local/lib/python3.7/dist-packages (from requests->datashader->umap-learn[plot]) (1.24.3)\n",
            "Requirement already satisfied: tifffile>=2019.7.26 in /usr/local/lib/python3.7/dist-packages (from scikit-image->umap-learn[plot]) (2021.11.2)\n",
            "Requirement already satisfied: imageio>=2.3.0 in /usr/local/lib/python3.7/dist-packages (from scikit-image->umap-learn[plot]) (2.9.0)\n",
            "Requirement already satisfied: PyWavelets>=1.1.1 in /usr/local/lib/python3.7/dist-packages (from scikit-image->umap-learn[plot]) (1.3.0)\n",
            "Requirement already satisfied: networkx>=2.0 in /usr/local/lib/python3.7/dist-packages (from scikit-image->umap-learn[plot]) (2.6.3)\n",
            "Looking in indexes: https://pypi.org/simple, https://us-python.pkg.dev/colab-wheels/public/simple/\n",
            "Requirement already satisfied: contractions in /usr/local/lib/python3.7/dist-packages (0.1.72)\n",
            "Requirement already satisfied: textsearch>=0.0.21 in /usr/local/lib/python3.7/dist-packages (from contractions) (0.0.21)\n",
            "Requirement already satisfied: anyascii in /usr/local/lib/python3.7/dist-packages (from textsearch>=0.0.21->contractions) (0.3.1)\n",
            "Requirement already satisfied: pyahocorasick in /usr/local/lib/python3.7/dist-packages (from textsearch>=0.0.21->contractions) (1.4.4)\n",
            "Looking in indexes: https://pypi.org/simple, https://us-python.pkg.dev/colab-wheels/public/simple/\n",
            "Requirement already satisfied: vaderSentiment in /usr/local/lib/python3.7/dist-packages (3.3.2)\n",
            "Requirement already satisfied: requests in /usr/local/lib/python3.7/dist-packages (from vaderSentiment) (2.23.0)\n",
            "Requirement already satisfied: urllib3!=1.25.0,!=1.25.1,<1.26,>=1.21.1 in /usr/local/lib/python3.7/dist-packages (from requests->vaderSentiment) (1.24.3)\n",
            "Requirement already satisfied: idna<3,>=2.5 in /usr/local/lib/python3.7/dist-packages (from requests->vaderSentiment) (2.10)\n",
            "Requirement already satisfied: chardet<4,>=3.0.2 in /usr/local/lib/python3.7/dist-packages (from requests->vaderSentiment) (3.0.4)\n",
            "Requirement already satisfied: certifi>=2017.4.17 in /usr/local/lib/python3.7/dist-packages (from requests->vaderSentiment) (2022.6.15)\n"
          ]
        }
      ],
      "source": [
        "# Installing Wordcloud\n",
        "!pip install wordcloud\n",
        "!pip install umap-learn[plot]\n",
        "!pip install contractions\n",
        "!pip install vaderSentiment"
      ]
    },
    {
      "cell_type": "code",
      "execution_count": 5,
      "metadata": {
        "id": "4baea81a",
        "colab": {
          "base_uri": "https://localhost:8080/"
        },
        "outputId": "5b3295ad-87d0-4def-fdba-698b86f2bc8c"
      },
      "outputs": [
        {
          "output_type": "stream",
          "name": "stderr",
          "text": [
            "[nltk_data] Downloading package punkt to /root/nltk_data...\n",
            "[nltk_data]   Package punkt is already up-to-date!\n",
            "[nltk_data] Downloading package stopwords to /root/nltk_data...\n",
            "[nltk_data]   Package stopwords is already up-to-date!\n",
            "[nltk_data] Downloading package wordnet to /root/nltk_data...\n",
            "[nltk_data]   Package wordnet is already up-to-date!\n"
          ]
        },
        {
          "output_type": "execute_result",
          "data": {
            "text/plain": [
              "True"
            ]
          },
          "metadata": {},
          "execution_count": 5
        }
      ],
      "source": [
        "import re, nltk\n",
        "nltk.download('punkt')\n",
        "nltk.download('stopwords')\n",
        "nltk.download('wordnet')"
      ],
      "id": "4baea81a"
    },
    {
      "cell_type": "code",
      "execution_count": 6,
      "metadata": {
        "id": "d1ad49ff"
      },
      "outputs": [],
      "source": [
        "from bs4 import BeautifulSoup\n",
        "from nltk.stem import WordNetLemmatizer\n",
        "from nltk.corpus import stopwords\n",
        "from sklearn.feature_extraction.text import TfidfVectorizer\n"
      ],
      "id": "d1ad49ff"
    },
    {
      "cell_type": "code",
      "execution_count": 7,
      "metadata": {
        "id": "d342c78f"
      },
      "outputs": [],
      "source": [
        "import umap\n",
        "import plotly.graph_objs as go\n",
        "import plotly.figure_factory as ff\n"
      ],
      "id": "d342c78f"
    },
    {
      "cell_type": "code",
      "execution_count": 8,
      "metadata": {
        "id": "f1462e2d"
      },
      "outputs": [],
      "source": [
        "# Importing the libraries\n",
        "import numpy as np\n",
        "import pandas as pd\n",
        "import seaborn as sns\n",
        "import matplotlib.pyplot as plt\n",
        "from sklearn.metrics import classification_report"
      ],
      "id": "f1462e2d"
    },
    {
      "cell_type": "code",
      "execution_count": 9,
      "metadata": {
        "id": "9c20fd03",
        "colab": {
          "base_uri": "https://localhost:8080/"
        },
        "outputId": "d92bb494-24f9-4b21-fcbf-b16461335d0c"
      },
      "outputs": [
        {
          "output_type": "stream",
          "name": "stderr",
          "text": [
            "[nltk_data] Downloading package omw-1.4 to /root/nltk_data...\n",
            "[nltk_data]   Package omw-1.4 is already up-to-date!\n"
          ]
        },
        {
          "output_type": "execute_result",
          "data": {
            "text/plain": [
              "True"
            ]
          },
          "metadata": {},
          "execution_count": 9
        }
      ],
      "source": [
        "import nltk\n",
        "nltk.download('omw-1.4')"
      ],
      "id": "9c20fd03"
    },
    {
      "cell_type": "code",
      "source": [
        "import random\n",
        "import copy\n",
        "import time\n",
        "import pandas as pd\n",
        "import numpy as np\n",
        "import gc\n",
        "import re\n",
        "import torch\n",
        "import contractions\n"
      ],
      "metadata": {
        "id": "sPeWJsJYKKA5"
      },
      "execution_count": 10,
      "outputs": [],
      "id": "sPeWJsJYKKA5"
    },
    {
      "cell_type": "code",
      "source": [
        "#import spacy\n",
        "from tqdm import tqdm_notebook, tnrange\n",
        "from tqdm.auto import tqdm\n"
      ],
      "metadata": {
        "id": "03XjUd2qKLsS"
      },
      "execution_count": 11,
      "outputs": [],
      "id": "03XjUd2qKLsS"
    },
    {
      "cell_type": "code",
      "source": [
        "tqdm.pandas(desc='Progress')\n",
        "from collections import Counter\n"
      ],
      "metadata": {
        "id": "-WyOa-9WKN5b"
      },
      "execution_count": 12,
      "outputs": [],
      "id": "-WyOa-9WKN5b"
    },
    {
      "cell_type": "code",
      "source": [
        "from nltk import word_tokenize\n"
      ],
      "metadata": {
        "id": "aE8IJYhRKPFW"
      },
      "execution_count": 13,
      "outputs": [],
      "id": "aE8IJYhRKPFW"
    },
    {
      "cell_type": "code",
      "source": [
        "import torch.nn as nn\n",
        "import torch.optim as optim\n",
        "import torch.nn.functional as F\n",
        "from torch.utils.data import Dataset, DataLoader\n",
        "from torch.nn.utils.rnn import pack_padded_sequence, pad_packed_sequence\n",
        "from torch.autograd import Variable\n",
        "from sklearn.metrics import f1_score\n",
        "import os \n"
      ],
      "metadata": {
        "id": "_ZJ_jyGCKQwY"
      },
      "execution_count": 14,
      "outputs": [],
      "id": "_ZJ_jyGCKQwY"
    },
    {
      "cell_type": "code",
      "source": [
        "from keras.preprocessing.text import Tokenizer\n",
        "from keras_preprocessing.sequence import pad_sequences\n"
      ],
      "metadata": {
        "id": "BlWU65tNKSX0"
      },
      "execution_count": 15,
      "outputs": [],
      "id": "BlWU65tNKSX0"
    },
    {
      "cell_type": "code",
      "source": [
        "# cross validation and metrics\n",
        "from sklearn.model_selection import StratifiedKFold\n",
        "from sklearn.metrics import f1_score, accuracy_score\n",
        "from torch.optim.optimizer import Optimizer\n"
      ],
      "metadata": {
        "id": "Bj61xuUCKTkO"
      },
      "execution_count": 16,
      "outputs": [],
      "id": "Bj61xuUCKTkO"
    },
    {
      "cell_type": "code",
      "source": [
        "from sklearn.preprocessing import StandardScaler\n",
        "from multiprocessing import  Pool\n",
        "from functools import partial\n",
        "import numpy as np\n",
        "from sklearn.decomposition import PCA\n",
        "import torch as t\n",
        "import torch.nn as nn\n",
        "import torch.nn.functional as F\n"
      ],
      "metadata": {
        "id": "pkqjgHHmKUlU"
      },
      "execution_count": 17,
      "outputs": [],
      "id": "pkqjgHHmKUlU"
    },
    {
      "cell_type": "code",
      "source": [
        "import matplotlib.pyplot as plt\n"
      ],
      "metadata": {
        "id": "6vwb8xmMKVe1"
      },
      "execution_count": 18,
      "outputs": [],
      "id": "6vwb8xmMKVe1"
    },
    {
      "cell_type": "code",
      "source": [
        "from vaderSentiment.vaderSentiment import SentimentIntensityAnalyzer\n",
        "from textblob import TextBlob\n"
      ],
      "metadata": {
        "id": "_nqvAbaoKWp8"
      },
      "execution_count": 19,
      "outputs": [],
      "id": "_nqvAbaoKWp8"
    },
    {
      "cell_type": "code",
      "source": [
        "import nltk\n",
        "from nltk.stem import WordNetLemmatizer\n",
        "from nltk.corpus import stopwords\n"
      ],
      "metadata": {
        "id": "rMta9RweKXmY"
      },
      "execution_count": 20,
      "outputs": [],
      "id": "rMta9RweKXmY"
    },
    {
      "cell_type": "code",
      "source": [
        "# Preprocessing and evaluation\n",
        "from nltk.corpus import stopwords\n",
        "from nltk.stem.snowball import SnowballStemmer\n",
        "from nltk.stem.wordnet import WordNetLemmatizer\n",
        "from sklearn.model_selection import train_test_split, StratifiedKFold, cross_val_score\n",
        "from sklearn.preprocessing import LabelBinarizer\n",
        "from sklearn.feature_extraction.text import TfidfVectorizer\n",
        "from sklearn.metrics import confusion_matrix, classification_report\n",
        "from tensorflow.keras.preprocessing.text import Tokenizer\n",
        "from tensorflow.keras.preprocessing.sequence import pad_sequences\n",
        "from tensorflow.keras.regularizers import l1, l2\n"
      ],
      "metadata": {
        "id": "HzFrHgwIKaJ5"
      },
      "execution_count": 21,
      "outputs": [],
      "id": "HzFrHgwIKaJ5"
    },
    {
      "cell_type": "code",
      "source": [
        "# Models\n",
        "from sklearn.tree import DecisionTreeClassifier\n",
        "from sklearn.ensemble import RandomForestClassifier\n",
        "from sklearn.svm import SVC\n",
        "from sklearn.linear_model import LogisticRegression\n",
        "from sklearn.neighbors import KNeighborsClassifier\n",
        "from sklearn.naive_bayes import BernoulliNB\n"
      ],
      "metadata": {
        "id": "1ceC2T24KbHd"
      },
      "execution_count": 22,
      "outputs": [],
      "id": "1ceC2T24KbHd"
    },
    {
      "cell_type": "code",
      "execution_count": 23,
      "metadata": {
        "id": "87959274",
        "colab": {
          "base_uri": "https://localhost:8080/"
        },
        "outputId": "4ef8cda4-2e6e-41d4-f17d-5a0e9a53e735"
      },
      "outputs": [
        {
          "output_type": "stream",
          "name": "stderr",
          "text": [
            "[nltk_data] Downloading package stopwords to /root/nltk_data...\n",
            "[nltk_data]   Package stopwords is already up-to-date!\n"
          ]
        }
      ],
      "source": [
        "# Importing the NLKT library and the re (Regular Expression Library)\n",
        "import re\n",
        "import nltk\n",
        "nltk.download('stopwords')\n",
        "from nltk.corpus import stopwords\n",
        "from nltk.stem.porter import PorterStemmer"
      ],
      "id": "87959274"
    },
    {
      "cell_type": "code",
      "source": [
        "nltk.download('stopwords')\n",
        "stop_words=stopwords.words('english')\n",
        "nltk.download('punkt')\n",
        "nltk.download('wordnet')\n",
        "nltk.download('omw-1.4')"
      ],
      "metadata": {
        "colab": {
          "base_uri": "https://localhost:8080/"
        },
        "id": "tg-KhYNvm6dc",
        "outputId": "b58385e7-c695-4440-91a8-bebaf28aeebe"
      },
      "execution_count": 24,
      "outputs": [
        {
          "output_type": "stream",
          "name": "stderr",
          "text": [
            "[nltk_data] Downloading package stopwords to /root/nltk_data...\n",
            "[nltk_data]   Package stopwords is already up-to-date!\n",
            "[nltk_data] Downloading package punkt to /root/nltk_data...\n",
            "[nltk_data]   Package punkt is already up-to-date!\n",
            "[nltk_data] Downloading package wordnet to /root/nltk_data...\n",
            "[nltk_data]   Package wordnet is already up-to-date!\n",
            "[nltk_data] Downloading package omw-1.4 to /root/nltk_data...\n",
            "[nltk_data]   Package omw-1.4 is already up-to-date!\n"
          ]
        },
        {
          "output_type": "execute_result",
          "data": {
            "text/plain": [
              "True"
            ]
          },
          "metadata": {},
          "execution_count": 24
        }
      ],
      "id": "tg-KhYNvm6dc"
    },
    {
      "cell_type": "markdown",
      "source": [
        "# Importing Dataset"
      ],
      "metadata": {
        "id": "Jnzf7HJ60hUj"
      },
      "id": "Jnzf7HJ60hUj"
    },
    {
      "cell_type": "code",
      "source": [
        "# Mounting the dataset from Google Drive\n",
        "from google.colab import drive\n",
        "drive.mount('/content/drive')"
      ],
      "metadata": {
        "id": "Mk6a6q3cqmJz",
        "colab": {
          "base_uri": "https://localhost:8080/"
        },
        "outputId": "1c70c840-3380-44ef-8569-2ff191042a51"
      },
      "id": "Mk6a6q3cqmJz",
      "execution_count": 25,
      "outputs": [
        {
          "output_type": "stream",
          "name": "stdout",
          "text": [
            "Drive already mounted at /content/drive; to attempt to forcibly remount, call drive.mount(\"/content/drive\", force_remount=True).\n"
          ]
        }
      ]
    },
    {
      "cell_type": "code",
      "source": [
        "# # Reading the Dataset\n",
        "# dataset_path = \"/content/drive/MyDrive/Yelp/yelp_exported_data.csv\"\n",
        "# df1 = pd.read_csv(dataset_path)\n",
        "# df1.head()"
      ],
      "metadata": {
        "id": "k3k04ux0qrdy"
      },
      "id": "k3k04ux0qrdy",
      "execution_count": 26,
      "outputs": []
    },
    {
      "cell_type": "code",
      "source": [
        "# Reading the Dataset\n",
        "dataset_path = \"/content/drive/MyDrive/Yelp/yelp_short.csv\"\n",
        "df1 = pd.read_csv(dataset_path)\n",
        "df1.head()"
      ],
      "metadata": {
        "colab": {
          "base_uri": "https://localhost:8080/",
          "height": 647
        },
        "id": "D-TuGKvBLWVJ",
        "outputId": "998af8cd-5f75-438c-b57b-06f68f38997f"
      },
      "id": "D-TuGKvBLWVJ",
      "execution_count": 27,
      "outputs": [
        {
          "output_type": "execute_result",
          "data": {
            "text/plain": [
              "              business_id         name            address     city state  \\\n",
              "0  __4gkf_0UJW78rkRzFm6Gw  Cafe Baladi  235 Lancaster Ave  Malvern    PA   \n",
              "1  __4gkf_0UJW78rkRzFm6Gw  Cafe Baladi  235 Lancaster Ave  Malvern    PA   \n",
              "2  __4gkf_0UJW78rkRzFm6Gw  Cafe Baladi  235 Lancaster Ave  Malvern    PA   \n",
              "3  __4gkf_0UJW78rkRzFm6Gw  Cafe Baladi  235 Lancaster Ave  Malvern    PA   \n",
              "4  __4gkf_0UJW78rkRzFm6Gw  Cafe Baladi  235 Lancaster Ave  Malvern    PA   \n",
              "\n",
              "  postal_code   latitude  longitude               review_id  \\\n",
              "0       19355  40.041639 -75.542839  _E2O5L5ctiaflhsiSwc9YA   \n",
              "1       19355  40.041639 -75.542839  1_T7H2P_nXLZLuBx0XnPEw   \n",
              "2       19355  40.041639 -75.542839  4tzZJ0944xcB8_zvlcEH8w   \n",
              "3       19355  40.041639 -75.542839  5gbzmvaz2aOm8EOQ6KGRoA   \n",
              "4       19355  40.041639 -75.542839  7nT2CE2BQ-t4LUaCgwRumg   \n",
              "\n",
              "                  user_id  ...  GoodForKids  RestaurantsAttire  \\\n",
              "0  nRpUQsLfGWBJ8u7gcj6qzA  ...          NaN          u'casual'   \n",
              "1  P_7Z-oyITGuwUCHebuzOWg  ...          NaN          u'casual'   \n",
              "2  EbniZcxeObHqwFBWRztGpg  ...          NaN          u'casual'   \n",
              "3  AxxvuAg0sY5j6EaDCWK8ag  ...          NaN          u'casual'   \n",
              "4  mJ4y3xaU1TyVW4eOaVkv0w  ...          NaN          u'casual'   \n",
              "\n",
              "                                            Ambience RestaurantsTableService  \\\n",
              "0  {'touristy': None, 'hipster': None, 'romantic'...                    True   \n",
              "1  {'touristy': None, 'hipster': None, 'romantic'...                    True   \n",
              "2  {'touristy': None, 'hipster': None, 'romantic'...                    True   \n",
              "3  {'touristy': None, 'hipster': None, 'romantic'...                    True   \n",
              "4  {'touristy': None, 'hipster': None, 'romantic'...                    True   \n",
              "\n",
              "   DriveThru  NoiseLevel  RestaurantsGoodForGroups  \\\n",
              "0        NaN         NaN                       NaN   \n",
              "1        NaN         NaN                       NaN   \n",
              "2        NaN         NaN                       NaN   \n",
              "3        NaN         NaN                       NaN   \n",
              "4        NaN         NaN                       NaN   \n",
              "\n",
              "                                         GoodForMeal            categories  \\\n",
              "0  {'dessert': False, 'latenight': False, 'lunch'...  Mediterranean, Halal   \n",
              "1  {'dessert': False, 'latenight': False, 'lunch'...  Mediterranean, Halal   \n",
              "2  {'dessert': False, 'latenight': False, 'lunch'...  Mediterranean, Halal   \n",
              "3  {'dessert': False, 'latenight': False, 'lunch'...  Mediterranean, Halal   \n",
              "4  {'dessert': False, 'latenight': False, 'lunch'...  Mediterranean, Halal   \n",
              "\n",
              "  hours  \n",
              "0   NaN  \n",
              "1   NaN  \n",
              "2   NaN  \n",
              "3   NaN  \n",
              "4   NaN  \n",
              "\n",
              "[5 rows x 45 columns]"
            ],
            "text/html": [
              "\n",
              "  <div id=\"df-4299e7ac-0be2-4850-8bd9-a3ad26faa6b8\">\n",
              "    <div class=\"colab-df-container\">\n",
              "      <div>\n",
              "<style scoped>\n",
              "    .dataframe tbody tr th:only-of-type {\n",
              "        vertical-align: middle;\n",
              "    }\n",
              "\n",
              "    .dataframe tbody tr th {\n",
              "        vertical-align: top;\n",
              "    }\n",
              "\n",
              "    .dataframe thead th {\n",
              "        text-align: right;\n",
              "    }\n",
              "</style>\n",
              "<table border=\"1\" class=\"dataframe\">\n",
              "  <thead>\n",
              "    <tr style=\"text-align: right;\">\n",
              "      <th></th>\n",
              "      <th>business_id</th>\n",
              "      <th>name</th>\n",
              "      <th>address</th>\n",
              "      <th>city</th>\n",
              "      <th>state</th>\n",
              "      <th>postal_code</th>\n",
              "      <th>latitude</th>\n",
              "      <th>longitude</th>\n",
              "      <th>review_id</th>\n",
              "      <th>user_id</th>\n",
              "      <th>...</th>\n",
              "      <th>GoodForKids</th>\n",
              "      <th>RestaurantsAttire</th>\n",
              "      <th>Ambience</th>\n",
              "      <th>RestaurantsTableService</th>\n",
              "      <th>DriveThru</th>\n",
              "      <th>NoiseLevel</th>\n",
              "      <th>RestaurantsGoodForGroups</th>\n",
              "      <th>GoodForMeal</th>\n",
              "      <th>categories</th>\n",
              "      <th>hours</th>\n",
              "    </tr>\n",
              "  </thead>\n",
              "  <tbody>\n",
              "    <tr>\n",
              "      <th>0</th>\n",
              "      <td>__4gkf_0UJW78rkRzFm6Gw</td>\n",
              "      <td>Cafe Baladi</td>\n",
              "      <td>235 Lancaster Ave</td>\n",
              "      <td>Malvern</td>\n",
              "      <td>PA</td>\n",
              "      <td>19355</td>\n",
              "      <td>40.041639</td>\n",
              "      <td>-75.542839</td>\n",
              "      <td>_E2O5L5ctiaflhsiSwc9YA</td>\n",
              "      <td>nRpUQsLfGWBJ8u7gcj6qzA</td>\n",
              "      <td>...</td>\n",
              "      <td>NaN</td>\n",
              "      <td>u'casual'</td>\n",
              "      <td>{'touristy': None, 'hipster': None, 'romantic'...</td>\n",
              "      <td>True</td>\n",
              "      <td>NaN</td>\n",
              "      <td>NaN</td>\n",
              "      <td>NaN</td>\n",
              "      <td>{'dessert': False, 'latenight': False, 'lunch'...</td>\n",
              "      <td>Mediterranean, Halal</td>\n",
              "      <td>NaN</td>\n",
              "    </tr>\n",
              "    <tr>\n",
              "      <th>1</th>\n",
              "      <td>__4gkf_0UJW78rkRzFm6Gw</td>\n",
              "      <td>Cafe Baladi</td>\n",
              "      <td>235 Lancaster Ave</td>\n",
              "      <td>Malvern</td>\n",
              "      <td>PA</td>\n",
              "      <td>19355</td>\n",
              "      <td>40.041639</td>\n",
              "      <td>-75.542839</td>\n",
              "      <td>1_T7H2P_nXLZLuBx0XnPEw</td>\n",
              "      <td>P_7Z-oyITGuwUCHebuzOWg</td>\n",
              "      <td>...</td>\n",
              "      <td>NaN</td>\n",
              "      <td>u'casual'</td>\n",
              "      <td>{'touristy': None, 'hipster': None, 'romantic'...</td>\n",
              "      <td>True</td>\n",
              "      <td>NaN</td>\n",
              "      <td>NaN</td>\n",
              "      <td>NaN</td>\n",
              "      <td>{'dessert': False, 'latenight': False, 'lunch'...</td>\n",
              "      <td>Mediterranean, Halal</td>\n",
              "      <td>NaN</td>\n",
              "    </tr>\n",
              "    <tr>\n",
              "      <th>2</th>\n",
              "      <td>__4gkf_0UJW78rkRzFm6Gw</td>\n",
              "      <td>Cafe Baladi</td>\n",
              "      <td>235 Lancaster Ave</td>\n",
              "      <td>Malvern</td>\n",
              "      <td>PA</td>\n",
              "      <td>19355</td>\n",
              "      <td>40.041639</td>\n",
              "      <td>-75.542839</td>\n",
              "      <td>4tzZJ0944xcB8_zvlcEH8w</td>\n",
              "      <td>EbniZcxeObHqwFBWRztGpg</td>\n",
              "      <td>...</td>\n",
              "      <td>NaN</td>\n",
              "      <td>u'casual'</td>\n",
              "      <td>{'touristy': None, 'hipster': None, 'romantic'...</td>\n",
              "      <td>True</td>\n",
              "      <td>NaN</td>\n",
              "      <td>NaN</td>\n",
              "      <td>NaN</td>\n",
              "      <td>{'dessert': False, 'latenight': False, 'lunch'...</td>\n",
              "      <td>Mediterranean, Halal</td>\n",
              "      <td>NaN</td>\n",
              "    </tr>\n",
              "    <tr>\n",
              "      <th>3</th>\n",
              "      <td>__4gkf_0UJW78rkRzFm6Gw</td>\n",
              "      <td>Cafe Baladi</td>\n",
              "      <td>235 Lancaster Ave</td>\n",
              "      <td>Malvern</td>\n",
              "      <td>PA</td>\n",
              "      <td>19355</td>\n",
              "      <td>40.041639</td>\n",
              "      <td>-75.542839</td>\n",
              "      <td>5gbzmvaz2aOm8EOQ6KGRoA</td>\n",
              "      <td>AxxvuAg0sY5j6EaDCWK8ag</td>\n",
              "      <td>...</td>\n",
              "      <td>NaN</td>\n",
              "      <td>u'casual'</td>\n",
              "      <td>{'touristy': None, 'hipster': None, 'romantic'...</td>\n",
              "      <td>True</td>\n",
              "      <td>NaN</td>\n",
              "      <td>NaN</td>\n",
              "      <td>NaN</td>\n",
              "      <td>{'dessert': False, 'latenight': False, 'lunch'...</td>\n",
              "      <td>Mediterranean, Halal</td>\n",
              "      <td>NaN</td>\n",
              "    </tr>\n",
              "    <tr>\n",
              "      <th>4</th>\n",
              "      <td>__4gkf_0UJW78rkRzFm6Gw</td>\n",
              "      <td>Cafe Baladi</td>\n",
              "      <td>235 Lancaster Ave</td>\n",
              "      <td>Malvern</td>\n",
              "      <td>PA</td>\n",
              "      <td>19355</td>\n",
              "      <td>40.041639</td>\n",
              "      <td>-75.542839</td>\n",
              "      <td>7nT2CE2BQ-t4LUaCgwRumg</td>\n",
              "      <td>mJ4y3xaU1TyVW4eOaVkv0w</td>\n",
              "      <td>...</td>\n",
              "      <td>NaN</td>\n",
              "      <td>u'casual'</td>\n",
              "      <td>{'touristy': None, 'hipster': None, 'romantic'...</td>\n",
              "      <td>True</td>\n",
              "      <td>NaN</td>\n",
              "      <td>NaN</td>\n",
              "      <td>NaN</td>\n",
              "      <td>{'dessert': False, 'latenight': False, 'lunch'...</td>\n",
              "      <td>Mediterranean, Halal</td>\n",
              "      <td>NaN</td>\n",
              "    </tr>\n",
              "  </tbody>\n",
              "</table>\n",
              "<p>5 rows × 45 columns</p>\n",
              "</div>\n",
              "      <button class=\"colab-df-convert\" onclick=\"convertToInteractive('df-4299e7ac-0be2-4850-8bd9-a3ad26faa6b8')\"\n",
              "              title=\"Convert this dataframe to an interactive table.\"\n",
              "              style=\"display:none;\">\n",
              "        \n",
              "  <svg xmlns=\"http://www.w3.org/2000/svg\" height=\"24px\"viewBox=\"0 0 24 24\"\n",
              "       width=\"24px\">\n",
              "    <path d=\"M0 0h24v24H0V0z\" fill=\"none\"/>\n",
              "    <path d=\"M18.56 5.44l.94 2.06.94-2.06 2.06-.94-2.06-.94-.94-2.06-.94 2.06-2.06.94zm-11 1L8.5 8.5l.94-2.06 2.06-.94-2.06-.94L8.5 2.5l-.94 2.06-2.06.94zm10 10l.94 2.06.94-2.06 2.06-.94-2.06-.94-.94-2.06-.94 2.06-2.06.94z\"/><path d=\"M17.41 7.96l-1.37-1.37c-.4-.4-.92-.59-1.43-.59-.52 0-1.04.2-1.43.59L10.3 9.45l-7.72 7.72c-.78.78-.78 2.05 0 2.83L4 21.41c.39.39.9.59 1.41.59.51 0 1.02-.2 1.41-.59l7.78-7.78 2.81-2.81c.8-.78.8-2.07 0-2.86zM5.41 20L4 18.59l7.72-7.72 1.47 1.35L5.41 20z\"/>\n",
              "  </svg>\n",
              "      </button>\n",
              "      \n",
              "  <style>\n",
              "    .colab-df-container {\n",
              "      display:flex;\n",
              "      flex-wrap:wrap;\n",
              "      gap: 12px;\n",
              "    }\n",
              "\n",
              "    .colab-df-convert {\n",
              "      background-color: #E8F0FE;\n",
              "      border: none;\n",
              "      border-radius: 50%;\n",
              "      cursor: pointer;\n",
              "      display: none;\n",
              "      fill: #1967D2;\n",
              "      height: 32px;\n",
              "      padding: 0 0 0 0;\n",
              "      width: 32px;\n",
              "    }\n",
              "\n",
              "    .colab-df-convert:hover {\n",
              "      background-color: #E2EBFA;\n",
              "      box-shadow: 0px 1px 2px rgba(60, 64, 67, 0.3), 0px 1px 3px 1px rgba(60, 64, 67, 0.15);\n",
              "      fill: #174EA6;\n",
              "    }\n",
              "\n",
              "    [theme=dark] .colab-df-convert {\n",
              "      background-color: #3B4455;\n",
              "      fill: #D2E3FC;\n",
              "    }\n",
              "\n",
              "    [theme=dark] .colab-df-convert:hover {\n",
              "      background-color: #434B5C;\n",
              "      box-shadow: 0px 1px 3px 1px rgba(0, 0, 0, 0.15);\n",
              "      filter: drop-shadow(0px 1px 2px rgba(0, 0, 0, 0.3));\n",
              "      fill: #FFFFFF;\n",
              "    }\n",
              "  </style>\n",
              "\n",
              "      <script>\n",
              "        const buttonEl =\n",
              "          document.querySelector('#df-4299e7ac-0be2-4850-8bd9-a3ad26faa6b8 button.colab-df-convert');\n",
              "        buttonEl.style.display =\n",
              "          google.colab.kernel.accessAllowed ? 'block' : 'none';\n",
              "\n",
              "        async function convertToInteractive(key) {\n",
              "          const element = document.querySelector('#df-4299e7ac-0be2-4850-8bd9-a3ad26faa6b8');\n",
              "          const dataTable =\n",
              "            await google.colab.kernel.invokeFunction('convertToInteractive',\n",
              "                                                     [key], {});\n",
              "          if (!dataTable) return;\n",
              "\n",
              "          const docLinkHtml = 'Like what you see? Visit the ' +\n",
              "            '<a target=\"_blank\" href=https://colab.research.google.com/notebooks/data_table.ipynb>data table notebook</a>'\n",
              "            + ' to learn more about interactive tables.';\n",
              "          element.innerHTML = '';\n",
              "          dataTable['output_type'] = 'display_data';\n",
              "          await google.colab.output.renderOutput(dataTable, element);\n",
              "          const docLink = document.createElement('div');\n",
              "          docLink.innerHTML = docLinkHtml;\n",
              "          element.appendChild(docLink);\n",
              "        }\n",
              "      </script>\n",
              "    </div>\n",
              "  </div>\n",
              "  "
            ]
          },
          "metadata": {},
          "execution_count": 27
        }
      ]
    },
    {
      "cell_type": "code",
      "execution_count": 28,
      "id": "1571b31f",
      "metadata": {
        "id": "1571b31f"
      },
      "outputs": [],
      "source": [
        "# # Reading the Dataset\n",
        "# dataset_path = \"D:\\\\IMPDATA\\\\Desktop\\\\Users\\\\Mehta\\\\DBS\\\\yelp\\\\yelp_short.csv\"\n",
        "# df1 = pd.read_csv(dataset_path)\n",
        "# df1.head()"
      ]
    },
    {
      "cell_type": "code",
      "execution_count": 29,
      "id": "30178ba7",
      "metadata": {
        "id": "30178ba7"
      },
      "outputs": [],
      "source": [
        "# # Display statistical data on the numeric attributes\n",
        "# df1.describe()"
      ]
    },
    {
      "cell_type": "code",
      "execution_count": 30,
      "id": "64af1426",
      "metadata": {
        "id": "64af1426"
      },
      "outputs": [],
      "source": [
        "# # Display the columns and their data type\n",
        "# df1.info()"
      ]
    },
    {
      "cell_type": "markdown",
      "source": [
        "# New Data frame - Data : Stars & Reviews\n"
      ],
      "metadata": {
        "id": "-AKHAGxk0q_5"
      },
      "id": "-AKHAGxk0q_5"
    },
    {
      "cell_type": "code",
      "execution_count": 31,
      "id": "d8109733",
      "metadata": {
        "id": "d8109733",
        "colab": {
          "base_uri": "https://localhost:8080/",
          "height": 206
        },
        "outputId": "ff8596dd-4799-4f54-c65a-f605ca0c6cfa"
      },
      "outputs": [
        {
          "output_type": "execute_result",
          "data": {
            "text/plain": [
              "   stars                                               text\n",
              "0      4  This is the second time I visit this place so ...\n",
              "1      5  I had the schwarma with lamb at Cafe Baladi. I...\n",
              "2      5  Simple the best!. Homemade food quality. If yo...\n",
              "3      5  My husband and I each had the \"red platter\" fo...\n",
              "4      2  Just less than average. Very very salty food. ..."
            ],
            "text/html": [
              "\n",
              "  <div id=\"df-45e91b3d-9f76-417a-97f5-dd1c1f0f1f88\">\n",
              "    <div class=\"colab-df-container\">\n",
              "      <div>\n",
              "<style scoped>\n",
              "    .dataframe tbody tr th:only-of-type {\n",
              "        vertical-align: middle;\n",
              "    }\n",
              "\n",
              "    .dataframe tbody tr th {\n",
              "        vertical-align: top;\n",
              "    }\n",
              "\n",
              "    .dataframe thead th {\n",
              "        text-align: right;\n",
              "    }\n",
              "</style>\n",
              "<table border=\"1\" class=\"dataframe\">\n",
              "  <thead>\n",
              "    <tr style=\"text-align: right;\">\n",
              "      <th></th>\n",
              "      <th>stars</th>\n",
              "      <th>text</th>\n",
              "    </tr>\n",
              "  </thead>\n",
              "  <tbody>\n",
              "    <tr>\n",
              "      <th>0</th>\n",
              "      <td>4</td>\n",
              "      <td>This is the second time I visit this place so ...</td>\n",
              "    </tr>\n",
              "    <tr>\n",
              "      <th>1</th>\n",
              "      <td>5</td>\n",
              "      <td>I had the schwarma with lamb at Cafe Baladi. I...</td>\n",
              "    </tr>\n",
              "    <tr>\n",
              "      <th>2</th>\n",
              "      <td>5</td>\n",
              "      <td>Simple the best!. Homemade food quality. If yo...</td>\n",
              "    </tr>\n",
              "    <tr>\n",
              "      <th>3</th>\n",
              "      <td>5</td>\n",
              "      <td>My husband and I each had the \"red platter\" fo...</td>\n",
              "    </tr>\n",
              "    <tr>\n",
              "      <th>4</th>\n",
              "      <td>2</td>\n",
              "      <td>Just less than average. Very very salty food. ...</td>\n",
              "    </tr>\n",
              "  </tbody>\n",
              "</table>\n",
              "</div>\n",
              "      <button class=\"colab-df-convert\" onclick=\"convertToInteractive('df-45e91b3d-9f76-417a-97f5-dd1c1f0f1f88')\"\n",
              "              title=\"Convert this dataframe to an interactive table.\"\n",
              "              style=\"display:none;\">\n",
              "        \n",
              "  <svg xmlns=\"http://www.w3.org/2000/svg\" height=\"24px\"viewBox=\"0 0 24 24\"\n",
              "       width=\"24px\">\n",
              "    <path d=\"M0 0h24v24H0V0z\" fill=\"none\"/>\n",
              "    <path d=\"M18.56 5.44l.94 2.06.94-2.06 2.06-.94-2.06-.94-.94-2.06-.94 2.06-2.06.94zm-11 1L8.5 8.5l.94-2.06 2.06-.94-2.06-.94L8.5 2.5l-.94 2.06-2.06.94zm10 10l.94 2.06.94-2.06 2.06-.94-2.06-.94-.94-2.06-.94 2.06-2.06.94z\"/><path d=\"M17.41 7.96l-1.37-1.37c-.4-.4-.92-.59-1.43-.59-.52 0-1.04.2-1.43.59L10.3 9.45l-7.72 7.72c-.78.78-.78 2.05 0 2.83L4 21.41c.39.39.9.59 1.41.59.51 0 1.02-.2 1.41-.59l7.78-7.78 2.81-2.81c.8-.78.8-2.07 0-2.86zM5.41 20L4 18.59l7.72-7.72 1.47 1.35L5.41 20z\"/>\n",
              "  </svg>\n",
              "      </button>\n",
              "      \n",
              "  <style>\n",
              "    .colab-df-container {\n",
              "      display:flex;\n",
              "      flex-wrap:wrap;\n",
              "      gap: 12px;\n",
              "    }\n",
              "\n",
              "    .colab-df-convert {\n",
              "      background-color: #E8F0FE;\n",
              "      border: none;\n",
              "      border-radius: 50%;\n",
              "      cursor: pointer;\n",
              "      display: none;\n",
              "      fill: #1967D2;\n",
              "      height: 32px;\n",
              "      padding: 0 0 0 0;\n",
              "      width: 32px;\n",
              "    }\n",
              "\n",
              "    .colab-df-convert:hover {\n",
              "      background-color: #E2EBFA;\n",
              "      box-shadow: 0px 1px 2px rgba(60, 64, 67, 0.3), 0px 1px 3px 1px rgba(60, 64, 67, 0.15);\n",
              "      fill: #174EA6;\n",
              "    }\n",
              "\n",
              "    [theme=dark] .colab-df-convert {\n",
              "      background-color: #3B4455;\n",
              "      fill: #D2E3FC;\n",
              "    }\n",
              "\n",
              "    [theme=dark] .colab-df-convert:hover {\n",
              "      background-color: #434B5C;\n",
              "      box-shadow: 0px 1px 3px 1px rgba(0, 0, 0, 0.15);\n",
              "      filter: drop-shadow(0px 1px 2px rgba(0, 0, 0, 0.3));\n",
              "      fill: #FFFFFF;\n",
              "    }\n",
              "  </style>\n",
              "\n",
              "      <script>\n",
              "        const buttonEl =\n",
              "          document.querySelector('#df-45e91b3d-9f76-417a-97f5-dd1c1f0f1f88 button.colab-df-convert');\n",
              "        buttonEl.style.display =\n",
              "          google.colab.kernel.accessAllowed ? 'block' : 'none';\n",
              "\n",
              "        async function convertToInteractive(key) {\n",
              "          const element = document.querySelector('#df-45e91b3d-9f76-417a-97f5-dd1c1f0f1f88');\n",
              "          const dataTable =\n",
              "            await google.colab.kernel.invokeFunction('convertToInteractive',\n",
              "                                                     [key], {});\n",
              "          if (!dataTable) return;\n",
              "\n",
              "          const docLinkHtml = 'Like what you see? Visit the ' +\n",
              "            '<a target=\"_blank\" href=https://colab.research.google.com/notebooks/data_table.ipynb>data table notebook</a>'\n",
              "            + ' to learn more about interactive tables.';\n",
              "          element.innerHTML = '';\n",
              "          dataTable['output_type'] = 'display_data';\n",
              "          await google.colab.output.renderOutput(dataTable, element);\n",
              "          const docLink = document.createElement('div');\n",
              "          docLink.innerHTML = docLinkHtml;\n",
              "          element.appendChild(docLink);\n",
              "        }\n",
              "      </script>\n",
              "    </div>\n",
              "  </div>\n",
              "  "
            ]
          },
          "metadata": {},
          "execution_count": 31
        }
      ],
      "source": [
        "# Take only the review rating column - 'stars' and the review text column - 'text'\n",
        "data = df1[['stars','text']]\n",
        "data.head()"
      ]
    },
    {
      "cell_type": "code",
      "execution_count": 32,
      "id": "f5c37707",
      "metadata": {
        "id": "f5c37707"
      },
      "outputs": [],
      "source": [
        "# # Check for missing data\n",
        "# data.isnull().any()"
      ]
    },
    {
      "cell_type": "code",
      "execution_count": 33,
      "id": "dd864184",
      "metadata": {
        "id": "dd864184"
      },
      "outputs": [],
      "source": [
        "# # Check for missing data\n",
        "# data.isnull().sum()"
      ]
    },
    {
      "cell_type": "code",
      "execution_count": 34,
      "id": "d570a094",
      "metadata": {
        "id": "d570a094",
        "colab": {
          "base_uri": "https://localhost:8080/",
          "height": 424
        },
        "outputId": "f66f6049-51fd-41aa-a037-624069c715b5"
      },
      "outputs": [
        {
          "output_type": "execute_result",
          "data": {
            "text/plain": [
              "      stars                                               text\n",
              "0         4  This is the second time I visit this place so ...\n",
              "1         5  I had the schwarma with lamb at Cafe Baladi. I...\n",
              "2         5  Simple the best!. Homemade food quality. If yo...\n",
              "3         5  My husband and I each had the \"red platter\" fo...\n",
              "4         2  Just less than average. Very very salty food. ...\n",
              "...     ...                                                ...\n",
              "8874      1  By far the worst urgent care ever. Long waits ...\n",
              "8875      1  I was called in for an appointment and waited ...\n",
              "8876      1  The staff here are some of the most uneducated...\n",
              "8877      1  Went here yesterday for help with a bad virus ...\n",
              "8878      1  The staff are nice but this place is a waste o...\n",
              "\n",
              "[8879 rows x 2 columns]"
            ],
            "text/html": [
              "\n",
              "  <div id=\"df-ea4b288b-f213-4077-9a00-9ef66d99ddf1\">\n",
              "    <div class=\"colab-df-container\">\n",
              "      <div>\n",
              "<style scoped>\n",
              "    .dataframe tbody tr th:only-of-type {\n",
              "        vertical-align: middle;\n",
              "    }\n",
              "\n",
              "    .dataframe tbody tr th {\n",
              "        vertical-align: top;\n",
              "    }\n",
              "\n",
              "    .dataframe thead th {\n",
              "        text-align: right;\n",
              "    }\n",
              "</style>\n",
              "<table border=\"1\" class=\"dataframe\">\n",
              "  <thead>\n",
              "    <tr style=\"text-align: right;\">\n",
              "      <th></th>\n",
              "      <th>stars</th>\n",
              "      <th>text</th>\n",
              "    </tr>\n",
              "  </thead>\n",
              "  <tbody>\n",
              "    <tr>\n",
              "      <th>0</th>\n",
              "      <td>4</td>\n",
              "      <td>This is the second time I visit this place so ...</td>\n",
              "    </tr>\n",
              "    <tr>\n",
              "      <th>1</th>\n",
              "      <td>5</td>\n",
              "      <td>I had the schwarma with lamb at Cafe Baladi. I...</td>\n",
              "    </tr>\n",
              "    <tr>\n",
              "      <th>2</th>\n",
              "      <td>5</td>\n",
              "      <td>Simple the best!. Homemade food quality. If yo...</td>\n",
              "    </tr>\n",
              "    <tr>\n",
              "      <th>3</th>\n",
              "      <td>5</td>\n",
              "      <td>My husband and I each had the \"red platter\" fo...</td>\n",
              "    </tr>\n",
              "    <tr>\n",
              "      <th>4</th>\n",
              "      <td>2</td>\n",
              "      <td>Just less than average. Very very salty food. ...</td>\n",
              "    </tr>\n",
              "    <tr>\n",
              "      <th>...</th>\n",
              "      <td>...</td>\n",
              "      <td>...</td>\n",
              "    </tr>\n",
              "    <tr>\n",
              "      <th>8874</th>\n",
              "      <td>1</td>\n",
              "      <td>By far the worst urgent care ever. Long waits ...</td>\n",
              "    </tr>\n",
              "    <tr>\n",
              "      <th>8875</th>\n",
              "      <td>1</td>\n",
              "      <td>I was called in for an appointment and waited ...</td>\n",
              "    </tr>\n",
              "    <tr>\n",
              "      <th>8876</th>\n",
              "      <td>1</td>\n",
              "      <td>The staff here are some of the most uneducated...</td>\n",
              "    </tr>\n",
              "    <tr>\n",
              "      <th>8877</th>\n",
              "      <td>1</td>\n",
              "      <td>Went here yesterday for help with a bad virus ...</td>\n",
              "    </tr>\n",
              "    <tr>\n",
              "      <th>8878</th>\n",
              "      <td>1</td>\n",
              "      <td>The staff are nice but this place is a waste o...</td>\n",
              "    </tr>\n",
              "  </tbody>\n",
              "</table>\n",
              "<p>8879 rows × 2 columns</p>\n",
              "</div>\n",
              "      <button class=\"colab-df-convert\" onclick=\"convertToInteractive('df-ea4b288b-f213-4077-9a00-9ef66d99ddf1')\"\n",
              "              title=\"Convert this dataframe to an interactive table.\"\n",
              "              style=\"display:none;\">\n",
              "        \n",
              "  <svg xmlns=\"http://www.w3.org/2000/svg\" height=\"24px\"viewBox=\"0 0 24 24\"\n",
              "       width=\"24px\">\n",
              "    <path d=\"M0 0h24v24H0V0z\" fill=\"none\"/>\n",
              "    <path d=\"M18.56 5.44l.94 2.06.94-2.06 2.06-.94-2.06-.94-.94-2.06-.94 2.06-2.06.94zm-11 1L8.5 8.5l.94-2.06 2.06-.94-2.06-.94L8.5 2.5l-.94 2.06-2.06.94zm10 10l.94 2.06.94-2.06 2.06-.94-2.06-.94-.94-2.06-.94 2.06-2.06.94z\"/><path d=\"M17.41 7.96l-1.37-1.37c-.4-.4-.92-.59-1.43-.59-.52 0-1.04.2-1.43.59L10.3 9.45l-7.72 7.72c-.78.78-.78 2.05 0 2.83L4 21.41c.39.39.9.59 1.41.59.51 0 1.02-.2 1.41-.59l7.78-7.78 2.81-2.81c.8-.78.8-2.07 0-2.86zM5.41 20L4 18.59l7.72-7.72 1.47 1.35L5.41 20z\"/>\n",
              "  </svg>\n",
              "      </button>\n",
              "      \n",
              "  <style>\n",
              "    .colab-df-container {\n",
              "      display:flex;\n",
              "      flex-wrap:wrap;\n",
              "      gap: 12px;\n",
              "    }\n",
              "\n",
              "    .colab-df-convert {\n",
              "      background-color: #E8F0FE;\n",
              "      border: none;\n",
              "      border-radius: 50%;\n",
              "      cursor: pointer;\n",
              "      display: none;\n",
              "      fill: #1967D2;\n",
              "      height: 32px;\n",
              "      padding: 0 0 0 0;\n",
              "      width: 32px;\n",
              "    }\n",
              "\n",
              "    .colab-df-convert:hover {\n",
              "      background-color: #E2EBFA;\n",
              "      box-shadow: 0px 1px 2px rgba(60, 64, 67, 0.3), 0px 1px 3px 1px rgba(60, 64, 67, 0.15);\n",
              "      fill: #174EA6;\n",
              "    }\n",
              "\n",
              "    [theme=dark] .colab-df-convert {\n",
              "      background-color: #3B4455;\n",
              "      fill: #D2E3FC;\n",
              "    }\n",
              "\n",
              "    [theme=dark] .colab-df-convert:hover {\n",
              "      background-color: #434B5C;\n",
              "      box-shadow: 0px 1px 3px 1px rgba(0, 0, 0, 0.15);\n",
              "      filter: drop-shadow(0px 1px 2px rgba(0, 0, 0, 0.3));\n",
              "      fill: #FFFFFF;\n",
              "    }\n",
              "  </style>\n",
              "\n",
              "      <script>\n",
              "        const buttonEl =\n",
              "          document.querySelector('#df-ea4b288b-f213-4077-9a00-9ef66d99ddf1 button.colab-df-convert');\n",
              "        buttonEl.style.display =\n",
              "          google.colab.kernel.accessAllowed ? 'block' : 'none';\n",
              "\n",
              "        async function convertToInteractive(key) {\n",
              "          const element = document.querySelector('#df-ea4b288b-f213-4077-9a00-9ef66d99ddf1');\n",
              "          const dataTable =\n",
              "            await google.colab.kernel.invokeFunction('convertToInteractive',\n",
              "                                                     [key], {});\n",
              "          if (!dataTable) return;\n",
              "\n",
              "          const docLinkHtml = 'Like what you see? Visit the ' +\n",
              "            '<a target=\"_blank\" href=https://colab.research.google.com/notebooks/data_table.ipynb>data table notebook</a>'\n",
              "            + ' to learn more about interactive tables.';\n",
              "          element.innerHTML = '';\n",
              "          dataTable['output_type'] = 'display_data';\n",
              "          await google.colab.output.renderOutput(dataTable, element);\n",
              "          const docLink = document.createElement('div');\n",
              "          docLink.innerHTML = docLinkHtml;\n",
              "          element.appendChild(docLink);\n",
              "        }\n",
              "      </script>\n",
              "    </div>\n",
              "  </div>\n",
              "  "
            ]
          },
          "metadata": {},
          "execution_count": 34
        }
      ],
      "source": [
        "# Remove the duplicated column\n",
        "data = data.iloc[:,~data.columns.duplicated()]\n",
        "data"
      ]
    },
    {
      "cell_type": "code",
      "execution_count": 35,
      "id": "686c9eec",
      "metadata": {
        "id": "686c9eec",
        "colab": {
          "base_uri": "https://localhost:8080/",
          "height": 334
        },
        "outputId": "c9daaff2-51a2-47b7-efbe-5cbf7d816bdd"
      },
      "outputs": [
        {
          "output_type": "stream",
          "name": "stderr",
          "text": [
            "/usr/local/lib/python3.7/dist-packages/seaborn/_decorators.py:43: FutureWarning: Pass the following variable as a keyword arg: x. From version 0.12, the only valid positional argument will be `data`, and passing other arguments without an explicit keyword will result in an error or misinterpretation.\n",
            "  FutureWarning\n"
          ]
        },
        {
          "output_type": "display_data",
          "data": {
            "text/plain": [
              "<Figure size 432x288 with 1 Axes>"
            ],
            "image/png": "[encoded data removed]"
          },
          "metadata": {
            "needs_background": "light"
          }
        }
      ],
      "source": [
        "# Display a distribution of the review ratings\n",
        "sns.countplot(data['stars'], palette = 'Blues')\n",
        "plt.ylabel = ('Count')\n",
        "plt.xlabel = ('Ratings')\n",
        "plt.show()"
      ]
    },
    {
      "cell_type": "markdown",
      "source": [
        "# Creating a sentiment"
      ],
      "metadata": {
        "id": "kqW7-bEL00M1"
      },
      "id": "kqW7-bEL00M1"
    },
    {
      "cell_type": "code",
      "execution_count": 36,
      "id": "916f0577",
      "metadata": {
        "id": "916f0577"
      },
      "outputs": [],
      "source": [
        "# Convert rating scores that begin with 1 - 2 as negative sentiment (-1), 3 as a neutral sentiment (0) and scores 4-5 as positve sentiment (1)\n",
        "rating_score = {1:-1,\n",
        "                   2:-1,\n",
        "                   3:0,\n",
        "                   4:1,\n",
        "                   5:1}\n",
        "# sentiments_ratings = {-1:-1,\n",
        "#             0:0,\n",
        "#              1:1}\n",
        "sentiments = {-1:'Negative',\n",
        "            0:'Neutral',\n",
        "             1:'Positive'}"
      ]
    },
    {
      "cell_type": "code",
      "execution_count": 37,
      "id": "fb858def",
      "metadata": {
        "id": "fb858def",
        "colab": {
          "base_uri": "https://localhost:8080/",
          "height": 206
        },
        "outputId": "ba4f8e7c-d7d6-4a31-c8b9-578e354e3936"
      },
      "outputs": [
        {
          "output_type": "execute_result",
          "data": {
            "text/plain": [
              "   stars                                               text  rating_score  \\\n",
              "0      4  This is the second time I visit this place so ...             1   \n",
              "1      5  I had the schwarma with lamb at Cafe Baladi. I...             1   \n",
              "2      5  Simple the best!. Homemade food quality. If yo...             1   \n",
              "3      5  My husband and I each had the \"red platter\" fo...             1   \n",
              "4      2  Just less than average. Very very salty food. ...            -1   \n",
              "\n",
              "  sentiments  \n",
              "0   Positive  \n",
              "1   Positive  \n",
              "2   Positive  \n",
              "3   Positive  \n",
              "4   Negative  "
            ],
            "text/html": [
              "\n",
              "  <div id=\"df-d5403003-1f0d-483e-a25f-f9ac942ccacd\">\n",
              "    <div class=\"colab-df-container\">\n",
              "      <div>\n",
              "<style scoped>\n",
              "    .dataframe tbody tr th:only-of-type {\n",
              "        vertical-align: middle;\n",
              "    }\n",
              "\n",
              "    .dataframe tbody tr th {\n",
              "        vertical-align: top;\n",
              "    }\n",
              "\n",
              "    .dataframe thead th {\n",
              "        text-align: right;\n",
              "    }\n",
              "</style>\n",
              "<table border=\"1\" class=\"dataframe\">\n",
              "  <thead>\n",
              "    <tr style=\"text-align: right;\">\n",
              "      <th></th>\n",
              "      <th>stars</th>\n",
              "      <th>text</th>\n",
              "      <th>rating_score</th>\n",
              "      <th>sentiments</th>\n",
              "    </tr>\n",
              "  </thead>\n",
              "  <tbody>\n",
              "    <tr>\n",
              "      <th>0</th>\n",
              "      <td>4</td>\n",
              "      <td>This is the second time I visit this place so ...</td>\n",
              "      <td>1</td>\n",
              "      <td>Positive</td>\n",
              "    </tr>\n",
              "    <tr>\n",
              "      <th>1</th>\n",
              "      <td>5</td>\n",
              "      <td>I had the schwarma with lamb at Cafe Baladi. I...</td>\n",
              "      <td>1</td>\n",
              "      <td>Positive</td>\n",
              "    </tr>\n",
              "    <tr>\n",
              "      <th>2</th>\n",
              "      <td>5</td>\n",
              "      <td>Simple the best!. Homemade food quality. If yo...</td>\n",
              "      <td>1</td>\n",
              "      <td>Positive</td>\n",
              "    </tr>\n",
              "    <tr>\n",
              "      <th>3</th>\n",
              "      <td>5</td>\n",
              "      <td>My husband and I each had the \"red platter\" fo...</td>\n",
              "      <td>1</td>\n",
              "      <td>Positive</td>\n",
              "    </tr>\n",
              "    <tr>\n",
              "      <th>4</th>\n",
              "      <td>2</td>\n",
              "      <td>Just less than average. Very very salty food. ...</td>\n",
              "      <td>-1</td>\n",
              "      <td>Negative</td>\n",
              "    </tr>\n",
              "  </tbody>\n",
              "</table>\n",
              "</div>\n",
              "      <button class=\"colab-df-convert\" onclick=\"convertToInteractive('df-d5403003-1f0d-483e-a25f-f9ac942ccacd')\"\n",
              "              title=\"Convert this dataframe to an interactive table.\"\n",
              "              style=\"display:none;\">\n",
              "        \n",
              "  <svg xmlns=\"http://www.w3.org/2000/svg\" height=\"24px\"viewBox=\"0 0 24 24\"\n",
              "       width=\"24px\">\n",
              "    <path d=\"M0 0h24v24H0V0z\" fill=\"none\"/>\n",
              "    <path d=\"M18.56 5.44l.94 2.06.94-2.06 2.06-.94-2.06-.94-.94-2.06-.94 2.06-2.06.94zm-11 1L8.5 8.5l.94-2.06 2.06-.94-2.06-.94L8.5 2.5l-.94 2.06-2.06.94zm10 10l.94 2.06.94-2.06 2.06-.94-2.06-.94-.94-2.06-.94 2.06-2.06.94z\"/><path d=\"M17.41 7.96l-1.37-1.37c-.4-.4-.92-.59-1.43-.59-.52 0-1.04.2-1.43.59L10.3 9.45l-7.72 7.72c-.78.78-.78 2.05 0 2.83L4 21.41c.39.39.9.59 1.41.59.51 0 1.02-.2 1.41-.59l7.78-7.78 2.81-2.81c.8-.78.8-2.07 0-2.86zM5.41 20L4 18.59l7.72-7.72 1.47 1.35L5.41 20z\"/>\n",
              "  </svg>\n",
              "      </button>\n",
              "      \n",
              "  <style>\n",
              "    .colab-df-container {\n",
              "      display:flex;\n",
              "      flex-wrap:wrap;\n",
              "      gap: 12px;\n",
              "    }\n",
              "\n",
              "    .colab-df-convert {\n",
              "      background-color: #E8F0FE;\n",
              "      border: none;\n",
              "      border-radius: 50%;\n",
              "      cursor: pointer;\n",
              "      display: none;\n",
              "      fill: #1967D2;\n",
              "      height: 32px;\n",
              "      padding: 0 0 0 0;\n",
              "      width: 32px;\n",
              "    }\n",
              "\n",
              "    .colab-df-convert:hover {\n",
              "      background-color: #E2EBFA;\n",
              "      box-shadow: 0px 1px 2px rgba(60, 64, 67, 0.3), 0px 1px 3px 1px rgba(60, 64, 67, 0.15);\n",
              "      fill: #174EA6;\n",
              "    }\n",
              "\n",
              "    [theme=dark] .colab-df-convert {\n",
              "      background-color: #3B4455;\n",
              "      fill: #D2E3FC;\n",
              "    }\n",
              "\n",
              "    [theme=dark] .colab-df-convert:hover {\n",
              "      background-color: #434B5C;\n",
              "      box-shadow: 0px 1px 3px 1px rgba(0, 0, 0, 0.15);\n",
              "      filter: drop-shadow(0px 1px 2px rgba(0, 0, 0, 0.3));\n",
              "      fill: #FFFFFF;\n",
              "    }\n",
              "  </style>\n",
              "\n",
              "      <script>\n",
              "        const buttonEl =\n",
              "          document.querySelector('#df-d5403003-1f0d-483e-a25f-f9ac942ccacd button.colab-df-convert');\n",
              "        buttonEl.style.display =\n",
              "          google.colab.kernel.accessAllowed ? 'block' : 'none';\n",
              "\n",
              "        async function convertToInteractive(key) {\n",
              "          const element = document.querySelector('#df-d5403003-1f0d-483e-a25f-f9ac942ccacd');\n",
              "          const dataTable =\n",
              "            await google.colab.kernel.invokeFunction('convertToInteractive',\n",
              "                                                     [key], {});\n",
              "          if (!dataTable) return;\n",
              "\n",
              "          const docLinkHtml = 'Like what you see? Visit the ' +\n",
              "            '<a target=\"_blank\" href=https://colab.research.google.com/notebooks/data_table.ipynb>data table notebook</a>'\n",
              "            + ' to learn more about interactive tables.';\n",
              "          element.innerHTML = '';\n",
              "          dataTable['output_type'] = 'display_data';\n",
              "          await google.colab.output.renderOutput(dataTable, element);\n",
              "          const docLink = document.createElement('div');\n",
              "          docLink.innerHTML = docLinkHtml;\n",
              "          element.appendChild(docLink);\n",
              "        }\n",
              "      </script>\n",
              "    </div>\n",
              "  </div>\n",
              "  "
            ]
          },
          "metadata": {},
          "execution_count": 37
        }
      ],
      "source": [
        "# Mapping the scores to the dataset and creating a rating scores and sentiments column\n",
        "data['rating_score'] = data['stars'].map(rating_score)\n",
        "data['sentiments'] = data['rating_score'].map(sentiments)\n",
        "data.head()"
      ]
    },
    {
      "cell_type": "code",
      "execution_count": 41,
      "id": "60c3f6e6",
      "metadata": {
        "id": "60c3f6e6",
        "colab": {
          "base_uri": "https://localhost:8080/",
          "height": 319
        },
        "outputId": "a693851e-9072-4ea1-e3c3-4268bb747f02"
      },
      "outputs": [
        {
          "output_type": "execute_result",
          "data": {
            "text/plain": [
              "   stars  \\\n",
              "0      4   \n",
              "1      5   \n",
              "2      5   \n",
              "3      5   \n",
              "4      2   \n",
              "\n",
              "                                                                                                                                                                                                                                                                                                                                                                                                                             text  \\\n",
              "0  This is the second time I visit this place so I wanted to write a new review for it. The place is a nice Lebanese restaurant and owners are really nice and helpful. Food is very good. But the thing I liked the most is chicken shawarma which is the best I had in Philadelphia till now. Chicken shawarma wraps are amazing and very close to authentic. Sfehas and fatayer are really very delicious. Highly recommended.   \n",
              "1                                                                                                                  I had the schwarma with lamb at Cafe Baladi. It was absolutely delicious. I have a severe dairy allergy and the owner was able to accommodate me. This is another restaurant that I can add to my list of great go-to places in Malvern! The owner and employees are super friendly and the food is delicious.   \n",
              "2                                                                                                                                                                                                                                                                                                                               Simple the best!. Homemade food quality. If you're looking for a comfort food this is your place.   \n",
              "3                                                                                                                                                                                           My husband and I each had the \"red platter\" for lunch with a tahini salad. Everything was authentic and incredible! We are already talking about what we'll order next time :) The service was excellent! Can't wait to go back soon.   \n",
              "4                                                                                                                                                                                                                                                  Just less than average. Very very salty food. \\nNot much on the menu. Looks like they need extra people to help them as they were slow. And expensive for the quality of food.   \n",
              "\n",
              "   rating_score sentiments  \n",
              "0             1   Positive  \n",
              "1             1   Positive  \n",
              "2             1   Positive  \n",
              "3             1   Positive  \n",
              "4            -1   Negative  "
            ],
            "text/html": [
              "\n",
              "  <div id=\"df-65d35f74-6e29-41bc-954b-97e86d50b6e4\">\n",
              "    <div class=\"colab-df-container\">\n",
              "      <div>\n",
              "<style scoped>\n",
              "    .dataframe tbody tr th:only-of-type {\n",
              "        vertical-align: middle;\n",
              "    }\n",
              "\n",
              "    .dataframe tbody tr th {\n",
              "        vertical-align: top;\n",
              "    }\n",
              "\n",
              "    .dataframe thead th {\n",
              "        text-align: right;\n",
              "    }\n",
              "</style>\n",
              "<table border=\"1\" class=\"dataframe\">\n",
              "  <thead>\n",
              "    <tr style=\"text-align: right;\">\n",
              "      <th></th>\n",
              "      <th>stars</th>\n",
              "      <th>text</th>\n",
              "      <th>rating_score</th>\n",
              "      <th>sentiments</th>\n",
              "    </tr>\n",
              "  </thead>\n",
              "  <tbody>\n",
              "    <tr>\n",
              "      <th>0</th>\n",
              "      <td>4</td>\n",
              "      <td>This is the second time I visit this place so I wanted to write a new review for it. The place is a nice Lebanese restaurant and owners are really nice and helpful. Food is very good. But the thing I liked the most is chicken shawarma which is the best I had in Philadelphia till now. Chicken shawarma wraps are amazing and very close to authentic. Sfehas and fatayer are really very delicious. Highly recommended.</td>\n",
              "      <td>1</td>\n",
              "      <td>Positive</td>\n",
              "    </tr>\n",
              "    <tr>\n",
              "      <th>1</th>\n",
              "      <td>5</td>\n",
              "      <td>I had the schwarma with lamb at Cafe Baladi. It was absolutely delicious. I have a severe dairy allergy and the owner was able to accommodate me. This is another restaurant that I can add to my list of great go-to places in Malvern! The owner and employees are super friendly and the food is delicious.</td>\n",
              "      <td>1</td>\n",
              "      <td>Positive</td>\n",
              "    </tr>\n",
              "    <tr>\n",
              "      <th>2</th>\n",
              "      <td>5</td>\n",
              "      <td>Simple the best!. Homemade food quality. If you're looking for a comfort food this is your place.</td>\n",
              "      <td>1</td>\n",
              "      <td>Positive</td>\n",
              "    </tr>\n",
              "    <tr>\n",
              "      <th>3</th>\n",
              "      <td>5</td>\n",
              "      <td>My husband and I each had the \"red platter\" for lunch with a tahini salad. Everything was authentic and incredible! We are already talking about what we'll order next time :) The service was excellent! Can't wait to go back soon.</td>\n",
              "      <td>1</td>\n",
              "      <td>Positive</td>\n",
              "    </tr>\n",
              "    <tr>\n",
              "      <th>4</th>\n",
              "      <td>2</td>\n",
              "      <td>Just less than average. Very very salty food. \\nNot much on the menu. Looks like they need extra people to help them as they were slow. And expensive for the quality of food.</td>\n",
              "      <td>-1</td>\n",
              "      <td>Negative</td>\n",
              "    </tr>\n",
              "  </tbody>\n",
              "</table>\n",
              "</div>\n",
              "      <button class=\"colab-df-convert\" onclick=\"convertToInteractive('df-65d35f74-6e29-41bc-954b-97e86d50b6e4')\"\n",
              "              title=\"Convert this dataframe to an interactive table.\"\n",
              "              style=\"display:none;\">\n",
              "        \n",
              "  <svg xmlns=\"http://www.w3.org/2000/svg\" height=\"24px\"viewBox=\"0 0 24 24\"\n",
              "       width=\"24px\">\n",
              "    <path d=\"M0 0h24v24H0V0z\" fill=\"none\"/>\n",
              "    <path d=\"M18.56 5.44l.94 2.06.94-2.06 2.06-.94-2.06-.94-.94-2.06-.94 2.06-2.06.94zm-11 1L8.5 8.5l.94-2.06 2.06-.94-2.06-.94L8.5 2.5l-.94 2.06-2.06.94zm10 10l.94 2.06.94-2.06 2.06-.94-2.06-.94-.94-2.06-.94 2.06-2.06.94z\"/><path d=\"M17.41 7.96l-1.37-1.37c-.4-.4-.92-.59-1.43-.59-.52 0-1.04.2-1.43.59L10.3 9.45l-7.72 7.72c-.78.78-.78 2.05 0 2.83L4 21.41c.39.39.9.59 1.41.59.51 0 1.02-.2 1.41-.59l7.78-7.78 2.81-2.81c.8-.78.8-2.07 0-2.86zM5.41 20L4 18.59l7.72-7.72 1.47 1.35L5.41 20z\"/>\n",
              "  </svg>\n",
              "      </button>\n",
              "      \n",
              "  <style>\n",
              "    .colab-df-container {\n",
              "      display:flex;\n",
              "      flex-wrap:wrap;\n",
              "      gap: 12px;\n",
              "    }\n",
              "\n",
              "    .colab-df-convert {\n",
              "      background-color: #E8F0FE;\n",
              "      border: none;\n",
              "      border-radius: 50%;\n",
              "      cursor: pointer;\n",
              "      display: none;\n",
              "      fill: #1967D2;\n",
              "      height: 32px;\n",
              "      padding: 0 0 0 0;\n",
              "      width: 32px;\n",
              "    }\n",
              "\n",
              "    .colab-df-convert:hover {\n",
              "      background-color: #E2EBFA;\n",
              "      box-shadow: 0px 1px 2px rgba(60, 64, 67, 0.3), 0px 1px 3px 1px rgba(60, 64, 67, 0.15);\n",
              "      fill: #174EA6;\n",
              "    }\n",
              "\n",
              "    [theme=dark] .colab-df-convert {\n",
              "      background-color: #3B4455;\n",
              "      fill: #D2E3FC;\n",
              "    }\n",
              "\n",
              "    [theme=dark] .colab-df-convert:hover {\n",
              "      background-color: #434B5C;\n",
              "      box-shadow: 0px 1px 3px 1px rgba(0, 0, 0, 0.15);\n",
              "      filter: drop-shadow(0px 1px 2px rgba(0, 0, 0, 0.3));\n",
              "      fill: #FFFFFF;\n",
              "    }\n",
              "  </style>\n",
              "\n",
              "      <script>\n",
              "        const buttonEl =\n",
              "          document.querySelector('#df-65d35f74-6e29-41bc-954b-97e86d50b6e4 button.colab-df-convert');\n",
              "        buttonEl.style.display =\n",
              "          google.colab.kernel.accessAllowed ? 'block' : 'none';\n",
              "\n",
              "        async function convertToInteractive(key) {\n",
              "          const element = document.querySelector('#df-65d35f74-6e29-41bc-954b-97e86d50b6e4');\n",
              "          const dataTable =\n",
              "            await google.colab.kernel.invokeFunction('convertToInteractive',\n",
              "                                                     [key], {});\n",
              "          if (!dataTable) return;\n",
              "\n",
              "          const docLinkHtml = 'Like what you see? Visit the ' +\n",
              "            '<a target=\"_blank\" href=https://colab.research.google.com/notebooks/data_table.ipynb>data table notebook</a>'\n",
              "            + ' to learn more about interactive tables.';\n",
              "          element.innerHTML = '';\n",
              "          dataTable['output_type'] = 'display_data';\n",
              "          await google.colab.output.renderOutput(dataTable, element);\n",
              "          const docLink = document.createElement('div');\n",
              "          docLink.innerHTML = docLinkHtml;\n",
              "          element.appendChild(docLink);\n",
              "        }\n",
              "      </script>\n",
              "    </div>\n",
              "  </div>\n",
              "  "
            ]
          },
          "metadata": {},
          "execution_count": 41
        }
      ],
      "source": [
        "pd.set_option('display.max_colwidth', None) # Setting this so we can see the full content of cells\n",
        "pd.set_option('display.max_columns', None) # to make sure we can see all the columns in output window\n",
        "data.head()"
      ]
    },
    {
      "cell_type": "markdown",
      "source": [
        "# Cleaner Function"
      ],
      "metadata": {
        "id": "KYY74BOD0-mC"
      },
      "id": "KYY74BOD0-mC"
    },
    {
      "cell_type": "code",
      "source": [
        "nltk.download('stopwords')\n",
        "stop_words=stopwords.words('english')\n",
        "nltk.download('punkt')\n",
        "nltk.download('wordnet')\n",
        "nltk.download('omw-1.4')"
      ],
      "metadata": {
        "colab": {
          "base_uri": "https://localhost:8080/"
        },
        "id": "ltKObSvgKl2T",
        "outputId": "dce7e33f-cf2f-4b7a-9453-1b66a04528b5"
      },
      "execution_count": 42,
      "outputs": [
        {
          "output_type": "stream",
          "name": "stderr",
          "text": [
            "[nltk_data] Downloading package stopwords to /root/nltk_data...\n",
            "[nltk_data]   Package stopwords is already up-to-date!\n",
            "[nltk_data] Downloading package punkt to /root/nltk_data...\n",
            "[nltk_data]   Package punkt is already up-to-date!\n",
            "[nltk_data] Downloading package wordnet to /root/nltk_data...\n",
            "[nltk_data]   Package wordnet is already up-to-date!\n",
            "[nltk_data] Downloading package omw-1.4 to /root/nltk_data...\n",
            "[nltk_data]   Package omw-1.4 is already up-to-date!\n"
          ]
        },
        {
          "output_type": "execute_result",
          "data": {
            "text/plain": [
              "True"
            ]
          },
          "metadata": {},
          "execution_count": 42
        }
      ],
      "id": "ltKObSvgKl2T"
    },
    {
      "cell_type": "markdown",
      "source": [
        "### Apply the 1st cleaner function on the text column data\n",
        "using the 'cleaner' function and get the output in the cleaned_review column.\n",
        "\n",
        "But since the data that is created is in a list, we are doing one more line of code to change that list datatype column, into a string type, which would be used for wordcloud"
      ],
      "metadata": {
        "id": "EY2--xZ95I1N"
      },
      "id": "EY2--xZ95I1N"
    },
    {
      "cell_type": "markdown",
      "source": [
        "After applying the cleaner function, the column formed is in a list format."
      ],
      "metadata": {
        "id": "jTB2ruNY7NxS"
      },
      "id": "jTB2ruNY7NxS"
    },
    {
      "cell_type": "code",
      "execution_count": 47,
      "id": "00a7a020",
      "metadata": {
        "id": "00a7a020"
      },
      "outputs": [],
      "source": [
        "# Cleaning Reviews\n",
        "def cleaner(review):\n",
        "    soup = BeautifulSoup(review, 'lxml') # removing HTML entities such as ‘&amp’,’&quot’,'&gt'; lxml is the html parser and shoulp be installed using 'pip install lxml'\n",
        "    souped = soup.get_text()\n",
        "    re1 = re.sub(\"[^A-Za-z]+\",\" \", souped) # substituting any non-alphabetic character that repeats one or more times with whitespace\n",
        "\n",
        "    \"\"\"\n",
        "    For more info on regular expressions visit -\n",
        "    https://docs.python.org/3/howto/regex.html\n",
        "    \"\"\"\n",
        "\n",
        "    tokens = nltk.word_tokenize(re1)\n",
        "    lower_case = [t.lower() for t in tokens]\n",
        "\n",
        "    stop_words = set(stopwords.words('english'))\n",
        "    filtered_result = list(filter(lambda l: l not in stop_words, lower_case))\n",
        "\n",
        "    wordnet_lemmatizer = WordNetLemmatizer()\n",
        "    lemmas = [wordnet_lemmatizer.lemmatize(t) for t in filtered_result]\n",
        "    return lemmas\n",
        "\n"
      ]
    },
    {
      "cell_type": "code",
      "execution_count": 48,
      "id": "8fbb45db",
      "metadata": {
        "id": "8fbb45db",
        "colab": {
          "base_uri": "https://localhost:8080/",
          "height": 406
        },
        "outputId": "c7a9bab1-48c6-41f0-80d0-9f46e8e20eb3"
      },
      "outputs": [
        {
          "output_type": "execute_result",
          "data": {
            "text/plain": [
              "   stars  \\\n",
              "0      4   \n",
              "1      5   \n",
              "2      5   \n",
              "3      5   \n",
              "4      2   \n",
              "\n",
              "                                                                                                                                                                                                                                                                                                                                                                                                                             text  \\\n",
              "0  This is the second time I visit this place so I wanted to write a new review for it. The place is a nice Lebanese restaurant and owners are really nice and helpful. Food is very good. But the thing I liked the most is chicken shawarma which is the best I had in Philadelphia till now. Chicken shawarma wraps are amazing and very close to authentic. Sfehas and fatayer are really very delicious. Highly recommended.   \n",
              "1                                                                                                                  I had the schwarma with lamb at Cafe Baladi. It was absolutely delicious. I have a severe dairy allergy and the owner was able to accommodate me. This is another restaurant that I can add to my list of great go-to places in Malvern! The owner and employees are super friendly and the food is delicious.   \n",
              "2                                                                                                                                                                                                                                                                                                                               Simple the best!. Homemade food quality. If you're looking for a comfort food this is your place.   \n",
              "3                                                                                                                                                                                           My husband and I each had the \"red platter\" for lunch with a tahini salad. Everything was authentic and incredible! We are already talking about what we'll order next time :) The service was excellent! Can't wait to go back soon.   \n",
              "4                                                                                                                                                                                                                                                  Just less than average. Very very salty food. \\nNot much on the menu. Looks like they need extra people to help them as they were slow. And expensive for the quality of food.   \n",
              "\n",
              "   rating_score sentiments  \\\n",
              "0             1   Positive   \n",
              "1             1   Positive   \n",
              "2             1   Positive   \n",
              "3             1   Positive   \n",
              "4            -1   Negative   \n",
              "\n",
              "                                                                                                                                                                                                                                                                                                  cleaned_review  \n",
              "0  [second, time, visit, place, wanted, write, new, review, place, nice, lebanese, restaurant, owner, really, nice, helpful, food, good, thing, liked, chicken, shawarma, best, philadelphia, till, chicken, shawarma, wrap, amazing, close, authentic, sfehas, fatayer, really, delicious, highly, recommended]  \n",
              "1                                                                                          [schwarma, lamb, cafe, baladi, absolutely, delicious, severe, dairy, allergy, owner, able, accommodate, another, restaurant, add, list, great, go, place, malvern, owner, employee, super, friendly, food, delicious]  \n",
              "2                                                                                                                                                                                                                                         [simple, best, homemade, food, quality, looking, comfort, food, place]  \n",
              "3                                                                                                                                                [husband, red, platter, lunch, tahini, salad, everything, authentic, incredible, already, talking, order, next, time, service, excellent, wait, go, back, soon]  \n",
              "4                                                                                                                                                                                                  [le, average, salty, food, much, menu, look, like, need, extra, people, help, slow, expensive, quality, food]  "
            ],
            "text/html": [
              "\n",
              "  <div id=\"df-1dbc9885-319b-4a8c-83b7-4ebb64bf05a1\">\n",
              "    <div class=\"colab-df-container\">\n",
              "      <div>\n",
              "<style scoped>\n",
              "    .dataframe tbody tr th:only-of-type {\n",
              "        vertical-align: middle;\n",
              "    }\n",
              "\n",
              "    .dataframe tbody tr th {\n",
              "        vertical-align: top;\n",
              "    }\n",
              "\n",
              "    .dataframe thead th {\n",
              "        text-align: right;\n",
              "    }\n",
              "</style>\n",
              "<table border=\"1\" class=\"dataframe\">\n",
              "  <thead>\n",
              "    <tr style=\"text-align: right;\">\n",
              "      <th></th>\n",
              "      <th>stars</th>\n",
              "      <th>text</th>\n",
              "      <th>rating_score</th>\n",
              "      <th>sentiments</th>\n",
              "      <th>cleaned_review</th>\n",
              "    </tr>\n",
              "  </thead>\n",
              "  <tbody>\n",
              "    <tr>\n",
              "      <th>0</th>\n",
              "      <td>4</td>\n",
              "      <td>This is the second time I visit this place so I wanted to write a new review for it. The place is a nice Lebanese restaurant and owners are really nice and helpful. Food is very good. But the thing I liked the most is chicken shawarma which is the best I had in Philadelphia till now. Chicken shawarma wraps are amazing and very close to authentic. Sfehas and fatayer are really very delicious. Highly recommended.</td>\n",
              "      <td>1</td>\n",
              "      <td>Positive</td>\n",
              "      <td>[second, time, visit, place, wanted, write, new, review, place, nice, lebanese, restaurant, owner, really, nice, helpful, food, good, thing, liked, chicken, shawarma, best, philadelphia, till, chicken, shawarma, wrap, amazing, close, authentic, sfehas, fatayer, really, delicious, highly, recommended]</td>\n",
              "    </tr>\n",
              "    <tr>\n",
              "      <th>1</th>\n",
              "      <td>5</td>\n",
              "      <td>I had the schwarma with lamb at Cafe Baladi. It was absolutely delicious. I have a severe dairy allergy and the owner was able to accommodate me. This is another restaurant that I can add to my list of great go-to places in Malvern! The owner and employees are super friendly and the food is delicious.</td>\n",
              "      <td>1</td>\n",
              "      <td>Positive</td>\n",
              "      <td>[schwarma, lamb, cafe, baladi, absolutely, delicious, severe, dairy, allergy, owner, able, accommodate, another, restaurant, add, list, great, go, place, malvern, owner, employee, super, friendly, food, delicious]</td>\n",
              "    </tr>\n",
              "    <tr>\n",
              "      <th>2</th>\n",
              "      <td>5</td>\n",
              "      <td>Simple the best!. Homemade food quality. If you're looking for a comfort food this is your place.</td>\n",
              "      <td>1</td>\n",
              "      <td>Positive</td>\n",
              "      <td>[simple, best, homemade, food, quality, looking, comfort, food, place]</td>\n",
              "    </tr>\n",
              "    <tr>\n",
              "      <th>3</th>\n",
              "      <td>5</td>\n",
              "      <td>My husband and I each had the \"red platter\" for lunch with a tahini salad. Everything was authentic and incredible! We are already talking about what we'll order next time :) The service was excellent! Can't wait to go back soon.</td>\n",
              "      <td>1</td>\n",
              "      <td>Positive</td>\n",
              "      <td>[husband, red, platter, lunch, tahini, salad, everything, authentic, incredible, already, talking, order, next, time, service, excellent, wait, go, back, soon]</td>\n",
              "    </tr>\n",
              "    <tr>\n",
              "      <th>4</th>\n",
              "      <td>2</td>\n",
              "      <td>Just less than average. Very very salty food. \\nNot much on the menu. Looks like they need extra people to help them as they were slow. And expensive for the quality of food.</td>\n",
              "      <td>-1</td>\n",
              "      <td>Negative</td>\n",
              "      <td>[le, average, salty, food, much, menu, look, like, need, extra, people, help, slow, expensive, quality, food]</td>\n",
              "    </tr>\n",
              "  </tbody>\n",
              "</table>\n",
              "</div>\n",
              "      <button class=\"colab-df-convert\" onclick=\"convertToInteractive('df-1dbc9885-319b-4a8c-83b7-4ebb64bf05a1')\"\n",
              "              title=\"Convert this dataframe to an interactive table.\"\n",
              "              style=\"display:none;\">\n",
              "        \n",
              "  <svg xmlns=\"http://www.w3.org/2000/svg\" height=\"24px\"viewBox=\"0 0 24 24\"\n",
              "       width=\"24px\">\n",
              "    <path d=\"M0 0h24v24H0V0z\" fill=\"none\"/>\n",
              "    <path d=\"M18.56 5.44l.94 2.06.94-2.06 2.06-.94-2.06-.94-.94-2.06-.94 2.06-2.06.94zm-11 1L8.5 8.5l.94-2.06 2.06-.94-2.06-.94L8.5 2.5l-.94 2.06-2.06.94zm10 10l.94 2.06.94-2.06 2.06-.94-2.06-.94-.94-2.06-.94 2.06-2.06.94z\"/><path d=\"M17.41 7.96l-1.37-1.37c-.4-.4-.92-.59-1.43-.59-.52 0-1.04.2-1.43.59L10.3 9.45l-7.72 7.72c-.78.78-.78 2.05 0 2.83L4 21.41c.39.39.9.59 1.41.59.51 0 1.02-.2 1.41-.59l7.78-7.78 2.81-2.81c.8-.78.8-2.07 0-2.86zM5.41 20L4 18.59l7.72-7.72 1.47 1.35L5.41 20z\"/>\n",
              "  </svg>\n",
              "      </button>\n",
              "      \n",
              "  <style>\n",
              "    .colab-df-container {\n",
              "      display:flex;\n",
              "      flex-wrap:wrap;\n",
              "      gap: 12px;\n",
              "    }\n",
              "\n",
              "    .colab-df-convert {\n",
              "      background-color: #E8F0FE;\n",
              "      border: none;\n",
              "      border-radius: 50%;\n",
              "      cursor: pointer;\n",
              "      display: none;\n",
              "      fill: #1967D2;\n",
              "      height: 32px;\n",
              "      padding: 0 0 0 0;\n",
              "      width: 32px;\n",
              "    }\n",
              "\n",
              "    .colab-df-convert:hover {\n",
              "      background-color: #E2EBFA;\n",
              "      box-shadow: 0px 1px 2px rgba(60, 64, 67, 0.3), 0px 1px 3px 1px rgba(60, 64, 67, 0.15);\n",
              "      fill: #174EA6;\n",
              "    }\n",
              "\n",
              "    [theme=dark] .colab-df-convert {\n",
              "      background-color: #3B4455;\n",
              "      fill: #D2E3FC;\n",
              "    }\n",
              "\n",
              "    [theme=dark] .colab-df-convert:hover {\n",
              "      background-color: #434B5C;\n",
              "      box-shadow: 0px 1px 3px 1px rgba(0, 0, 0, 0.15);\n",
              "      filter: drop-shadow(0px 1px 2px rgba(0, 0, 0, 0.3));\n",
              "      fill: #FFFFFF;\n",
              "    }\n",
              "  </style>\n",
              "\n",
              "      <script>\n",
              "        const buttonEl =\n",
              "          document.querySelector('#df-1dbc9885-319b-4a8c-83b7-4ebb64bf05a1 button.colab-df-convert');\n",
              "        buttonEl.style.display =\n",
              "          google.colab.kernel.accessAllowed ? 'block' : 'none';\n",
              "\n",
              "        async function convertToInteractive(key) {\n",
              "          const element = document.querySelector('#df-1dbc9885-319b-4a8c-83b7-4ebb64bf05a1');\n",
              "          const dataTable =\n",
              "            await google.colab.kernel.invokeFunction('convertToInteractive',\n",
              "                                                     [key], {});\n",
              "          if (!dataTable) return;\n",
              "\n",
              "          const docLinkHtml = 'Like what you see? Visit the ' +\n",
              "            '<a target=\"_blank\" href=https://colab.research.google.com/notebooks/data_table.ipynb>data table notebook</a>'\n",
              "            + ' to learn more about interactive tables.';\n",
              "          element.innerHTML = '';\n",
              "          dataTable['output_type'] = 'display_data';\n",
              "          await google.colab.output.renderOutput(dataTable, element);\n",
              "          const docLink = document.createElement('div');\n",
              "          docLink.innerHTML = docLinkHtml;\n",
              "          element.appendChild(docLink);\n",
              "        }\n",
              "      </script>\n",
              "    </div>\n",
              "  </div>\n",
              "  "
            ]
          },
          "metadata": {},
          "execution_count": 48
        }
      ],
      "source": [
        "data['cleaned_review'] = data.text.apply(cleaner)\n",
        "data.head()"
      ]
    },
    {
      "cell_type": "code",
      "execution_count": 49,
      "id": "7a1c848d",
      "metadata": {
        "id": "7a1c848d",
        "colab": {
          "base_uri": "https://localhost:8080/",
          "height": 1000
        },
        "outputId": "7e565045-3225-47c9-d63b-969d43be53b9"
      },
      "outputs": [
        {
          "output_type": "execute_result",
          "data": {
            "text/plain": [
              "      stars  \\\n",
              "0         4   \n",
              "1         5   \n",
              "2         5   \n",
              "3         5   \n",
              "4         2   \n",
              "...     ...   \n",
              "8874      1   \n",
              "8875      1   \n",
              "8876      1   \n",
              "8877      1   \n",
              "8878      1   \n",
              "\n",
              "                                                                                                                                                                                                                                                                                                                                                                                                                                                                                                                                                                                                                                                                                                                                                                                                                                                                                                                                                                                                                                                                                                                                                                                                                                                                                                                                                                                                                                                                                                                                                                                                                                                               text  \\\n",
              "0                                                                                                                                                                                                                                                                                                                                                                                                                                                                                                                                                                                                                                                                                                                                                                                                                                                                                                                                                                                                                                                                                                                                                                                                                                    This is the second time I visit this place so I wanted to write a new review for it. The place is a nice Lebanese restaurant and owners are really nice and helpful. Food is very good. But the thing I liked the most is chicken shawarma which is the best I had in Philadelphia till now. Chicken shawarma wraps are amazing and very close to authentic. Sfehas and fatayer are really very delicious. Highly recommended.   \n",
              "1                                                                                                                                                                                                                                                                                                                                                                                                                                                                                                                                                                                                                                                                                                                                                                                                                                                                                                                                                                                                                                                                                                                                                                                                                                                                                                                                                    I had the schwarma with lamb at Cafe Baladi. It was absolutely delicious. I have a severe dairy allergy and the owner was able to accommodate me. This is another restaurant that I can add to my list of great go-to places in Malvern! The owner and employees are super friendly and the food is delicious.   \n",
              "2                                                                                                                                                                                                                                                                                                                                                                                                                                                                                                                                                                                                                                                                                                                                                                                                                                                                                                                                                                                                                                                                                                                                                                                                                                                                                                                                                                                                                                                                                                                                                                 Simple the best!. Homemade food quality. If you're looking for a comfort food this is your place.   \n",
              "3                                                                                                                                                                                                                                                                                                                                                                                                                                                                                                                                                                                                                                                                                                                                                                                                                                                                                                                                                                                                                                                                                                                                                                                                                                                                                                                                                                                                                             My husband and I each had the \"red platter\" for lunch with a tahini salad. Everything was authentic and incredible! We are already talking about what we'll order next time :) The service was excellent! Can't wait to go back soon.   \n",
              "4                                                                                                                                                                                                                                                                                                                                                                                                                                                                                                                                                                                                                                                                                                                                                                                                                                                                                                                                                                                                                                                                                                                                                                                                                                                                                                                                                                                                                                                                                    Just less than average. Very very salty food. \\nNot much on the menu. Looks like they need extra people to help them as they were slow. And expensive for the quality of food.   \n",
              "...                                                                                                                                                                                                                                                                                                                                                                                                                                                                                                                                                                                                                                                                                                                                                                                                                                                                                                                                                                                                                                                                                                                                                                                                                                                                                                                                                                                                                                                                                                                                                                                                                                                             ...   \n",
              "8874                                                                                                                                                                                                                                                                                                                                                                                                                                                                                                                                                                                                                                                                                                                                                                                                                                                                                                                                                                                                                                                                                                                                                                                                                                                                                                                                                                                                                                                                                                                             By far the worst urgent care ever. Long waits during empty times. Way overpriced for disrespectful people to barely do their jobs.   \n",
              "8875                                                                                                                                                                                                                                                                                                                                                                                                                                                                                                                                                                                                                                                                                                                                                                                                                                                                                                                                                                                                                                                                                                                                                                                                                                                                                                                                 I was called in for an appointment and waited over 40 minutes to get in. I was only visiting for a covid rapid test. I was swabbed by a nurse and waited over 45 minutes for a doctor to come into the room, who then spent literally 60 seconds with me. This place is totally disrespectful of your time. Go somewhere else.   \n",
              "8876                                                                                                                                                                                                                                                                                                                                                                                                                                                                                                                                                                                                                                                                                                                                                                                                                                                                                                                                                                                                                                                                                                                                                                                                                                                                                                                                                The staff here are some of the most uneducated \"medical professionals\". Not only are they clueless about any form of treatment, but their attitude is unnecessarily rude. Also, having been the only people in the clinic to wait 2 hours to finally be seen is absurd. Honestly, this place should be audited.   \n",
              "8877  Went here yesterday for help with a bad virus giving me flu-like symptoms, I'm not sure that I'll ever come back to this location for any medical concern. It has bad reviews but it's right next to my house. I'm very sick, and felt unsafe driving to West nash for my PCP. Front desk staff was kind and they got me in relatively quickly, but they were unprepared with low stock on tests and swabs. The only kind of tests they did have were the kinds with 50-70% accuracy. (I had already tested neg for covid at Nissan)\\nThe doctor did not listen to my complaints, she did not validate my concerns and she rushed me so that i could not think of what i needed to ask or disclose. She asked what symptoms were bothering me the most. I told her aches and pains w/fever were bad and worst was my chest burning and an urge to cough and shortness of breath preventing me from sleeping. She said \"well i listened to your lungs and didn't hear any wheezing\". I had been running a 101 fever on and off since symptoms began but wasn't at the time i went in, is that why she didn't take the patient seriously?\\nLater that night fever back, audible wheezing, by this morning the infection has fully spread to my chest. I feel horrible and i wasted my money coming here. I paid for no medical care whatsoever. \\nThe reason for a one star review is any doctor who is unable to listen to the patient is also unable to provide medical care. \\nFor anyone reading this, remember YOU are the authority on your own body. You are the one experiencing your symptoms. You know how you feel. Find a doctor who respects that.   \n",
              "8878                                                                                                                                                                                                                                                                                                                                                                                                                                                                                                                                                                                                                                                                                                                                                                                                                                                                               The staff are nice but this place is a waste of money. I went in six weeks ago or so and received care for a bad cough/cold. Six weeks later, the cough hadn't gone away and I was experiencing new symptoms so I went back. I was sent to the Madison location to get a chest xray, where I checked in and waited for almost an hour before asking when I would be seen.The staff somehow forgot that I was waiting, even though I was the only person in the waiting room. I received no diagnosis, was told to take Ibuprofen and follow up in a few days if I wasn't feeling better. I did follow up, and they told me I would have to come in and pay for another appointment if I wanted to do a follow up. Appointments are MORE expensive with insurance. It's a racket.   \n",
              "\n",
              "      rating_score sentiments  \\\n",
              "0                1   Positive   \n",
              "1                1   Positive   \n",
              "2                1   Positive   \n",
              "3                1   Positive   \n",
              "4               -1   Negative   \n",
              "...            ...        ...   \n",
              "8874            -1   Negative   \n",
              "8875            -1   Negative   \n",
              "8876            -1   Negative   \n",
              "8877            -1   Negative   \n",
              "8878            -1   Negative   \n",
              "\n",
              "                                                                                                                                                                                                                                                                                                                                                                                                                                                                                                                                                                                                                                                                                                                                                                   cleaned_review  \n",
              "0                                                                                                                                                                                                                                                                                                                                                                                                                                                                   [second, time, visit, place, wanted, write, new, review, place, nice, lebanese, restaurant, owner, really, nice, helpful, food, good, thing, liked, chicken, shawarma, best, philadelphia, till, chicken, shawarma, wrap, amazing, close, authentic, sfehas, fatayer, really, delicious, highly, recommended]  \n",
              "1                                                                                                                                                                                                                                                                                                                                                                                                                                                                                                                                                           [schwarma, lamb, cafe, baladi, absolutely, delicious, severe, dairy, allergy, owner, able, accommodate, another, restaurant, add, list, great, go, place, malvern, owner, employee, super, friendly, food, delicious]  \n",
              "2                                                                                                                                                                                                                                                                                                                                                                                                                                                                                                                                                                                                                                                                                                          [simple, best, homemade, food, quality, looking, comfort, food, place]  \n",
              "3                                                                                                                                                                                                                                                                                                                                                                                                                                                                                                                                                                                                                 [husband, red, platter, lunch, tahini, salad, everything, authentic, incredible, already, talking, order, next, time, service, excellent, wait, go, back, soon]  \n",
              "4                                                                                                                                                                                                                                                                                                                                                                                                                                                                                                                                                                                                                                                                   [le, average, salty, food, much, menu, look, like, need, extra, people, help, slow, expensive, quality, food]  \n",
              "...                                                                                                                                                                                                                                                                                                                                                                                                                                                                                                                                                                                                                                                                                                                                                                           ...  \n",
              "8874                                                                                                                                                                                                                                                                                                                                                                                                                                                                                                                                                                                                                                                               [far, worst, urgent, care, ever, long, wait, empty, time, way, overpriced, disrespectful, people, barely, job]  \n",
              "8875                                                                                                                                                                                                                                                                                                                                                                                                                                                                                                                                                             [called, appointment, waited, minute, get, visiting, covid, rapid, test, swabbed, nurse, waited, minute, doctor, come, room, spent, literally, second, place, totally, disrespectful, time, go, somewhere, else]  \n",
              "8876                                                                                                                                                                                                                                                                                                                                                                                                                                                                                                                                                                                      [staff, uneducated, medical, professional, clueless, form, treatment, attitude, unnecessarily, rude, also, people, clinic, wait, hour, finally, seen, absurd, honestly, place, audited]  \n",
              "8877  [went, yesterday, help, bad, virus, giving, flu, like, symptom, sure, ever, come, back, location, medical, concern, bad, review, right, next, house, sick, felt, unsafe, driving, west, nash, pcp, front, desk, staff, kind, got, relatively, quickly, unprepared, low, stock, test, swab, kind, test, kind, accuracy, already, tested, neg, covid, nissan, doctor, listen, complaint, validate, concern, rushed, could, think, needed, ask, disclose, asked, symptom, bothering, told, ache, pain, w, fever, bad, worst, chest, burning, urge, cough, shortness, breath, preventing, sleeping, said, well, listened, lung, hear, wheezing, running, fever, since, symptom, began, time, went, take, patient, seriously, later, night, fever, back, audible, wheezing, ...]  \n",
              "8878                                                                                                                                                                                                                                      [staff, nice, place, waste, money, went, six, week, ago, received, care, bad, cough, cold, six, week, later, cough, gone, away, experiencing, new, symptom, went, back, sent, madison, location, get, chest, xray, checked, waited, almost, hour, asking, would, seen, staff, somehow, forgot, waiting, even, though, person, waiting, room, received, diagnosis, told, take, ibuprofen, follow, day, feeling, better, follow, told, would, come, pay, another, appointment, wanted, follow, appointment, expensive, insurance, racket]  \n",
              "\n",
              "[8879 rows x 5 columns]"
            ],
            "text/html": [
              "\n",
              "  <div id=\"df-8cd8b702-e9a0-41ff-ad5a-0f83b24722e4\">\n",
              "    <div class=\"colab-df-container\">\n",
              "      <div>\n",
              "<style scoped>\n",
              "    .dataframe tbody tr th:only-of-type {\n",
              "        vertical-align: middle;\n",
              "    }\n",
              "\n",
              "    .dataframe tbody tr th {\n",
              "        vertical-align: top;\n",
              "    }\n",
              "\n",
              "    .dataframe thead th {\n",
              "        text-align: right;\n",
              "    }\n",
              "</style>\n",
              "<table border=\"1\" class=\"dataframe\">\n",
              "  <thead>\n",
              "    <tr style=\"text-align: right;\">\n",
              "      <th></th>\n",
              "      <th>stars</th>\n",
              "      <th>text</th>\n",
              "      <th>rating_score</th>\n",
              "      <th>sentiments</th>\n",
              "      <th>cleaned_review</th>\n",
              "    </tr>\n",
              "  </thead>\n",
              "  <tbody>\n",
              "    <tr>\n",
              "      <th>0</th>\n",
              "      <td>4</td>\n",
              "      <td>This is the second time I visit this place so I wanted to write a new review for it. The place is a nice Lebanese restaurant and owners are really nice and helpful. Food is very good. But the thing I liked the most is chicken shawarma which is the best I had in Philadelphia till now. Chicken shawarma wraps are amazing and very close to authentic. Sfehas and fatayer are really very delicious. Highly recommended.</td>\n",
              "      <td>1</td>\n",
              "      <td>Positive</td>\n",
              "      <td>[second, time, visit, place, wanted, write, new, review, place, nice, lebanese, restaurant, owner, really, nice, helpful, food, good, thing, liked, chicken, shawarma, best, philadelphia, till, chicken, shawarma, wrap, amazing, close, authentic, sfehas, fatayer, really, delicious, highly, recommended]</td>\n",
              "    </tr>\n",
              "    <tr>\n",
              "      <th>1</th>\n",
              "      <td>5</td>\n",
              "      <td>I had the schwarma with lamb at Cafe Baladi. It was absolutely delicious. I have a severe dairy allergy and the owner was able to accommodate me. This is another restaurant that I can add to my list of great go-to places in Malvern! The owner and employees are super friendly and the food is delicious.</td>\n",
              "      <td>1</td>\n",
              "      <td>Positive</td>\n",
              "      <td>[schwarma, lamb, cafe, baladi, absolutely, delicious, severe, dairy, allergy, owner, able, accommodate, another, restaurant, add, list, great, go, place, malvern, owner, employee, super, friendly, food, delicious]</td>\n",
              "    </tr>\n",
              "    <tr>\n",
              "      <th>2</th>\n",
              "      <td>5</td>\n",
              "      <td>Simple the best!. Homemade food quality. If you're looking for a comfort food this is your place.</td>\n",
              "      <td>1</td>\n",
              "      <td>Positive</td>\n",
              "      <td>[simple, best, homemade, food, quality, looking, comfort, food, place]</td>\n",
              "    </tr>\n",
              "    <tr>\n",
              "      <th>3</th>\n",
              "      <td>5</td>\n",
              "      <td>My husband and I each had the \"red platter\" for lunch with a tahini salad. Everything was authentic and incredible! We are already talking about what we'll order next time :) The service was excellent! Can't wait to go back soon.</td>\n",
              "      <td>1</td>\n",
              "      <td>Positive</td>\n",
              "      <td>[husband, red, platter, lunch, tahini, salad, everything, authentic, incredible, already, talking, order, next, time, service, excellent, wait, go, back, soon]</td>\n",
              "    </tr>\n",
              "    <tr>\n",
              "      <th>4</th>\n",
              "      <td>2</td>\n",
              "      <td>Just less than average. Very very salty food. \\nNot much on the menu. Looks like they need extra people to help them as they were slow. And expensive for the quality of food.</td>\n",
              "      <td>-1</td>\n",
              "      <td>Negative</td>\n",
              "      <td>[le, average, salty, food, much, menu, look, like, need, extra, people, help, slow, expensive, quality, food]</td>\n",
              "    </tr>\n",
              "    <tr>\n",
              "      <th>...</th>\n",
              "      <td>...</td>\n",
              "      <td>...</td>\n",
              "      <td>...</td>\n",
              "      <td>...</td>\n",
              "      <td>...</td>\n",
              "    </tr>\n",
              "    <tr>\n",
              "      <th>8874</th>\n",
              "      <td>1</td>\n",
              "      <td>By far the worst urgent care ever. Long waits during empty times. Way overpriced for disrespectful people to barely do their jobs.</td>\n",
              "      <td>-1</td>\n",
              "      <td>Negative</td>\n",
              "      <td>[far, worst, urgent, care, ever, long, wait, empty, time, way, overpriced, disrespectful, people, barely, job]</td>\n",
              "    </tr>\n",
              "    <tr>\n",
              "      <th>8875</th>\n",
              "      <td>1</td>\n",
              "      <td>I was called in for an appointment and waited over 40 minutes to get in. I was only visiting for a covid rapid test. I was swabbed by a nurse and waited over 45 minutes for a doctor to come into the room, who then spent literally 60 seconds with me. This place is totally disrespectful of your time. Go somewhere else.</td>\n",
              "      <td>-1</td>\n",
              "      <td>Negative</td>\n",
              "      <td>[called, appointment, waited, minute, get, visiting, covid, rapid, test, swabbed, nurse, waited, minute, doctor, come, room, spent, literally, second, place, totally, disrespectful, time, go, somewhere, else]</td>\n",
              "    </tr>\n",
              "    <tr>\n",
              "      <th>8876</th>\n",
              "      <td>1</td>\n",
              "      <td>The staff here are some of the most uneducated \"medical professionals\". Not only are they clueless about any form of treatment, but their attitude is unnecessarily rude. Also, having been the only people in the clinic to wait 2 hours to finally be seen is absurd. Honestly, this place should be audited.</td>\n",
              "      <td>-1</td>\n",
              "      <td>Negative</td>\n",
              "      <td>[staff, uneducated, medical, professional, clueless, form, treatment, attitude, unnecessarily, rude, also, people, clinic, wait, hour, finally, seen, absurd, honestly, place, audited]</td>\n",
              "    </tr>\n",
              "    <tr>\n",
              "      <th>8877</th>\n",
              "      <td>1</td>\n",
              "      <td>Went here yesterday for help with a bad virus giving me flu-like symptoms, I'm not sure that I'll ever come back to this location for any medical concern. It has bad reviews but it's right next to my house. I'm very sick, and felt unsafe driving to West nash for my PCP. Front desk staff was kind and they got me in relatively quickly, but they were unprepared with low stock on tests and swabs. The only kind of tests they did have were the kinds with 50-70% accuracy. (I had already tested neg for covid at Nissan)\\nThe doctor did not listen to my complaints, she did not validate my concerns and she rushed me so that i could not think of what i needed to ask or disclose. She asked what symptoms were bothering me the most. I told her aches and pains w/fever were bad and worst was my chest burning and an urge to cough and shortness of breath preventing me from sleeping. She said \"well i listened to your lungs and didn't hear any wheezing\". I had been running a 101 fever on and off since symptoms began but wasn't at the time i went in, is that why she didn't take the patient seriously?\\nLater that night fever back, audible wheezing, by this morning the infection has fully spread to my chest. I feel horrible and i wasted my money coming here. I paid for no medical care whatsoever. \\nThe reason for a one star review is any doctor who is unable to listen to the patient is also unable to provide medical care. \\nFor anyone reading this, remember YOU are the authority on your own body. You are the one experiencing your symptoms. You know how you feel. Find a doctor who respects that.</td>\n",
              "      <td>-1</td>\n",
              "      <td>Negative</td>\n",
              "      <td>[went, yesterday, help, bad, virus, giving, flu, like, symptom, sure, ever, come, back, location, medical, concern, bad, review, right, next, house, sick, felt, unsafe, driving, west, nash, pcp, front, desk, staff, kind, got, relatively, quickly, unprepared, low, stock, test, swab, kind, test, kind, accuracy, already, tested, neg, covid, nissan, doctor, listen, complaint, validate, concern, rushed, could, think, needed, ask, disclose, asked, symptom, bothering, told, ache, pain, w, fever, bad, worst, chest, burning, urge, cough, shortness, breath, preventing, sleeping, said, well, listened, lung, hear, wheezing, running, fever, since, symptom, began, time, went, take, patient, seriously, later, night, fever, back, audible, wheezing, ...]</td>\n",
              "    </tr>\n",
              "    <tr>\n",
              "      <th>8878</th>\n",
              "      <td>1</td>\n",
              "      <td>The staff are nice but this place is a waste of money. I went in six weeks ago or so and received care for a bad cough/cold. Six weeks later, the cough hadn't gone away and I was experiencing new symptoms so I went back. I was sent to the Madison location to get a chest xray, where I checked in and waited for almost an hour before asking when I would be seen.The staff somehow forgot that I was waiting, even though I was the only person in the waiting room. I received no diagnosis, was told to take Ibuprofen and follow up in a few days if I wasn't feeling better. I did follow up, and they told me I would have to come in and pay for another appointment if I wanted to do a follow up. Appointments are MORE expensive with insurance. It's a racket.</td>\n",
              "      <td>-1</td>\n",
              "      <td>Negative</td>\n",
              "      <td>[staff, nice, place, waste, money, went, six, week, ago, received, care, bad, cough, cold, six, week, later, cough, gone, away, experiencing, new, symptom, went, back, sent, madison, location, get, chest, xray, checked, waited, almost, hour, asking, would, seen, staff, somehow, forgot, waiting, even, though, person, waiting, room, received, diagnosis, told, take, ibuprofen, follow, day, feeling, better, follow, told, would, come, pay, another, appointment, wanted, follow, appointment, expensive, insurance, racket]</td>\n",
              "    </tr>\n",
              "  </tbody>\n",
              "</table>\n",
              "<p>8879 rows × 5 columns</p>\n",
              "</div>\n",
              "      <button class=\"colab-df-convert\" onclick=\"convertToInteractive('df-8cd8b702-e9a0-41ff-ad5a-0f83b24722e4')\"\n",
              "              title=\"Convert this dataframe to an interactive table.\"\n",
              "              style=\"display:none;\">\n",
              "        \n",
              "  <svg xmlns=\"http://www.w3.org/2000/svg\" height=\"24px\"viewBox=\"0 0 24 24\"\n",
              "       width=\"24px\">\n",
              "    <path d=\"M0 0h24v24H0V0z\" fill=\"none\"/>\n",
              "    <path d=\"M18.56 5.44l.94 2.06.94-2.06 2.06-.94-2.06-.94-.94-2.06-.94 2.06-2.06.94zm-11 1L8.5 8.5l.94-2.06 2.06-.94-2.06-.94L8.5 2.5l-.94 2.06-2.06.94zm10 10l.94 2.06.94-2.06 2.06-.94-2.06-.94-.94-2.06-.94 2.06-2.06.94z\"/><path d=\"M17.41 7.96l-1.37-1.37c-.4-.4-.92-.59-1.43-.59-.52 0-1.04.2-1.43.59L10.3 9.45l-7.72 7.72c-.78.78-.78 2.05 0 2.83L4 21.41c.39.39.9.59 1.41.59.51 0 1.02-.2 1.41-.59l7.78-7.78 2.81-2.81c.8-.78.8-2.07 0-2.86zM5.41 20L4 18.59l7.72-7.72 1.47 1.35L5.41 20z\"/>\n",
              "  </svg>\n",
              "      </button>\n",
              "      \n",
              "  <style>\n",
              "    .colab-df-container {\n",
              "      display:flex;\n",
              "      flex-wrap:wrap;\n",
              "      gap: 12px;\n",
              "    }\n",
              "\n",
              "    .colab-df-convert {\n",
              "      background-color: #E8F0FE;\n",
              "      border: none;\n",
              "      border-radius: 50%;\n",
              "      cursor: pointer;\n",
              "      display: none;\n",
              "      fill: #1967D2;\n",
              "      height: 32px;\n",
              "      padding: 0 0 0 0;\n",
              "      width: 32px;\n",
              "    }\n",
              "\n",
              "    .colab-df-convert:hover {\n",
              "      background-color: #E2EBFA;\n",
              "      box-shadow: 0px 1px 2px rgba(60, 64, 67, 0.3), 0px 1px 3px 1px rgba(60, 64, 67, 0.15);\n",
              "      fill: #174EA6;\n",
              "    }\n",
              "\n",
              "    [theme=dark] .colab-df-convert {\n",
              "      background-color: #3B4455;\n",
              "      fill: #D2E3FC;\n",
              "    }\n",
              "\n",
              "    [theme=dark] .colab-df-convert:hover {\n",
              "      background-color: #434B5C;\n",
              "      box-shadow: 0px 1px 3px 1px rgba(0, 0, 0, 0.15);\n",
              "      filter: drop-shadow(0px 1px 2px rgba(0, 0, 0, 0.3));\n",
              "      fill: #FFFFFF;\n",
              "    }\n",
              "  </style>\n",
              "\n",
              "      <script>\n",
              "        const buttonEl =\n",
              "          document.querySelector('#df-8cd8b702-e9a0-41ff-ad5a-0f83b24722e4 button.colab-df-convert');\n",
              "        buttonEl.style.display =\n",
              "          google.colab.kernel.accessAllowed ? 'block' : 'none';\n",
              "\n",
              "        async function convertToInteractive(key) {\n",
              "          const element = document.querySelector('#df-8cd8b702-e9a0-41ff-ad5a-0f83b24722e4');\n",
              "          const dataTable =\n",
              "            await google.colab.kernel.invokeFunction('convertToInteractive',\n",
              "                                                     [key], {});\n",
              "          if (!dataTable) return;\n",
              "\n",
              "          const docLinkHtml = 'Like what you see? Visit the ' +\n",
              "            '<a target=\"_blank\" href=https://colab.research.google.com/notebooks/data_table.ipynb>data table notebook</a>'\n",
              "            + ' to learn more about interactive tables.';\n",
              "          element.innerHTML = '';\n",
              "          dataTable['output_type'] = 'display_data';\n",
              "          await google.colab.output.renderOutput(dataTable, element);\n",
              "          const docLink = document.createElement('div');\n",
              "          docLink.innerHTML = docLinkHtml;\n",
              "          element.appendChild(docLink);\n",
              "        }\n",
              "      </script>\n",
              "    </div>\n",
              "  </div>\n",
              "  "
            ]
          },
          "metadata": {},
          "execution_count": 49
        }
      ],
      "source": [
        "data"
      ]
    },
    {
      "cell_type": "code",
      "execution_count": 50,
      "id": "f0f5a814",
      "metadata": {
        "id": "f0f5a814",
        "colab": {
          "base_uri": "https://localhost:8080/"
        },
        "outputId": "786b06f7-208c-4a13-a240-91e87ba14468"
      },
      "outputs": [
        {
          "output_type": "stream",
          "name": "stdout",
          "text": [
            "Printing top 5 rows of dataframe showing original and cleaned reviews....\n",
            "                                                                                                                                                                                                                                                                                                                                                                                                                             text  \\\n",
            "0  This is the second time I visit this place so I wanted to write a new review for it. The place is a nice Lebanese restaurant and owners are really nice and helpful. Food is very good. But the thing I liked the most is chicken shawarma which is the best I had in Philadelphia till now. Chicken shawarma wraps are amazing and very close to authentic. Sfehas and fatayer are really very delicious. Highly recommended.   \n",
            "1                                                                                                                  I had the schwarma with lamb at Cafe Baladi. It was absolutely delicious. I have a severe dairy allergy and the owner was able to accommodate me. This is another restaurant that I can add to my list of great go-to places in Malvern! The owner and employees are super friendly and the food is delicious.   \n",
            "2                                                                                                                                                                                                                                                                                                                               Simple the best!. Homemade food quality. If you're looking for a comfort food this is your place.   \n",
            "3                                                                                                                                                                                           My husband and I each had the \"red platter\" for lunch with a tahini salad. Everything was authentic and incredible! We are already talking about what we'll order next time :) The service was excellent! Can't wait to go back soon.   \n",
            "4                                                                                                                                                                                                                                                  Just less than average. Very very salty food. \\nNot much on the menu. Looks like they need extra people to help them as they were slow. And expensive for the quality of food.   \n",
            "\n",
            "                                                                                                                                                                                                                                                                                                  cleaned_review  \n",
            "0  [second, time, visit, place, wanted, write, new, review, place, nice, lebanese, restaurant, owner, really, nice, helpful, food, good, thing, liked, chicken, shawarma, best, philadelphia, till, chicken, shawarma, wrap, amazing, close, authentic, sfehas, fatayer, really, delicious, highly, recommended]  \n",
            "1                                                                                          [schwarma, lamb, cafe, baladi, absolutely, delicious, severe, dairy, allergy, owner, able, accommodate, another, restaurant, add, list, great, go, place, malvern, owner, employee, super, friendly, food, delicious]  \n",
            "2                                                                                                                                                                                                                                         [simple, best, homemade, food, quality, looking, comfort, food, place]  \n",
            "3                                                                                                                                                [husband, red, platter, lunch, tahini, salad, everything, authentic, incredible, already, talking, order, next, time, service, excellent, wait, go, back, soon]  \n",
            "4                                                                                                                                                                                                  [le, average, salty, food, much, menu, look, like, need, extra, people, help, slow, expensive, quality, food]  \n"
          ]
        }
      ],
      "source": [
        "data = data[data['cleaned_review'].map(len) > 0] # removing rows of length 0 (if any)\n",
        "#data.head()\n",
        "print(\"Printing top 5 rows of dataframe showing original and cleaned reviews....\")\n",
        "print(data[['text','cleaned_review']].head())"
      ]
    },
    {
      "cell_type": "markdown",
      "source": [
        "Joining the tokens to form a string. i.e changing it from list to string type that is required for wordcloud"
      ],
      "metadata": {
        "id": "kAFxgYQi7ftt"
      },
      "id": "kAFxgYQi7ftt"
    },
    {
      "cell_type": "code",
      "source": [
        "data['cleaned_review'] = [\" \".join(row) for row in data['cleaned_review'].values] # joining tokens to create strings.\n",
        "data.head()"
      ],
      "metadata": {
        "id": "Xs5oQKRJaGKY",
        "colab": {
          "base_uri": "https://localhost:8080/",
          "height": 389
        },
        "outputId": "e392a79c-b3fb-47b1-e699-276d0593bd2a"
      },
      "id": "Xs5oQKRJaGKY",
      "execution_count": 51,
      "outputs": [
        {
          "output_type": "execute_result",
          "data": {
            "text/plain": [
              "   stars  \\\n",
              "0      4   \n",
              "1      5   \n",
              "2      5   \n",
              "3      5   \n",
              "4      2   \n",
              "\n",
              "                                                                                                                                                                                                                                                                                                                                                                                                                             text  \\\n",
              "0  This is the second time I visit this place so I wanted to write a new review for it. The place is a nice Lebanese restaurant and owners are really nice and helpful. Food is very good. But the thing I liked the most is chicken shawarma which is the best I had in Philadelphia till now. Chicken shawarma wraps are amazing and very close to authentic. Sfehas and fatayer are really very delicious. Highly recommended.   \n",
              "1                                                                                                                  I had the schwarma with lamb at Cafe Baladi. It was absolutely delicious. I have a severe dairy allergy and the owner was able to accommodate me. This is another restaurant that I can add to my list of great go-to places in Malvern! The owner and employees are super friendly and the food is delicious.   \n",
              "2                                                                                                                                                                                                                                                                                                                               Simple the best!. Homemade food quality. If you're looking for a comfort food this is your place.   \n",
              "3                                                                                                                                                                                           My husband and I each had the \"red platter\" for lunch with a tahini salad. Everything was authentic and incredible! We are already talking about what we'll order next time :) The service was excellent! Can't wait to go back soon.   \n",
              "4                                                                                                                                                                                                                                                  Just less than average. Very very salty food. \\nNot much on the menu. Looks like they need extra people to help them as they were slow. And expensive for the quality of food.   \n",
              "\n",
              "   rating_score sentiments  \\\n",
              "0             1   Positive   \n",
              "1             1   Positive   \n",
              "2             1   Positive   \n",
              "3             1   Positive   \n",
              "4            -1   Negative   \n",
              "\n",
              "                                                                                                                                                                                                                                                            cleaned_review  \n",
              "0  second time visit place wanted write new review place nice lebanese restaurant owner really nice helpful food good thing liked chicken shawarma best philadelphia till chicken shawarma wrap amazing close authentic sfehas fatayer really delicious highly recommended  \n",
              "1                                                                               schwarma lamb cafe baladi absolutely delicious severe dairy allergy owner able accommodate another restaurant add list great go place malvern owner employee super friendly food delicious  \n",
              "2                                                                                                                                                                                                             simple best homemade food quality looking comfort food place  \n",
              "3                                                                                                                               husband red platter lunch tahini salad everything authentic incredible already talking order next time service excellent wait go back soon  \n",
              "4                                                                                                                                                                             le average salty food much menu look like need extra people help slow expensive quality food  "
            ],
            "text/html": [
              "\n",
              "  <div id=\"df-a6a0eec7-1ac2-4fb8-ba11-82e14f92c27a\">\n",
              "    <div class=\"colab-df-container\">\n",
              "      <div>\n",
              "<style scoped>\n",
              "    .dataframe tbody tr th:only-of-type {\n",
              "        vertical-align: middle;\n",
              "    }\n",
              "\n",
              "    .dataframe tbody tr th {\n",
              "        vertical-align: top;\n",
              "    }\n",
              "\n",
              "    .dataframe thead th {\n",
              "        text-align: right;\n",
              "    }\n",
              "</style>\n",
              "<table border=\"1\" class=\"dataframe\">\n",
              "  <thead>\n",
              "    <tr style=\"text-align: right;\">\n",
              "      <th></th>\n",
              "      <th>stars</th>\n",
              "      <th>text</th>\n",
              "      <th>rating_score</th>\n",
              "      <th>sentiments</th>\n",
              "      <th>cleaned_review</th>\n",
              "    </tr>\n",
              "  </thead>\n",
              "  <tbody>\n",
              "    <tr>\n",
              "      <th>0</th>\n",
              "      <td>4</td>\n",
              "      <td>This is the second time I visit this place so I wanted to write a new review for it. The place is a nice Lebanese restaurant and owners are really nice and helpful. Food is very good. But the thing I liked the most is chicken shawarma which is the best I had in Philadelphia till now. Chicken shawarma wraps are amazing and very close to authentic. Sfehas and fatayer are really very delicious. Highly recommended.</td>\n",
              "      <td>1</td>\n",
              "      <td>Positive</td>\n",
              "      <td>second time visit place wanted write new review place nice lebanese restaurant owner really nice helpful food good thing liked chicken shawarma best philadelphia till chicken shawarma wrap amazing close authentic sfehas fatayer really delicious highly recommended</td>\n",
              "    </tr>\n",
              "    <tr>\n",
              "      <th>1</th>\n",
              "      <td>5</td>\n",
              "      <td>I had the schwarma with lamb at Cafe Baladi. It was absolutely delicious. I have a severe dairy allergy and the owner was able to accommodate me. This is another restaurant that I can add to my list of great go-to places in Malvern! The owner and employees are super friendly and the food is delicious.</td>\n",
              "      <td>1</td>\n",
              "      <td>Positive</td>\n",
              "      <td>schwarma lamb cafe baladi absolutely delicious severe dairy allergy owner able accommodate another restaurant add list great go place malvern owner employee super friendly food delicious</td>\n",
              "    </tr>\n",
              "    <tr>\n",
              "      <th>2</th>\n",
              "      <td>5</td>\n",
              "      <td>Simple the best!. Homemade food quality. If you're looking for a comfort food this is your place.</td>\n",
              "      <td>1</td>\n",
              "      <td>Positive</td>\n",
              "      <td>simple best homemade food quality looking comfort food place</td>\n",
              "    </tr>\n",
              "    <tr>\n",
              "      <th>3</th>\n",
              "      <td>5</td>\n",
              "      <td>My husband and I each had the \"red platter\" for lunch with a tahini salad. Everything was authentic and incredible! We are already talking about what we'll order next time :) The service was excellent! Can't wait to go back soon.</td>\n",
              "      <td>1</td>\n",
              "      <td>Positive</td>\n",
              "      <td>husband red platter lunch tahini salad everything authentic incredible already talking order next time service excellent wait go back soon</td>\n",
              "    </tr>\n",
              "    <tr>\n",
              "      <th>4</th>\n",
              "      <td>2</td>\n",
              "      <td>Just less than average. Very very salty food. \\nNot much on the menu. Looks like they need extra people to help them as they were slow. And expensive for the quality of food.</td>\n",
              "      <td>-1</td>\n",
              "      <td>Negative</td>\n",
              "      <td>le average salty food much menu look like need extra people help slow expensive quality food</td>\n",
              "    </tr>\n",
              "  </tbody>\n",
              "</table>\n",
              "</div>\n",
              "      <button class=\"colab-df-convert\" onclick=\"convertToInteractive('df-a6a0eec7-1ac2-4fb8-ba11-82e14f92c27a')\"\n",
              "              title=\"Convert this dataframe to an interactive table.\"\n",
              "              style=\"display:none;\">\n",
              "        \n",
              "  <svg xmlns=\"http://www.w3.org/2000/svg\" height=\"24px\"viewBox=\"0 0 24 24\"\n",
              "       width=\"24px\">\n",
              "    <path d=\"M0 0h24v24H0V0z\" fill=\"none\"/>\n",
              "    <path d=\"M18.56 5.44l.94 2.06.94-2.06 2.06-.94-2.06-.94-.94-2.06-.94 2.06-2.06.94zm-11 1L8.5 8.5l.94-2.06 2.06-.94-2.06-.94L8.5 2.5l-.94 2.06-2.06.94zm10 10l.94 2.06.94-2.06 2.06-.94-2.06-.94-.94-2.06-.94 2.06-2.06.94z\"/><path d=\"M17.41 7.96l-1.37-1.37c-.4-.4-.92-.59-1.43-.59-.52 0-1.04.2-1.43.59L10.3 9.45l-7.72 7.72c-.78.78-.78 2.05 0 2.83L4 21.41c.39.39.9.59 1.41.59.51 0 1.02-.2 1.41-.59l7.78-7.78 2.81-2.81c.8-.78.8-2.07 0-2.86zM5.41 20L4 18.59l7.72-7.72 1.47 1.35L5.41 20z\"/>\n",
              "  </svg>\n",
              "      </button>\n",
              "      \n",
              "  <style>\n",
              "    .colab-df-container {\n",
              "      display:flex;\n",
              "      flex-wrap:wrap;\n",
              "      gap: 12px;\n",
              "    }\n",
              "\n",
              "    .colab-df-convert {\n",
              "      background-color: #E8F0FE;\n",
              "      border: none;\n",
              "      border-radius: 50%;\n",
              "      cursor: pointer;\n",
              "      display: none;\n",
              "      fill: #1967D2;\n",
              "      height: 32px;\n",
              "      padding: 0 0 0 0;\n",
              "      width: 32px;\n",
              "    }\n",
              "\n",
              "    .colab-df-convert:hover {\n",
              "      background-color: #E2EBFA;\n",
              "      box-shadow: 0px 1px 2px rgba(60, 64, 67, 0.3), 0px 1px 3px 1px rgba(60, 64, 67, 0.15);\n",
              "      fill: #174EA6;\n",
              "    }\n",
              "\n",
              "    [theme=dark] .colab-df-convert {\n",
              "      background-color: #3B4455;\n",
              "      fill: #D2E3FC;\n",
              "    }\n",
              "\n",
              "    [theme=dark] .colab-df-convert:hover {\n",
              "      background-color: #434B5C;\n",
              "      box-shadow: 0px 1px 3px 1px rgba(0, 0, 0, 0.15);\n",
              "      filter: drop-shadow(0px 1px 2px rgba(0, 0, 0, 0.3));\n",
              "      fill: #FFFFFF;\n",
              "    }\n",
              "  </style>\n",
              "\n",
              "      <script>\n",
              "        const buttonEl =\n",
              "          document.querySelector('#df-a6a0eec7-1ac2-4fb8-ba11-82e14f92c27a button.colab-df-convert');\n",
              "        buttonEl.style.display =\n",
              "          google.colab.kernel.accessAllowed ? 'block' : 'none';\n",
              "\n",
              "        async function convertToInteractive(key) {\n",
              "          const element = document.querySelector('#df-a6a0eec7-1ac2-4fb8-ba11-82e14f92c27a');\n",
              "          const dataTable =\n",
              "            await google.colab.kernel.invokeFunction('convertToInteractive',\n",
              "                                                     [key], {});\n",
              "          if (!dataTable) return;\n",
              "\n",
              "          const docLinkHtml = 'Like what you see? Visit the ' +\n",
              "            '<a target=\"_blank\" href=https://colab.research.google.com/notebooks/data_table.ipynb>data table notebook</a>'\n",
              "            + ' to learn more about interactive tables.';\n",
              "          element.innerHTML = '';\n",
              "          dataTable['output_type'] = 'display_data';\n",
              "          await google.colab.output.renderOutput(dataTable, element);\n",
              "          const docLink = document.createElement('div');\n",
              "          docLink.innerHTML = docLinkHtml;\n",
              "          element.appendChild(docLink);\n",
              "        }\n",
              "      </script>\n",
              "    </div>\n",
              "  </div>\n",
              "  "
            ]
          },
          "metadata": {},
          "execution_count": 51
        }
      ]
    },
    {
      "cell_type": "markdown",
      "source": [
        "### 2nd Method of cleaning the text column data.\n",
        "Using this 'replace_contractions' as the cleaner function and then applying certain lambda functions and getting the results in the cleaned_text column"
      ],
      "metadata": {
        "id": "Fwa54lEo7rkp"
      },
      "id": "Fwa54lEo7rkp"
    },
    {
      "cell_type": "markdown",
      "source": [
        "After applying this replace_contractions, the cleaned_text column is cleaned but it still is in plural form (has a lot of words ending with plural(s), eg: times, symptoms, reviews, tests, swabs, etc)\n",
        "\n",
        "This is being overcomeed by applying the 'lemmatize' function on the cleaned_text and saving the result after lemmatizing in lemmatized_text.\n",
        "\n",
        "The lemmatized_text column from here and the cleaned_review column from the above cleaner, gives the same results"
      ],
      "metadata": {
        "id": "EOYGQAUD-WKM"
      },
      "id": "EOYGQAUD-WKM"
    },
    {
      "cell_type": "code",
      "source": [
        "def replace_contractions(text):\n",
        "    new_text = []\n",
        "    for word in text.split():\n",
        "        new_text.append(contractions.fix(word))\n",
        "        \n",
        "    return ' '.join(new_text)"
      ],
      "metadata": {
        "id": "kdtfmlJRKdlT"
      },
      "execution_count": 52,
      "outputs": [],
      "id": "kdtfmlJRKdlT"
    },
    {
      "cell_type": "code",
      "source": [
        "data['cleaned_text'] = data['text'].apply(lambda x:x.lower()) #lowercase\n",
        "data['cleaned_text'] = data['cleaned_text'].apply(lambda x:replace_contractions(x)) #remove contractions\n",
        "data['cleaned_text'] = data['cleaned_text'].apply(lambda x:re.sub(r\"&amp\",\" \",x)) #remove amps\n",
        "data['cleaned_text'] = data['cleaned_text'].apply(lambda x:re.sub(r\"http\\S+\",\" \",x)) #remove urls\n",
        "data['cleaned_text'] = data['cleaned_text'].apply(lambda x:re.sub(r\"\\n\",\" \",x)) #remove break lines\n",
        "data['cleaned_text'] = data['cleaned_text'].apply(lambda x:re.sub(r\"@[A-Za-z0-9]+\",\" \",x)) #remove mentions\n",
        "data['cleaned_text'] = data['cleaned_text'].apply(lambda x:re.sub(r\"RT\",\" \",x)) #remove retweet\n",
        "data['cleaned_text'] = data['cleaned_text'].apply(lambda x:re.sub(r\"[^0-9a-zA-Z\\s]+\",\" \",x)) #remove punctuactions\n",
        "data['cleaned_text'] = data['cleaned_text'].apply(lambda x:re.sub(r\"\\d+\",\"\",x)) #remove numbers\n",
        "data['cleaned_text'] = data['cleaned_text'].apply(lambda x:re.sub(r\"^ +| +$\",\"\",x)) #remove leading and trailing white spaces\n",
        "data['cleaned_text'] = data['cleaned_text'].apply(lambda x:re.sub(r\" +\",\" \",x)) #remove duplicated white spaces\n",
        "data['cleaned_text'] = data['cleaned_text'].apply(lambda x:x.encode('ascii', 'ignore').decode('ascii')) #remove emojis\n",
        "data['cleaned_text'] = data['cleaned_text'].apply(lambda x: \" \".join(x for x in x.split() if x not in stop_words)) #removing stopwords"
      ],
      "metadata": {
        "id": "KlXnbF0eHMvt"
      },
      "execution_count": 53,
      "outputs": [],
      "id": "KlXnbF0eHMvt"
    },
    {
      "cell_type": "code",
      "source": [
        "data.head()"
      ],
      "metadata": {
        "id": "Wk8m9zKj9OTD"
      },
      "id": "Wk8m9zKj9OTD",
      "execution_count": null,
      "outputs": []
    },
    {
      "cell_type": "code",
      "source": [
        "data"
      ],
      "metadata": {
        "id": "I663BYu19Sy7"
      },
      "id": "I663BYu19Sy7",
      "execution_count": null,
      "outputs": []
    },
    {
      "cell_type": "code",
      "source": [
        "def lemmatize(text):\n",
        "  new_text = []\n",
        "  wordnet_lemmatizer = WordNetLemmatizer()\n",
        "  for word in text.split():\n",
        "    new_text.append(wordnet_lemmatizer.lemmatize(word))\n",
        "\n",
        "  return ' '.join(new_text)"
      ],
      "metadata": {
        "id": "g-87fyNiKnDR"
      },
      "execution_count": 56,
      "outputs": [],
      "id": "g-87fyNiKnDR"
    },
    {
      "cell_type": "code",
      "source": [
        "data['lemmatized_text'] = data['cleaned_text'].apply(lambda x:lemmatize(x))\n",
        "data.head()"
      ],
      "metadata": {
        "colab": {
          "base_uri": "https://localhost:8080/",
          "height": 632
        },
        "id": "XMlh4bY_4lsE",
        "outputId": "972ffd44-3e29-45ae-d1b3-7fbdf6ff8afe"
      },
      "id": "XMlh4bY_4lsE",
      "execution_count": 57,
      "outputs": [
        {
          "output_type": "execute_result",
          "data": {
            "text/plain": [
              "   stars  \\\n",
              "0      4   \n",
              "1      5   \n",
              "2      5   \n",
              "3      5   \n",
              "4      2   \n",
              "\n",
              "                                                                                                                                                                                                                                                                                                                                                                                                                             text  \\\n",
              "0  This is the second time I visit this place so I wanted to write a new review for it. The place is a nice Lebanese restaurant and owners are really nice and helpful. Food is very good. But the thing I liked the most is chicken shawarma which is the best I had in Philadelphia till now. Chicken shawarma wraps are amazing and very close to authentic. Sfehas and fatayer are really very delicious. Highly recommended.   \n",
              "1                                                                                                                  I had the schwarma with lamb at Cafe Baladi. It was absolutely delicious. I have a severe dairy allergy and the owner was able to accommodate me. This is another restaurant that I can add to my list of great go-to places in Malvern! The owner and employees are super friendly and the food is delicious.   \n",
              "2                                                                                                                                                                                                                                                                                                                               Simple the best!. Homemade food quality. If you're looking for a comfort food this is your place.   \n",
              "3                                                                                                                                                                                           My husband and I each had the \"red platter\" for lunch with a tahini salad. Everything was authentic and incredible! We are already talking about what we'll order next time :) The service was excellent! Can't wait to go back soon.   \n",
              "4                                                                                                                                                                                                                                                  Just less than average. Very very salty food. \\nNot much on the menu. Looks like they need extra people to help them as they were slow. And expensive for the quality of food.   \n",
              "\n",
              "   rating_score sentiments  \\\n",
              "0             1   Positive   \n",
              "1             1   Positive   \n",
              "2             1   Positive   \n",
              "3             1   Positive   \n",
              "4            -1   Negative   \n",
              "\n",
              "                                                                                                                                                                                                                                                            cleaned_review  \\\n",
              "0  second time visit place wanted write new review place nice lebanese restaurant owner really nice helpful food good thing liked chicken shawarma best philadelphia till chicken shawarma wrap amazing close authentic sfehas fatayer really delicious highly recommended   \n",
              "1                                                                               schwarma lamb cafe baladi absolutely delicious severe dairy allergy owner able accommodate another restaurant add list great go place malvern owner employee super friendly food delicious   \n",
              "2                                                                                                                                                                                                             simple best homemade food quality looking comfort food place   \n",
              "3                                                                                                                               husband red platter lunch tahini salad everything authentic incredible already talking order next time service excellent wait go back soon   \n",
              "4                                                                                                                                                                             le average salty food much menu look like need extra people help slow expensive quality food   \n",
              "\n",
              "                                                                                                                                                                                                                                                                cleaned_text  \\\n",
              "0  second time visit place wanted write new review place nice lebanese restaurant owners really nice helpful food good thing liked chicken shawarma best philadelphia till chicken shawarma wraps amazing close authentic sfehas fatayer really delicious highly recommended   \n",
              "1                                                                               schwarma lamb cafe baladi absolutely delicious severe dairy allergy owner able accommodate another restaurant add list great go places malvern owner employees super friendly food delicious   \n",
              "2                                                                                                                                                                                                               simple best homemade food quality looking comfort food place   \n",
              "3                                                                                                                          husband red platter lunch tahini salad everything authentic incredible already talking order next time service excellent cannot wait go back soon   \n",
              "4                                                                                                                                                                            less average salty food much menu looks like need extra people help slow expensive quality food   \n",
              "\n",
              "                                                                                                                                                                                                                                                           lemmatized_text  \n",
              "0  second time visit place wanted write new review place nice lebanese restaurant owner really nice helpful food good thing liked chicken shawarma best philadelphia till chicken shawarma wrap amazing close authentic sfehas fatayer really delicious highly recommended  \n",
              "1                                                                               schwarma lamb cafe baladi absolutely delicious severe dairy allergy owner able accommodate another restaurant add list great go place malvern owner employee super friendly food delicious  \n",
              "2                                                                                                                                                                                                             simple best homemade food quality looking comfort food place  \n",
              "3                                                                                                                        husband red platter lunch tahini salad everything authentic incredible already talking order next time service excellent cannot wait go back soon  \n",
              "4                                                                                                                                                                             le average salty food much menu look like need extra people help slow expensive quality food  "
            ],
            "text/html": [
              "\n",
              "  <div id=\"df-0e3d2b16-e779-4ea1-8c64-dd9fba5c5de6\">\n",
              "    <div class=\"colab-df-container\">\n",
              "      <div>\n",
              "<style scoped>\n",
              "    .dataframe tbody tr th:only-of-type {\n",
              "        vertical-align: middle;\n",
              "    }\n",
              "\n",
              "    .dataframe tbody tr th {\n",
              "        vertical-align: top;\n",
              "    }\n",
              "\n",
              "    .dataframe thead th {\n",
              "        text-align: right;\n",
              "    }\n",
              "</style>\n",
              "<table border=\"1\" class=\"dataframe\">\n",
              "  <thead>\n",
              "    <tr style=\"text-align: right;\">\n",
              "      <th></th>\n",
              "      <th>stars</th>\n",
              "      <th>text</th>\n",
              "      <th>rating_score</th>\n",
              "      <th>sentiments</th>\n",
              "      <th>cleaned_review</th>\n",
              "      <th>cleaned_text</th>\n",
              "      <th>lemmatized_text</th>\n",
              "    </tr>\n",
              "  </thead>\n",
              "  <tbody>\n",
              "    <tr>\n",
              "      <th>0</th>\n",
              "      <td>4</td>\n",
              "      <td>This is the second time I visit this place so I wanted to write a new review for it. The place is a nice Lebanese restaurant and owners are really nice and helpful. Food is very good. But the thing I liked the most is chicken shawarma which is the best I had in Philadelphia till now. Chicken shawarma wraps are amazing and very close to authentic. Sfehas and fatayer are really very delicious. Highly recommended.</td>\n",
              "      <td>1</td>\n",
              "      <td>Positive</td>\n",
              "      <td>second time visit place wanted write new review place nice lebanese restaurant owner really nice helpful food good thing liked chicken shawarma best philadelphia till chicken shawarma wrap amazing close authentic sfehas fatayer really delicious highly recommended</td>\n",
              "      <td>second time visit place wanted write new review place nice lebanese restaurant owners really nice helpful food good thing liked chicken shawarma best philadelphia till chicken shawarma wraps amazing close authentic sfehas fatayer really delicious highly recommended</td>\n",
              "      <td>second time visit place wanted write new review place nice lebanese restaurant owner really nice helpful food good thing liked chicken shawarma best philadelphia till chicken shawarma wrap amazing close authentic sfehas fatayer really delicious highly recommended</td>\n",
              "    </tr>\n",
              "    <tr>\n",
              "      <th>1</th>\n",
              "      <td>5</td>\n",
              "      <td>I had the schwarma with lamb at Cafe Baladi. It was absolutely delicious. I have a severe dairy allergy and the owner was able to accommodate me. This is another restaurant that I can add to my list of great go-to places in Malvern! The owner and employees are super friendly and the food is delicious.</td>\n",
              "      <td>1</td>\n",
              "      <td>Positive</td>\n",
              "      <td>schwarma lamb cafe baladi absolutely delicious severe dairy allergy owner able accommodate another restaurant add list great go place malvern owner employee super friendly food delicious</td>\n",
              "      <td>schwarma lamb cafe baladi absolutely delicious severe dairy allergy owner able accommodate another restaurant add list great go places malvern owner employees super friendly food delicious</td>\n",
              "      <td>schwarma lamb cafe baladi absolutely delicious severe dairy allergy owner able accommodate another restaurant add list great go place malvern owner employee super friendly food delicious</td>\n",
              "    </tr>\n",
              "    <tr>\n",
              "      <th>2</th>\n",
              "      <td>5</td>\n",
              "      <td>Simple the best!. Homemade food quality. If you're looking for a comfort food this is your place.</td>\n",
              "      <td>1</td>\n",
              "      <td>Positive</td>\n",
              "      <td>simple best homemade food quality looking comfort food place</td>\n",
              "      <td>simple best homemade food quality looking comfort food place</td>\n",
              "      <td>simple best homemade food quality looking comfort food place</td>\n",
              "    </tr>\n",
              "    <tr>\n",
              "      <th>3</th>\n",
              "      <td>5</td>\n",
              "      <td>My husband and I each had the \"red platter\" for lunch with a tahini salad. Everything was authentic and incredible! We are already talking about what we'll order next time :) The service was excellent! Can't wait to go back soon.</td>\n",
              "      <td>1</td>\n",
              "      <td>Positive</td>\n",
              "      <td>husband red platter lunch tahini salad everything authentic incredible already talking order next time service excellent wait go back soon</td>\n",
              "      <td>husband red platter lunch tahini salad everything authentic incredible already talking order next time service excellent cannot wait go back soon</td>\n",
              "      <td>husband red platter lunch tahini salad everything authentic incredible already talking order next time service excellent cannot wait go back soon</td>\n",
              "    </tr>\n",
              "    <tr>\n",
              "      <th>4</th>\n",
              "      <td>2</td>\n",
              "      <td>Just less than average. Very very salty food. \\nNot much on the menu. Looks like they need extra people to help them as they were slow. And expensive for the quality of food.</td>\n",
              "      <td>-1</td>\n",
              "      <td>Negative</td>\n",
              "      <td>le average salty food much menu look like need extra people help slow expensive quality food</td>\n",
              "      <td>less average salty food much menu looks like need extra people help slow expensive quality food</td>\n",
              "      <td>le average salty food much menu look like need extra people help slow expensive quality food</td>\n",
              "    </tr>\n",
              "  </tbody>\n",
              "</table>\n",
              "</div>\n",
              "      <button class=\"colab-df-convert\" onclick=\"convertToInteractive('df-0e3d2b16-e779-4ea1-8c64-dd9fba5c5de6')\"\n",
              "              title=\"Convert this dataframe to an interactive table.\"\n",
              "              style=\"display:none;\">\n",
              "        \n",
              "  <svg xmlns=\"http://www.w3.org/2000/svg\" height=\"24px\"viewBox=\"0 0 24 24\"\n",
              "       width=\"24px\">\n",
              "    <path d=\"M0 0h24v24H0V0z\" fill=\"none\"/>\n",
              "    <path d=\"M18.56 5.44l.94 2.06.94-2.06 2.06-.94-2.06-.94-.94-2.06-.94 2.06-2.06.94zm-11 1L8.5 8.5l.94-2.06 2.06-.94-2.06-.94L8.5 2.5l-.94 2.06-2.06.94zm10 10l.94 2.06.94-2.06 2.06-.94-2.06-.94-.94-2.06-.94 2.06-2.06.94z\"/><path d=\"M17.41 7.96l-1.37-1.37c-.4-.4-.92-.59-1.43-.59-.52 0-1.04.2-1.43.59L10.3 9.45l-7.72 7.72c-.78.78-.78 2.05 0 2.83L4 21.41c.39.39.9.59 1.41.59.51 0 1.02-.2 1.41-.59l7.78-7.78 2.81-2.81c.8-.78.8-2.07 0-2.86zM5.41 20L4 18.59l7.72-7.72 1.47 1.35L5.41 20z\"/>\n",
              "  </svg>\n",
              "      </button>\n",
              "      \n",
              "  <style>\n",
              "    .colab-df-container {\n",
              "      display:flex;\n",
              "      flex-wrap:wrap;\n",
              "      gap: 12px;\n",
              "    }\n",
              "\n",
              "    .colab-df-convert {\n",
              "      background-color: #E8F0FE;\n",
              "      border: none;\n",
              "      border-radius: 50%;\n",
              "      cursor: pointer;\n",
              "      display: none;\n",
              "      fill: #1967D2;\n",
              "      height: 32px;\n",
              "      padding: 0 0 0 0;\n",
              "      width: 32px;\n",
              "    }\n",
              "\n",
              "    .colab-df-convert:hover {\n",
              "      background-color: #E2EBFA;\n",
              "      box-shadow: 0px 1px 2px rgba(60, 64, 67, 0.3), 0px 1px 3px 1px rgba(60, 64, 67, 0.15);\n",
              "      fill: #174EA6;\n",
              "    }\n",
              "\n",
              "    [theme=dark] .colab-df-convert {\n",
              "      background-color: #3B4455;\n",
              "      fill: #D2E3FC;\n",
              "    }\n",
              "\n",
              "    [theme=dark] .colab-df-convert:hover {\n",
              "      background-color: #434B5C;\n",
              "      box-shadow: 0px 1px 3px 1px rgba(0, 0, 0, 0.15);\n",
              "      filter: drop-shadow(0px 1px 2px rgba(0, 0, 0, 0.3));\n",
              "      fill: #FFFFFF;\n",
              "    }\n",
              "  </style>\n",
              "\n",
              "      <script>\n",
              "        const buttonEl =\n",
              "          document.querySelector('#df-0e3d2b16-e779-4ea1-8c64-dd9fba5c5de6 button.colab-df-convert');\n",
              "        buttonEl.style.display =\n",
              "          google.colab.kernel.accessAllowed ? 'block' : 'none';\n",
              "\n",
              "        async function convertToInteractive(key) {\n",
              "          const element = document.querySelector('#df-0e3d2b16-e779-4ea1-8c64-dd9fba5c5de6');\n",
              "          const dataTable =\n",
              "            await google.colab.kernel.invokeFunction('convertToInteractive',\n",
              "                                                     [key], {});\n",
              "          if (!dataTable) return;\n",
              "\n",
              "          const docLinkHtml = 'Like what you see? Visit the ' +\n",
              "            '<a target=\"_blank\" href=https://colab.research.google.com/notebooks/data_table.ipynb>data table notebook</a>'\n",
              "            + ' to learn more about interactive tables.';\n",
              "          element.innerHTML = '';\n",
              "          dataTable['output_type'] = 'display_data';\n",
              "          await google.colab.output.renderOutput(dataTable, element);\n",
              "          const docLink = document.createElement('div');\n",
              "          docLink.innerHTML = docLinkHtml;\n",
              "          element.appendChild(docLink);\n",
              "        }\n",
              "      </script>\n",
              "    </div>\n",
              "  </div>\n",
              "  "
            ]
          },
          "metadata": {},
          "execution_count": 57
        }
      ]
    },
    {
      "cell_type": "code",
      "source": [
        "data"
      ],
      "metadata": {
        "colab": {
          "base_uri": "https://localhost:8080/",
          "height": 1000
        },
        "id": "umxOeQo096fq",
        "outputId": "aaf1eec5-3a85-43cf-a37c-58b36df4830f"
      },
      "id": "umxOeQo096fq",
      "execution_count": 58,
      "outputs": [
        {
          "output_type": "execute_result",
          "data": {
            "text/plain": [
              "      stars  \\\n",
              "0         4   \n",
              "1         5   \n",
              "2         5   \n",
              "3         5   \n",
              "4         2   \n",
              "...     ...   \n",
              "8874      1   \n",
              "8875      1   \n",
              "8876      1   \n",
              "8877      1   \n",
              "8878      1   \n",
              "\n",
              "                                                                                                                                                                                                                                                                                                                                                                                                                                                                                                                                                                                                                                                                                                                                                                                                                                                                                                                                                                                                                                                                                                                                                                                                                                                                                                                                                                                                                                                                                                                                                                                                                                                               text  \\\n",
              "0                                                                                                                                                                                                                                                                                                                                                                                                                                                                                                                                                                                                                                                                                                                                                                                                                                                                                                                                                                                                                                                                                                                                                                                                                                    This is the second time I visit this place so I wanted to write a new review for it. The place is a nice Lebanese restaurant and owners are really nice and helpful. Food is very good. But the thing I liked the most is chicken shawarma which is the best I had in Philadelphia till now. Chicken shawarma wraps are amazing and very close to authentic. Sfehas and fatayer are really very delicious. Highly recommended.   \n",
              "1                                                                                                                                                                                                                                                                                                                                                                                                                                                                                                                                                                                                                                                                                                                                                                                                                                                                                                                                                                                                                                                                                                                                                                                                                                                                                                                                                    I had the schwarma with lamb at Cafe Baladi. It was absolutely delicious. I have a severe dairy allergy and the owner was able to accommodate me. This is another restaurant that I can add to my list of great go-to places in Malvern! The owner and employees are super friendly and the food is delicious.   \n",
              "2                                                                                                                                                                                                                                                                                                                                                                                                                                                                                                                                                                                                                                                                                                                                                                                                                                                                                                                                                                                                                                                                                                                                                                                                                                                                                                                                                                                                                                                                                                                                                                 Simple the best!. Homemade food quality. If you're looking for a comfort food this is your place.   \n",
              "3                                                                                                                                                                                                                                                                                                                                                                                                                                                                                                                                                                                                                                                                                                                                                                                                                                                                                                                                                                                                                                                                                                                                                                                                                                                                                                                                                                                                                             My husband and I each had the \"red platter\" for lunch with a tahini salad. Everything was authentic and incredible! We are already talking about what we'll order next time :) The service was excellent! Can't wait to go back soon.   \n",
              "4                                                                                                                                                                                                                                                                                                                                                                                                                                                                                                                                                                                                                                                                                                                                                                                                                                                                                                                                                                                                                                                                                                                                                                                                                                                                                                                                                                                                                                                                                    Just less than average. Very very salty food. \\nNot much on the menu. Looks like they need extra people to help them as they were slow. And expensive for the quality of food.   \n",
              "...                                                                                                                                                                                                                                                                                                                                                                                                                                                                                                                                                                                                                                                                                                                                                                                                                                                                                                                                                                                                                                                                                                                                                                                                                                                                                                                                                                                                                                                                                                                                                                                                                                                             ...   \n",
              "8874                                                                                                                                                                                                                                                                                                                                                                                                                                                                                                                                                                                                                                                                                                                                                                                                                                                                                                                                                                                                                                                                                                                                                                                                                                                                                                                                                                                                                                                                                                                             By far the worst urgent care ever. Long waits during empty times. Way overpriced for disrespectful people to barely do their jobs.   \n",
              "8875                                                                                                                                                                                                                                                                                                                                                                                                                                                                                                                                                                                                                                                                                                                                                                                                                                                                                                                                                                                                                                                                                                                                                                                                                                                                                                                                 I was called in for an appointment and waited over 40 minutes to get in. I was only visiting for a covid rapid test. I was swabbed by a nurse and waited over 45 minutes for a doctor to come into the room, who then spent literally 60 seconds with me. This place is totally disrespectful of your time. Go somewhere else.   \n",
              "8876                                                                                                                                                                                                                                                                                                                                                                                                                                                                                                                                                                                                                                                                                                                                                                                                                                                                                                                                                                                                                                                                                                                                                                                                                                                                                                                                                The staff here are some of the most uneducated \"medical professionals\". Not only are they clueless about any form of treatment, but their attitude is unnecessarily rude. Also, having been the only people in the clinic to wait 2 hours to finally be seen is absurd. Honestly, this place should be audited.   \n",
              "8877  Went here yesterday for help with a bad virus giving me flu-like symptoms, I'm not sure that I'll ever come back to this location for any medical concern. It has bad reviews but it's right next to my house. I'm very sick, and felt unsafe driving to West nash for my PCP. Front desk staff was kind and they got me in relatively quickly, but they were unprepared with low stock on tests and swabs. The only kind of tests they did have were the kinds with 50-70% accuracy. (I had already tested neg for covid at Nissan)\\nThe doctor did not listen to my complaints, she did not validate my concerns and she rushed me so that i could not think of what i needed to ask or disclose. She asked what symptoms were bothering me the most. I told her aches and pains w/fever were bad and worst was my chest burning and an urge to cough and shortness of breath preventing me from sleeping. She said \"well i listened to your lungs and didn't hear any wheezing\". I had been running a 101 fever on and off since symptoms began but wasn't at the time i went in, is that why she didn't take the patient seriously?\\nLater that night fever back, audible wheezing, by this morning the infection has fully spread to my chest. I feel horrible and i wasted my money coming here. I paid for no medical care whatsoever. \\nThe reason for a one star review is any doctor who is unable to listen to the patient is also unable to provide medical care. \\nFor anyone reading this, remember YOU are the authority on your own body. You are the one experiencing your symptoms. You know how you feel. Find a doctor who respects that.   \n",
              "8878                                                                                                                                                                                                                                                                                                                                                                                                                                                                                                                                                                                                                                                                                                                                                                                                                                                                               The staff are nice but this place is a waste of money. I went in six weeks ago or so and received care for a bad cough/cold. Six weeks later, the cough hadn't gone away and I was experiencing new symptoms so I went back. I was sent to the Madison location to get a chest xray, where I checked in and waited for almost an hour before asking when I would be seen.The staff somehow forgot that I was waiting, even though I was the only person in the waiting room. I received no diagnosis, was told to take Ibuprofen and follow up in a few days if I wasn't feeling better. I did follow up, and they told me I would have to come in and pay for another appointment if I wanted to do a follow up. Appointments are MORE expensive with insurance. It's a racket.   \n",
              "\n",
              "      rating_score sentiments  \\\n",
              "0                1   Positive   \n",
              "1                1   Positive   \n",
              "2                1   Positive   \n",
              "3                1   Positive   \n",
              "4               -1   Negative   \n",
              "...            ...        ...   \n",
              "8874            -1   Negative   \n",
              "8875            -1   Negative   \n",
              "8876            -1   Negative   \n",
              "8877            -1   Negative   \n",
              "8878            -1   Negative   \n",
              "\n",
              "                                                                                                                                                                                                                                                                                                                                                                                                                                                                                                                                                                                                                                                                                                                                                                                                                                                                                                                                                cleaned_review  \\\n",
              "0                                                                                                                                                                                                                                                                                                                                                                                                                                                                                                                                                                                                                                                                                      second time visit place wanted write new review place nice lebanese restaurant owner really nice helpful food good thing liked chicken shawarma best philadelphia till chicken shawarma wrap amazing close authentic sfehas fatayer really delicious highly recommended   \n",
              "1                                                                                                                                                                                                                                                                                                                                                                                                                                                                                                                                                                                                                                                                                                                                                                   schwarma lamb cafe baladi absolutely delicious severe dairy allergy owner able accommodate another restaurant add list great go place malvern owner employee super friendly food delicious   \n",
              "2                                                                                                                                                                                                                                                                                                                                                                                                                                                                                                                                                                                                                                                                                                                                                                                                                                                                                                 simple best homemade food quality looking comfort food place   \n",
              "3                                                                                                                                                                                                                                                                                                                                                                                                                                                                                                                                                                                                                                                                                                                                                                                                                   husband red platter lunch tahini salad everything authentic incredible already talking order next time service excellent wait go back soon   \n",
              "4                                                                                                                                                                                                                                                                                                                                                                                                                                                                                                                                                                                                                                                                                                                                                                                                                                                                 le average salty food much menu look like need extra people help slow expensive quality food   \n",
              "...                                                                                                                                                                                                                                                                                                                                                                                                                                                                                                                                                                                                                                                                                                                                                                                                                                                                                                                                                        ...   \n",
              "8874                                                                                                                                                                                                                                                                                                                                                                                                                                                                                                                                                                                                                                                                                                                                                                                                                                                            far worst urgent care ever long wait empty time way overpriced disrespectful people barely job   \n",
              "8875                                                                                                                                                                                                                                                                                                                                                                                                                                                                                                                                                                                                                                                                                                                                                                     called appointment waited minute get visiting covid rapid test swabbed nurse waited minute doctor come room spent literally second place totally disrespectful time go somewhere else   \n",
              "8876                                                                                                                                                                                                                                                                                                                                                                                                                                                                                                                                                                                                                                                                                                                                                                                         staff uneducated medical professional clueless form treatment attitude unnecessarily rude also people clinic wait hour finally seen absurd honestly place audited   \n",
              "8877  went yesterday help bad virus giving flu like symptom sure ever come back location medical concern bad review right next house sick felt unsafe driving west nash pcp front desk staff kind got relatively quickly unprepared low stock test swab kind test kind accuracy already tested neg covid nissan doctor listen complaint validate concern rushed could think needed ask disclose asked symptom bothering told ache pain w fever bad worst chest burning urge cough shortness breath preventing sleeping said well listened lung hear wheezing running fever since symptom began time went take patient seriously later night fever back audible wheezing morning infection fully spread chest feel horrible wasted money coming paid medical care whatsoever reason one star review doctor unable listen patient also unable provide medical care anyone reading remember authority body one experiencing symptom know feel find doctor respect   \n",
              "8878                                                                                                                                                                                                                                                                                                                                                                                                                                                                                         staff nice place waste money went six week ago received care bad cough cold six week later cough gone away experiencing new symptom went back sent madison location get chest xray checked waited almost hour asking would seen staff somehow forgot waiting even though person waiting room received diagnosis told take ibuprofen follow day feeling better follow told would come pay another appointment wanted follow appointment expensive insurance racket   \n",
              "\n",
              "                                                                                                                                                                                                                                                                                                                                                                                                                                                                                                                                                                                                                                                                                                                                                                                                                                                                                                                                                                 cleaned_text  \\\n",
              "0                                                                                                                                                                                                                                                                                                                                                                                                                                                                                                                                                                                                                                                                                                   second time visit place wanted write new review place nice lebanese restaurant owners really nice helpful food good thing liked chicken shawarma best philadelphia till chicken shawarma wraps amazing close authentic sfehas fatayer really delicious highly recommended   \n",
              "1                                                                                                                                                                                                                                                                                                                                                                                                                                                                                                                                                                                                                                                                                                                                                                                schwarma lamb cafe baladi absolutely delicious severe dairy allergy owner able accommodate another restaurant add list great go places malvern owner employees super friendly food delicious   \n",
              "2                                                                                                                                                                                                                                                                                                                                                                                                                                                                                                                                                                                                                                                                                                                                                                                                                                                                                                                simple best homemade food quality looking comfort food place   \n",
              "3                                                                                                                                                                                                                                                                                                                                                                                                                                                                                                                                                                                                                                                                                                                                                                                                                           husband red platter lunch tahini salad everything authentic incredible already talking order next time service excellent cannot wait go back soon   \n",
              "4                                                                                                                                                                                                                                                                                                                                                                                                                                                                                                                                                                                                                                                                                                                                                                                                                                                                             less average salty food much menu looks like need extra people help slow expensive quality food   \n",
              "...                                                                                                                                                                                                                                                                                                                                                                                                                                                                                                                                                                                                                                                                                                                                                                                                                                                                                                                                                                       ...   \n",
              "8874                                                                                                                                                                                                                                                                                                                                                                                                                                                                                                                                                                                                                                                                                                                                                                                                                                                                        far worst urgent care ever long waits empty times way overpriced disrespectful people barely jobs   \n",
              "8875                                                                                                                                                                                                                                                                                                                                                                                                                                                                                                                                                                                                                                                                                                                                                                                 called appointment waited minutes get visiting covid rapid test swabbed nurse waited minutes doctor come room spent literally seconds place totally disrespectful time go somewhere else   \n",
              "8876                                                                                                                                                                                                                                                                                                                                                                                                                                                                                                                                                                                                                                                                                                                                                                                                      staff uneducated medical professionals clueless form treatment attitude unnecessarily rude also people clinic wait hours finally seen absurd honestly place audited   \n",
              "8877  went yesterday help bad virus giving flu like symptoms sure ever come back location medical concern bad reviews right next house sick felt unsafe driving west nash pcp front desk staff kind got relatively quickly unprepared low stock tests swabs kind tests kinds accuracy already tested neg covid nissan doctor listen complaints validate concerns rushed could think needed ask disclose asked symptoms bothering told aches pains w fever bad worst chest burning urge cough shortness breath preventing sleeping said well listened lungs hear wheezing running fever since symptoms began time went take patient seriously later night fever back audible wheezing morning infection fully spread chest feel horrible wasted money coming paid medical care whatsoever reason one star review doctor unable listen patient also unable provide medical care anyone reading remember authority body one experiencing symptoms know feel find doctor respects   \n",
              "8878                                                                                                                                                                                                                                                                                                                                                                                                                                                                                                   staff nice place waste money went six weeks ago received care bad cough cold six weeks later cough gone away experiencing new symptoms went back sent madison location get chest xray checked waited almost hour asking would seen staff somehow forgot waiting even though person waiting room received diagnosis told take ibuprofen follow days feeling better follow told would come pay another appointment wanted follow appointments expensive insurance racket   \n",
              "\n",
              "                                                                                                                                                                                                                                                                                                                                                                                                                                                                                                                                                                                                                                                                                                                                                                                                                                                                                                                                               lemmatized_text  \n",
              "0                                                                                                                                                                                                                                                                                                                                                                                                                                                                                                                                                                                                                                                                                      second time visit place wanted write new review place nice lebanese restaurant owner really nice helpful food good thing liked chicken shawarma best philadelphia till chicken shawarma wrap amazing close authentic sfehas fatayer really delicious highly recommended  \n",
              "1                                                                                                                                                                                                                                                                                                                                                                                                                                                                                                                                                                                                                                                                                                                                                                   schwarma lamb cafe baladi absolutely delicious severe dairy allergy owner able accommodate another restaurant add list great go place malvern owner employee super friendly food delicious  \n",
              "2                                                                                                                                                                                                                                                                                                                                                                                                                                                                                                                                                                                                                                                                                                                                                                                                                                                                                                 simple best homemade food quality looking comfort food place  \n",
              "3                                                                                                                                                                                                                                                                                                                                                                                                                                                                                                                                                                                                                                                                                                                                                                                                            husband red platter lunch tahini salad everything authentic incredible already talking order next time service excellent cannot wait go back soon  \n",
              "4                                                                                                                                                                                                                                                                                                                                                                                                                                                                                                                                                                                                                                                                                                                                                                                                                                                                 le average salty food much menu look like need extra people help slow expensive quality food  \n",
              "...                                                                                                                                                                                                                                                                                                                                                                                                                                                                                                                                                                                                                                                                                                                                                                                                                                                                                                                                                        ...  \n",
              "8874                                                                                                                                                                                                                                                                                                                                                                                                                                                                                                                                                                                                                                                                                                                                                                                                                                                            far worst urgent care ever long wait empty time way overpriced disrespectful people barely job  \n",
              "8875                                                                                                                                                                                                                                                                                                                                                                                                                                                                                                                                                                                                                                                                                                                                                                     called appointment waited minute get visiting covid rapid test swabbed nurse waited minute doctor come room spent literally second place totally disrespectful time go somewhere else  \n",
              "8876                                                                                                                                                                                                                                                                                                                                                                                                                                                                                                                                                                                                                                                                                                                                                                                         staff uneducated medical professional clueless form treatment attitude unnecessarily rude also people clinic wait hour finally seen absurd honestly place audited  \n",
              "8877  went yesterday help bad virus giving flu like symptom sure ever come back location medical concern bad review right next house sick felt unsafe driving west nash pcp front desk staff kind got relatively quickly unprepared low stock test swab kind test kind accuracy already tested neg covid nissan doctor listen complaint validate concern rushed could think needed ask disclose asked symptom bothering told ache pain w fever bad worst chest burning urge cough shortness breath preventing sleeping said well listened lung hear wheezing running fever since symptom began time went take patient seriously later night fever back audible wheezing morning infection fully spread chest feel horrible wasted money coming paid medical care whatsoever reason one star review doctor unable listen patient also unable provide medical care anyone reading remember authority body one experiencing symptom know feel find doctor respect  \n",
              "8878                                                                                                                                                                                                                                                                                                                                                                                                                                                                                         staff nice place waste money went six week ago received care bad cough cold six week later cough gone away experiencing new symptom went back sent madison location get chest xray checked waited almost hour asking would seen staff somehow forgot waiting even though person waiting room received diagnosis told take ibuprofen follow day feeling better follow told would come pay another appointment wanted follow appointment expensive insurance racket  \n",
              "\n",
              "[8879 rows x 7 columns]"
            ],
            "text/html": [
              "\n",
              "  <div id=\"df-c890c646-9f83-443c-82a0-edc475300657\">\n",
              "    <div class=\"colab-df-container\">\n",
              "      <div>\n",
              "<style scoped>\n",
              "    .dataframe tbody tr th:only-of-type {\n",
              "        vertical-align: middle;\n",
              "    }\n",
              "\n",
              "    .dataframe tbody tr th {\n",
              "        vertical-align: top;\n",
              "    }\n",
              "\n",
              "    .dataframe thead th {\n",
              "        text-align: right;\n",
              "    }\n",
              "</style>\n",
              "<table border=\"1\" class=\"dataframe\">\n",
              "  <thead>\n",
              "    <tr style=\"text-align: right;\">\n",
              "      <th></th>\n",
              "      <th>stars</th>\n",
              "      <th>text</th>\n",
              "      <th>rating_score</th>\n",
              "      <th>sentiments</th>\n",
              "      <th>cleaned_review</th>\n",
              "      <th>cleaned_text</th>\n",
              "      <th>lemmatized_text</th>\n",
              "    </tr>\n",
              "  </thead>\n",
              "  <tbody>\n",
              "    <tr>\n",
              "      <th>0</th>\n",
              "      <td>4</td>\n",
              "      <td>This is the second time I visit this place so I wanted to write a new review for it. The place is a nice Lebanese restaurant and owners are really nice and helpful. Food is very good. But the thing I liked the most is chicken shawarma which is the best I had in Philadelphia till now. Chicken shawarma wraps are amazing and very close to authentic. Sfehas and fatayer are really very delicious. Highly recommended.</td>\n",
              "      <td>1</td>\n",
              "      <td>Positive</td>\n",
              "      <td>second time visit place wanted write new review place nice lebanese restaurant owner really nice helpful food good thing liked chicken shawarma best philadelphia till chicken shawarma wrap amazing close authentic sfehas fatayer really delicious highly recommended</td>\n",
              "      <td>second time visit place wanted write new review place nice lebanese restaurant owners really nice helpful food good thing liked chicken shawarma best philadelphia till chicken shawarma wraps amazing close authentic sfehas fatayer really delicious highly recommended</td>\n",
              "      <td>second time visit place wanted write new review place nice lebanese restaurant owner really nice helpful food good thing liked chicken shawarma best philadelphia till chicken shawarma wrap amazing close authentic sfehas fatayer really delicious highly recommended</td>\n",
              "    </tr>\n",
              "    <tr>\n",
              "      <th>1</th>\n",
              "      <td>5</td>\n",
              "      <td>I had the schwarma with lamb at Cafe Baladi. It was absolutely delicious. I have a severe dairy allergy and the owner was able to accommodate me. This is another restaurant that I can add to my list of great go-to places in Malvern! The owner and employees are super friendly and the food is delicious.</td>\n",
              "      <td>1</td>\n",
              "      <td>Positive</td>\n",
              "      <td>schwarma lamb cafe baladi absolutely delicious severe dairy allergy owner able accommodate another restaurant add list great go place malvern owner employee super friendly food delicious</td>\n",
              "      <td>schwarma lamb cafe baladi absolutely delicious severe dairy allergy owner able accommodate another restaurant add list great go places malvern owner employees super friendly food delicious</td>\n",
              "      <td>schwarma lamb cafe baladi absolutely delicious severe dairy allergy owner able accommodate another restaurant add list great go place malvern owner employee super friendly food delicious</td>\n",
              "    </tr>\n",
              "    <tr>\n",
              "      <th>2</th>\n",
              "      <td>5</td>\n",
              "      <td>Simple the best!. Homemade food quality. If you're looking for a comfort food this is your place.</td>\n",
              "      <td>1</td>\n",
              "      <td>Positive</td>\n",
              "      <td>simple best homemade food quality looking comfort food place</td>\n",
              "      <td>simple best homemade food quality looking comfort food place</td>\n",
              "      <td>simple best homemade food quality looking comfort food place</td>\n",
              "    </tr>\n",
              "    <tr>\n",
              "      <th>3</th>\n",
              "      <td>5</td>\n",
              "      <td>My husband and I each had the \"red platter\" for lunch with a tahini salad. Everything was authentic and incredible! We are already talking about what we'll order next time :) The service was excellent! Can't wait to go back soon.</td>\n",
              "      <td>1</td>\n",
              "      <td>Positive</td>\n",
              "      <td>husband red platter lunch tahini salad everything authentic incredible already talking order next time service excellent wait go back soon</td>\n",
              "      <td>husband red platter lunch tahini salad everything authentic incredible already talking order next time service excellent cannot wait go back soon</td>\n",
              "      <td>husband red platter lunch tahini salad everything authentic incredible already talking order next time service excellent cannot wait go back soon</td>\n",
              "    </tr>\n",
              "    <tr>\n",
              "      <th>4</th>\n",
              "      <td>2</td>\n",
              "      <td>Just less than average. Very very salty food. \\nNot much on the menu. Looks like they need extra people to help them as they were slow. And expensive for the quality of food.</td>\n",
              "      <td>-1</td>\n",
              "      <td>Negative</td>\n",
              "      <td>le average salty food much menu look like need extra people help slow expensive quality food</td>\n",
              "      <td>less average salty food much menu looks like need extra people help slow expensive quality food</td>\n",
              "      <td>le average salty food much menu look like need extra people help slow expensive quality food</td>\n",
              "    </tr>\n",
              "    <tr>\n",
              "      <th>...</th>\n",
              "      <td>...</td>\n",
              "      <td>...</td>\n",
              "      <td>...</td>\n",
              "      <td>...</td>\n",
              "      <td>...</td>\n",
              "      <td>...</td>\n",
              "      <td>...</td>\n",
              "    </tr>\n",
              "    <tr>\n",
              "      <th>8874</th>\n",
              "      <td>1</td>\n",
              "      <td>By far the worst urgent care ever. Long waits during empty times. Way overpriced for disrespectful people to barely do their jobs.</td>\n",
              "      <td>-1</td>\n",
              "      <td>Negative</td>\n",
              "      <td>far worst urgent care ever long wait empty time way overpriced disrespectful people barely job</td>\n",
              "      <td>far worst urgent care ever long waits empty times way overpriced disrespectful people barely jobs</td>\n",
              "      <td>far worst urgent care ever long wait empty time way overpriced disrespectful people barely job</td>\n",
              "    </tr>\n",
              "    <tr>\n",
              "      <th>8875</th>\n",
              "      <td>1</td>\n",
              "      <td>I was called in for an appointment and waited over 40 minutes to get in. I was only visiting for a covid rapid test. I was swabbed by a nurse and waited over 45 minutes for a doctor to come into the room, who then spent literally 60 seconds with me. This place is totally disrespectful of your time. Go somewhere else.</td>\n",
              "      <td>-1</td>\n",
              "      <td>Negative</td>\n",
              "      <td>called appointment waited minute get visiting covid rapid test swabbed nurse waited minute doctor come room spent literally second place totally disrespectful time go somewhere else</td>\n",
              "      <td>called appointment waited minutes get visiting covid rapid test swabbed nurse waited minutes doctor come room spent literally seconds place totally disrespectful time go somewhere else</td>\n",
              "      <td>called appointment waited minute get visiting covid rapid test swabbed nurse waited minute doctor come room spent literally second place totally disrespectful time go somewhere else</td>\n",
              "    </tr>\n",
              "    <tr>\n",
              "      <th>8876</th>\n",
              "      <td>1</td>\n",
              "      <td>The staff here are some of the most uneducated \"medical professionals\". Not only are they clueless about any form of treatment, but their attitude is unnecessarily rude. Also, having been the only people in the clinic to wait 2 hours to finally be seen is absurd. Honestly, this place should be audited.</td>\n",
              "      <td>-1</td>\n",
              "      <td>Negative</td>\n",
              "      <td>staff uneducated medical professional clueless form treatment attitude unnecessarily rude also people clinic wait hour finally seen absurd honestly place audited</td>\n",
              "      <td>staff uneducated medical professionals clueless form treatment attitude unnecessarily rude also people clinic wait hours finally seen absurd honestly place audited</td>\n",
              "      <td>staff uneducated medical professional clueless form treatment attitude unnecessarily rude also people clinic wait hour finally seen absurd honestly place audited</td>\n",
              "    </tr>\n",
              "    <tr>\n",
              "      <th>8877</th>\n",
              "      <td>1</td>\n",
              "      <td>Went here yesterday for help with a bad virus giving me flu-like symptoms, I'm not sure that I'll ever come back to this location for any medical concern. It has bad reviews but it's right next to my house. I'm very sick, and felt unsafe driving to West nash for my PCP. Front desk staff was kind and they got me in relatively quickly, but they were unprepared with low stock on tests and swabs. The only kind of tests they did have were the kinds with 50-70% accuracy. (I had already tested neg for covid at Nissan)\\nThe doctor did not listen to my complaints, she did not validate my concerns and she rushed me so that i could not think of what i needed to ask or disclose. She asked what symptoms were bothering me the most. I told her aches and pains w/fever were bad and worst was my chest burning and an urge to cough and shortness of breath preventing me from sleeping. She said \"well i listened to your lungs and didn't hear any wheezing\". I had been running a 101 fever on and off since symptoms began but wasn't at the time i went in, is that why she didn't take the patient seriously?\\nLater that night fever back, audible wheezing, by this morning the infection has fully spread to my chest. I feel horrible and i wasted my money coming here. I paid for no medical care whatsoever. \\nThe reason for a one star review is any doctor who is unable to listen to the patient is also unable to provide medical care. \\nFor anyone reading this, remember YOU are the authority on your own body. You are the one experiencing your symptoms. You know how you feel. Find a doctor who respects that.</td>\n",
              "      <td>-1</td>\n",
              "      <td>Negative</td>\n",
              "      <td>went yesterday help bad virus giving flu like symptom sure ever come back location medical concern bad review right next house sick felt unsafe driving west nash pcp front desk staff kind got relatively quickly unprepared low stock test swab kind test kind accuracy already tested neg covid nissan doctor listen complaint validate concern rushed could think needed ask disclose asked symptom bothering told ache pain w fever bad worst chest burning urge cough shortness breath preventing sleeping said well listened lung hear wheezing running fever since symptom began time went take patient seriously later night fever back audible wheezing morning infection fully spread chest feel horrible wasted money coming paid medical care whatsoever reason one star review doctor unable listen patient also unable provide medical care anyone reading remember authority body one experiencing symptom know feel find doctor respect</td>\n",
              "      <td>went yesterday help bad virus giving flu like symptoms sure ever come back location medical concern bad reviews right next house sick felt unsafe driving west nash pcp front desk staff kind got relatively quickly unprepared low stock tests swabs kind tests kinds accuracy already tested neg covid nissan doctor listen complaints validate concerns rushed could think needed ask disclose asked symptoms bothering told aches pains w fever bad worst chest burning urge cough shortness breath preventing sleeping said well listened lungs hear wheezing running fever since symptoms began time went take patient seriously later night fever back audible wheezing morning infection fully spread chest feel horrible wasted money coming paid medical care whatsoever reason one star review doctor unable listen patient also unable provide medical care anyone reading remember authority body one experiencing symptoms know feel find doctor respects</td>\n",
              "      <td>went yesterday help bad virus giving flu like symptom sure ever come back location medical concern bad review right next house sick felt unsafe driving west nash pcp front desk staff kind got relatively quickly unprepared low stock test swab kind test kind accuracy already tested neg covid nissan doctor listen complaint validate concern rushed could think needed ask disclose asked symptom bothering told ache pain w fever bad worst chest burning urge cough shortness breath preventing sleeping said well listened lung hear wheezing running fever since symptom began time went take patient seriously later night fever back audible wheezing morning infection fully spread chest feel horrible wasted money coming paid medical care whatsoever reason one star review doctor unable listen patient also unable provide medical care anyone reading remember authority body one experiencing symptom know feel find doctor respect</td>\n",
              "    </tr>\n",
              "    <tr>\n",
              "      <th>8878</th>\n",
              "      <td>1</td>\n",
              "      <td>The staff are nice but this place is a waste of money. I went in six weeks ago or so and received care for a bad cough/cold. Six weeks later, the cough hadn't gone away and I was experiencing new symptoms so I went back. I was sent to the Madison location to get a chest xray, where I checked in and waited for almost an hour before asking when I would be seen.The staff somehow forgot that I was waiting, even though I was the only person in the waiting room. I received no diagnosis, was told to take Ibuprofen and follow up in a few days if I wasn't feeling better. I did follow up, and they told me I would have to come in and pay for another appointment if I wanted to do a follow up. Appointments are MORE expensive with insurance. It's a racket.</td>\n",
              "      <td>-1</td>\n",
              "      <td>Negative</td>\n",
              "      <td>staff nice place waste money went six week ago received care bad cough cold six week later cough gone away experiencing new symptom went back sent madison location get chest xray checked waited almost hour asking would seen staff somehow forgot waiting even though person waiting room received diagnosis told take ibuprofen follow day feeling better follow told would come pay another appointment wanted follow appointment expensive insurance racket</td>\n",
              "      <td>staff nice place waste money went six weeks ago received care bad cough cold six weeks later cough gone away experiencing new symptoms went back sent madison location get chest xray checked waited almost hour asking would seen staff somehow forgot waiting even though person waiting room received diagnosis told take ibuprofen follow days feeling better follow told would come pay another appointment wanted follow appointments expensive insurance racket</td>\n",
              "      <td>staff nice place waste money went six week ago received care bad cough cold six week later cough gone away experiencing new symptom went back sent madison location get chest xray checked waited almost hour asking would seen staff somehow forgot waiting even though person waiting room received diagnosis told take ibuprofen follow day feeling better follow told would come pay another appointment wanted follow appointment expensive insurance racket</td>\n",
              "    </tr>\n",
              "  </tbody>\n",
              "</table>\n",
              "<p>8879 rows × 7 columns</p>\n",
              "</div>\n",
              "      <button class=\"colab-df-convert\" onclick=\"convertToInteractive('df-c890c646-9f83-443c-82a0-edc475300657')\"\n",
              "              title=\"Convert this dataframe to an interactive table.\"\n",
              "              style=\"display:none;\">\n",
              "        \n",
              "  <svg xmlns=\"http://www.w3.org/2000/svg\" height=\"24px\"viewBox=\"0 0 24 24\"\n",
              "       width=\"24px\">\n",
              "    <path d=\"M0 0h24v24H0V0z\" fill=\"none\"/>\n",
              "    <path d=\"M18.56 5.44l.94 2.06.94-2.06 2.06-.94-2.06-.94-.94-2.06-.94 2.06-2.06.94zm-11 1L8.5 8.5l.94-2.06 2.06-.94-2.06-.94L8.5 2.5l-.94 2.06-2.06.94zm10 10l.94 2.06.94-2.06 2.06-.94-2.06-.94-.94-2.06-.94 2.06-2.06.94z\"/><path d=\"M17.41 7.96l-1.37-1.37c-.4-.4-.92-.59-1.43-.59-.52 0-1.04.2-1.43.59L10.3 9.45l-7.72 7.72c-.78.78-.78 2.05 0 2.83L4 21.41c.39.39.9.59 1.41.59.51 0 1.02-.2 1.41-.59l7.78-7.78 2.81-2.81c.8-.78.8-2.07 0-2.86zM5.41 20L4 18.59l7.72-7.72 1.47 1.35L5.41 20z\"/>\n",
              "  </svg>\n",
              "      </button>\n",
              "      \n",
              "  <style>\n",
              "    .colab-df-container {\n",
              "      display:flex;\n",
              "      flex-wrap:wrap;\n",
              "      gap: 12px;\n",
              "    }\n",
              "\n",
              "    .colab-df-convert {\n",
              "      background-color: #E8F0FE;\n",
              "      border: none;\n",
              "      border-radius: 50%;\n",
              "      cursor: pointer;\n",
              "      display: none;\n",
              "      fill: #1967D2;\n",
              "      height: 32px;\n",
              "      padding: 0 0 0 0;\n",
              "      width: 32px;\n",
              "    }\n",
              "\n",
              "    .colab-df-convert:hover {\n",
              "      background-color: #E2EBFA;\n",
              "      box-shadow: 0px 1px 2px rgba(60, 64, 67, 0.3), 0px 1px 3px 1px rgba(60, 64, 67, 0.15);\n",
              "      fill: #174EA6;\n",
              "    }\n",
              "\n",
              "    [theme=dark] .colab-df-convert {\n",
              "      background-color: #3B4455;\n",
              "      fill: #D2E3FC;\n",
              "    }\n",
              "\n",
              "    [theme=dark] .colab-df-convert:hover {\n",
              "      background-color: #434B5C;\n",
              "      box-shadow: 0px 1px 3px 1px rgba(0, 0, 0, 0.15);\n",
              "      filter: drop-shadow(0px 1px 2px rgba(0, 0, 0, 0.3));\n",
              "      fill: #FFFFFF;\n",
              "    }\n",
              "  </style>\n",
              "\n",
              "      <script>\n",
              "        const buttonEl =\n",
              "          document.querySelector('#df-c890c646-9f83-443c-82a0-edc475300657 button.colab-df-convert');\n",
              "        buttonEl.style.display =\n",
              "          google.colab.kernel.accessAllowed ? 'block' : 'none';\n",
              "\n",
              "        async function convertToInteractive(key) {\n",
              "          const element = document.querySelector('#df-c890c646-9f83-443c-82a0-edc475300657');\n",
              "          const dataTable =\n",
              "            await google.colab.kernel.invokeFunction('convertToInteractive',\n",
              "                                                     [key], {});\n",
              "          if (!dataTable) return;\n",
              "\n",
              "          const docLinkHtml = 'Like what you see? Visit the ' +\n",
              "            '<a target=\"_blank\" href=https://colab.research.google.com/notebooks/data_table.ipynb>data table notebook</a>'\n",
              "            + ' to learn more about interactive tables.';\n",
              "          element.innerHTML = '';\n",
              "          dataTable['output_type'] = 'display_data';\n",
              "          await google.colab.output.renderOutput(dataTable, element);\n",
              "          const docLink = document.createElement('div');\n",
              "          docLink.innerHTML = docLinkHtml;\n",
              "          element.appendChild(docLink);\n",
              "        }\n",
              "      </script>\n",
              "    </div>\n",
              "  </div>\n",
              "  "
            ]
          },
          "metadata": {},
          "execution_count": 58
        }
      ]
    },
    {
      "cell_type": "markdown",
      "source": [
        "### The 3rd cleaner function\n",
        "This cleaner function does not yield the best of the results, so hoping of not using this in the model. But still specifying it over here for understanding"
      ],
      "metadata": {
        "id": "xEtWKFNG_6bc"
      },
      "id": "xEtWKFNG_6bc"
    },
    {
      "cell_type": "code",
      "execution_count": 59,
      "metadata": {
        "id": "veaU4SmT__39"
      },
      "outputs": [],
      "source": [
        "# Removing special Characters from the data, converting each word to Lower Case, splitting each words and stemming the words,\n",
        "# then perform stopword removal and then join each words back\n",
        "yelp_reviews = []\n",
        "for x in range(0,5000):\n",
        "    user_reviews = re.sub('[^a-zA-Z]', ' ', data['text'][x])\n",
        "    user_reviews = user_reviews.lower()\n",
        "    user_reviews = user_reviews.split()\n",
        "    ps = PorterStemmer()\n",
        "    user_reviews = [ps.stem(word) for word in user_reviews if not word in set(stopwords.words('english'))]\n",
        "    user_reviews = ' '.join(user_reviews)\n",
        "    yelp_reviews.append(user_reviews)"
      ],
      "id": "veaU4SmT__39"
    },
    {
      "cell_type": "code",
      "execution_count": 60,
      "metadata": {
        "colab": {
          "base_uri": "https://localhost:8080/",
          "height": 267
        },
        "outputId": "f2b36872-351b-4c9e-d210-770464912257",
        "id": "7B2UQ51A__39"
      },
      "outputs": [
        {
          "output_type": "execute_result",
          "data": {
            "text/plain": [
              "                                                                                                                                                                                                                                            reviews\n",
              "0  second time visit place want write new review place nice lebanes restaur owner realli nice help food good thing like chicken shawarma best philadelphia till chicken shawarma wrap amaz close authent sfeha fatay realli delici highli recommend\n",
              "1                                                                            schwarma lamb cafe baladi absolut delici sever dairi allergi owner abl accommod anoth restaur add list great go place malvern owner employe super friendli food delici\n",
              "2                                                                                                                                                                                           simpl best homemad food qualiti look comfort food place\n",
              "3                                                                                                                         husband red platter lunch tahini salad everyth authent incred alreadi talk order next time servic excel wait go back soon\n",
              "4                                                                                                                                                         less averag salti food much menu look like need extra peopl help slow expens qualiti food"
            ],
            "text/html": [
              "\n",
              "  <div id=\"df-bfa7741b-cba7-4689-ac8b-e0419bcf3a4f\">\n",
              "    <div class=\"colab-df-container\">\n",
              "      <div>\n",
              "<style scoped>\n",
              "    .dataframe tbody tr th:only-of-type {\n",
              "        vertical-align: middle;\n",
              "    }\n",
              "\n",
              "    .dataframe tbody tr th {\n",
              "        vertical-align: top;\n",
              "    }\n",
              "\n",
              "    .dataframe thead th {\n",
              "        text-align: right;\n",
              "    }\n",
              "</style>\n",
              "<table border=\"1\" class=\"dataframe\">\n",
              "  <thead>\n",
              "    <tr style=\"text-align: right;\">\n",
              "      <th></th>\n",
              "      <th>reviews</th>\n",
              "    </tr>\n",
              "  </thead>\n",
              "  <tbody>\n",
              "    <tr>\n",
              "      <th>0</th>\n",
              "      <td>second time visit place want write new review place nice lebanes restaur owner realli nice help food good thing like chicken shawarma best philadelphia till chicken shawarma wrap amaz close authent sfeha fatay realli delici highli recommend</td>\n",
              "    </tr>\n",
              "    <tr>\n",
              "      <th>1</th>\n",
              "      <td>schwarma lamb cafe baladi absolut delici sever dairi allergi owner abl accommod anoth restaur add list great go place malvern owner employe super friendli food delici</td>\n",
              "    </tr>\n",
              "    <tr>\n",
              "      <th>2</th>\n",
              "      <td>simpl best homemad food qualiti look comfort food place</td>\n",
              "    </tr>\n",
              "    <tr>\n",
              "      <th>3</th>\n",
              "      <td>husband red platter lunch tahini salad everyth authent incred alreadi talk order next time servic excel wait go back soon</td>\n",
              "    </tr>\n",
              "    <tr>\n",
              "      <th>4</th>\n",
              "      <td>less averag salti food much menu look like need extra peopl help slow expens qualiti food</td>\n",
              "    </tr>\n",
              "  </tbody>\n",
              "</table>\n",
              "</div>\n",
              "      <button class=\"colab-df-convert\" onclick=\"convertToInteractive('df-bfa7741b-cba7-4689-ac8b-e0419bcf3a4f')\"\n",
              "              title=\"Convert this dataframe to an interactive table.\"\n",
              "              style=\"display:none;\">\n",
              "        \n",
              "  <svg xmlns=\"http://www.w3.org/2000/svg\" height=\"24px\"viewBox=\"0 0 24 24\"\n",
              "       width=\"24px\">\n",
              "    <path d=\"M0 0h24v24H0V0z\" fill=\"none\"/>\n",
              "    <path d=\"M18.56 5.44l.94 2.06.94-2.06 2.06-.94-2.06-.94-.94-2.06-.94 2.06-2.06.94zm-11 1L8.5 8.5l.94-2.06 2.06-.94-2.06-.94L8.5 2.5l-.94 2.06-2.06.94zm10 10l.94 2.06.94-2.06 2.06-.94-2.06-.94-.94-2.06-.94 2.06-2.06.94z\"/><path d=\"M17.41 7.96l-1.37-1.37c-.4-.4-.92-.59-1.43-.59-.52 0-1.04.2-1.43.59L10.3 9.45l-7.72 7.72c-.78.78-.78 2.05 0 2.83L4 21.41c.39.39.9.59 1.41.59.51 0 1.02-.2 1.41-.59l7.78-7.78 2.81-2.81c.8-.78.8-2.07 0-2.86zM5.41 20L4 18.59l7.72-7.72 1.47 1.35L5.41 20z\"/>\n",
              "  </svg>\n",
              "      </button>\n",
              "      \n",
              "  <style>\n",
              "    .colab-df-container {\n",
              "      display:flex;\n",
              "      flex-wrap:wrap;\n",
              "      gap: 12px;\n",
              "    }\n",
              "\n",
              "    .colab-df-convert {\n",
              "      background-color: #E8F0FE;\n",
              "      border: none;\n",
              "      border-radius: 50%;\n",
              "      cursor: pointer;\n",
              "      display: none;\n",
              "      fill: #1967D2;\n",
              "      height: 32px;\n",
              "      padding: 0 0 0 0;\n",
              "      width: 32px;\n",
              "    }\n",
              "\n",
              "    .colab-df-convert:hover {\n",
              "      background-color: #E2EBFA;\n",
              "      box-shadow: 0px 1px 2px rgba(60, 64, 67, 0.3), 0px 1px 3px 1px rgba(60, 64, 67, 0.15);\n",
              "      fill: #174EA6;\n",
              "    }\n",
              "\n",
              "    [theme=dark] .colab-df-convert {\n",
              "      background-color: #3B4455;\n",
              "      fill: #D2E3FC;\n",
              "    }\n",
              "\n",
              "    [theme=dark] .colab-df-convert:hover {\n",
              "      background-color: #434B5C;\n",
              "      box-shadow: 0px 1px 3px 1px rgba(0, 0, 0, 0.15);\n",
              "      filter: drop-shadow(0px 1px 2px rgba(0, 0, 0, 0.3));\n",
              "      fill: #FFFFFF;\n",
              "    }\n",
              "  </style>\n",
              "\n",
              "      <script>\n",
              "        const buttonEl =\n",
              "          document.querySelector('#df-bfa7741b-cba7-4689-ac8b-e0419bcf3a4f button.colab-df-convert');\n",
              "        buttonEl.style.display =\n",
              "          google.colab.kernel.accessAllowed ? 'block' : 'none';\n",
              "\n",
              "        async function convertToInteractive(key) {\n",
              "          const element = document.querySelector('#df-bfa7741b-cba7-4689-ac8b-e0419bcf3a4f');\n",
              "          const dataTable =\n",
              "            await google.colab.kernel.invokeFunction('convertToInteractive',\n",
              "                                                     [key], {});\n",
              "          if (!dataTable) return;\n",
              "\n",
              "          const docLinkHtml = 'Like what you see? Visit the ' +\n",
              "            '<a target=\"_blank\" href=https://colab.research.google.com/notebooks/data_table.ipynb>data table notebook</a>'\n",
              "            + ' to learn more about interactive tables.';\n",
              "          element.innerHTML = '';\n",
              "          dataTable['output_type'] = 'display_data';\n",
              "          await google.colab.output.renderOutput(dataTable, element);\n",
              "          const docLink = document.createElement('div');\n",
              "          docLink.innerHTML = docLinkHtml;\n",
              "          element.appendChild(docLink);\n",
              "        }\n",
              "      </script>\n",
              "    </div>\n",
              "  </div>\n",
              "  "
            ]
          },
          "metadata": {},
          "execution_count": 60
        }
      ],
      "source": [
        "# Displaying the newly preprocessed dataset\n",
        "yelp_reviews = pd.DataFrame(yelp_reviews, columns=['reviews'])\n",
        "yelp_reviews.head()"
      ],
      "id": "7B2UQ51A__39"
    },
    {
      "cell_type": "code",
      "source": [
        "yelp_reviews"
      ],
      "metadata": {
        "id": "Jrlqt_a8BXFI"
      },
      "id": "Jrlqt_a8BXFI",
      "execution_count": null,
      "outputs": []
    },
    {
      "cell_type": "code",
      "execution_count": 62,
      "metadata": {
        "colab": {
          "base_uri": "https://localhost:8080/",
          "height": 267
        },
        "id": "TCybLrby__3-",
        "outputId": "a080b094-6af8-443f-b21e-39cc31ad958c"
      },
      "outputs": [
        {
          "output_type": "execute_result",
          "data": {
            "text/plain": [
              "                                                                                                                                                                                                                                            reviews  \\\n",
              "0  second time visit place want write new review place nice lebanes restaur owner realli nice help food good thing like chicken shawarma best philadelphia till chicken shawarma wrap amaz close authent sfeha fatay realli delici highli recommend   \n",
              "1                                                                            schwarma lamb cafe baladi absolut delici sever dairi allergi owner abl accommod anoth restaur add list great go place malvern owner employe super friendli food delici   \n",
              "2                                                                                                                                                                                           simpl best homemad food qualiti look comfort food place   \n",
              "3                                                                                                                         husband red platter lunch tahini salad everyth authent incred alreadi talk order next time servic excel wait go back soon   \n",
              "4                                                                                                                                                         less averag salti food much menu look like need extra peopl help slow expens qualiti food   \n",
              "\n",
              "  sentiments  \n",
              "0   Positive  \n",
              "1   Positive  \n",
              "2   Positive  \n",
              "3   Positive  \n",
              "4   Negative  "
            ],
            "text/html": [
              "\n",
              "  <div id=\"df-5b0ef7a2-bfc1-4604-89b2-9b4e2a10af26\">\n",
              "    <div class=\"colab-df-container\">\n",
              "      <div>\n",
              "<style scoped>\n",
              "    .dataframe tbody tr th:only-of-type {\n",
              "        vertical-align: middle;\n",
              "    }\n",
              "\n",
              "    .dataframe tbody tr th {\n",
              "        vertical-align: top;\n",
              "    }\n",
              "\n",
              "    .dataframe thead th {\n",
              "        text-align: right;\n",
              "    }\n",
              "</style>\n",
              "<table border=\"1\" class=\"dataframe\">\n",
              "  <thead>\n",
              "    <tr style=\"text-align: right;\">\n",
              "      <th></th>\n",
              "      <th>reviews</th>\n",
              "      <th>sentiments</th>\n",
              "    </tr>\n",
              "  </thead>\n",
              "  <tbody>\n",
              "    <tr>\n",
              "      <th>0</th>\n",
              "      <td>second time visit place want write new review place nice lebanes restaur owner realli nice help food good thing like chicken shawarma best philadelphia till chicken shawarma wrap amaz close authent sfeha fatay realli delici highli recommend</td>\n",
              "      <td>Positive</td>\n",
              "    </tr>\n",
              "    <tr>\n",
              "      <th>1</th>\n",
              "      <td>schwarma lamb cafe baladi absolut delici sever dairi allergi owner abl accommod anoth restaur add list great go place malvern owner employe super friendli food delici</td>\n",
              "      <td>Positive</td>\n",
              "    </tr>\n",
              "    <tr>\n",
              "      <th>2</th>\n",
              "      <td>simpl best homemad food qualiti look comfort food place</td>\n",
              "      <td>Positive</td>\n",
              "    </tr>\n",
              "    <tr>\n",
              "      <th>3</th>\n",
              "      <td>husband red platter lunch tahini salad everyth authent incred alreadi talk order next time servic excel wait go back soon</td>\n",
              "      <td>Positive</td>\n",
              "    </tr>\n",
              "    <tr>\n",
              "      <th>4</th>\n",
              "      <td>less averag salti food much menu look like need extra peopl help slow expens qualiti food</td>\n",
              "      <td>Negative</td>\n",
              "    </tr>\n",
              "  </tbody>\n",
              "</table>\n",
              "</div>\n",
              "      <button class=\"colab-df-convert\" onclick=\"convertToInteractive('df-5b0ef7a2-bfc1-4604-89b2-9b4e2a10af26')\"\n",
              "              title=\"Convert this dataframe to an interactive table.\"\n",
              "              style=\"display:none;\">\n",
              "        \n",
              "  <svg xmlns=\"http://www.w3.org/2000/svg\" height=\"24px\"viewBox=\"0 0 24 24\"\n",
              "       width=\"24px\">\n",
              "    <path d=\"M0 0h24v24H0V0z\" fill=\"none\"/>\n",
              "    <path d=\"M18.56 5.44l.94 2.06.94-2.06 2.06-.94-2.06-.94-.94-2.06-.94 2.06-2.06.94zm-11 1L8.5 8.5l.94-2.06 2.06-.94-2.06-.94L8.5 2.5l-.94 2.06-2.06.94zm10 10l.94 2.06.94-2.06 2.06-.94-2.06-.94-.94-2.06-.94 2.06-2.06.94z\"/><path d=\"M17.41 7.96l-1.37-1.37c-.4-.4-.92-.59-1.43-.59-.52 0-1.04.2-1.43.59L10.3 9.45l-7.72 7.72c-.78.78-.78 2.05 0 2.83L4 21.41c.39.39.9.59 1.41.59.51 0 1.02-.2 1.41-.59l7.78-7.78 2.81-2.81c.8-.78.8-2.07 0-2.86zM5.41 20L4 18.59l7.72-7.72 1.47 1.35L5.41 20z\"/>\n",
              "  </svg>\n",
              "      </button>\n",
              "      \n",
              "  <style>\n",
              "    .colab-df-container {\n",
              "      display:flex;\n",
              "      flex-wrap:wrap;\n",
              "      gap: 12px;\n",
              "    }\n",
              "\n",
              "    .colab-df-convert {\n",
              "      background-color: #E8F0FE;\n",
              "      border: none;\n",
              "      border-radius: 50%;\n",
              "      cursor: pointer;\n",
              "      display: none;\n",
              "      fill: #1967D2;\n",
              "      height: 32px;\n",
              "      padding: 0 0 0 0;\n",
              "      width: 32px;\n",
              "    }\n",
              "\n",
              "    .colab-df-convert:hover {\n",
              "      background-color: #E2EBFA;\n",
              "      box-shadow: 0px 1px 2px rgba(60, 64, 67, 0.3), 0px 1px 3px 1px rgba(60, 64, 67, 0.15);\n",
              "      fill: #174EA6;\n",
              "    }\n",
              "\n",
              "    [theme=dark] .colab-df-convert {\n",
              "      background-color: #3B4455;\n",
              "      fill: #D2E3FC;\n",
              "    }\n",
              "\n",
              "    [theme=dark] .colab-df-convert:hover {\n",
              "      background-color: #434B5C;\n",
              "      box-shadow: 0px 1px 3px 1px rgba(0, 0, 0, 0.15);\n",
              "      filter: drop-shadow(0px 1px 2px rgba(0, 0, 0, 0.3));\n",
              "      fill: #FFFFFF;\n",
              "    }\n",
              "  </style>\n",
              "\n",
              "      <script>\n",
              "        const buttonEl =\n",
              "          document.querySelector('#df-5b0ef7a2-bfc1-4604-89b2-9b4e2a10af26 button.colab-df-convert');\n",
              "        buttonEl.style.display =\n",
              "          google.colab.kernel.accessAllowed ? 'block' : 'none';\n",
              "\n",
              "        async function convertToInteractive(key) {\n",
              "          const element = document.querySelector('#df-5b0ef7a2-bfc1-4604-89b2-9b4e2a10af26');\n",
              "          const dataTable =\n",
              "            await google.colab.kernel.invokeFunction('convertToInteractive',\n",
              "                                                     [key], {});\n",
              "          if (!dataTable) return;\n",
              "\n",
              "          const docLinkHtml = 'Like what you see? Visit the ' +\n",
              "            '<a target=\"_blank\" href=https://colab.research.google.com/notebooks/data_table.ipynb>data table notebook</a>'\n",
              "            + ' to learn more about interactive tables.';\n",
              "          element.innerHTML = '';\n",
              "          dataTable['output_type'] = 'display_data';\n",
              "          await google.colab.output.renderOutput(dataTable, element);\n",
              "          const docLink = document.createElement('div');\n",
              "          docLink.innerHTML = docLinkHtml;\n",
              "          element.appendChild(docLink);\n",
              "        }\n",
              "      </script>\n",
              "    </div>\n",
              "  </div>\n",
              "  "
            ]
          },
          "metadata": {},
          "execution_count": 62
        }
      ],
      "source": [
        "# Adding back the sentiment scores to the dataset\n",
        "yelp_reviews = yelp_reviews.join(data[['sentiments']])\n",
        "yelp_reviews.head()"
      ],
      "id": "TCybLrby__3-"
    },
    {
      "cell_type": "markdown",
      "source": [
        "# WordCloud"
      ],
      "metadata": {
        "id": "iQNj9uZx1N8u"
      },
      "id": "iQNj9uZx1N8u"
    },
    {
      "cell_type": "markdown",
      "source": [
        "### 3 ways of Splitting the 'cleaned_review' column\n"
      ],
      "metadata": {
        "id": "megWZv_G1SLe"
      },
      "id": "megWZv_G1SLe"
    },
    {
      "cell_type": "code",
      "source": [
        "# # Splitting each words in the review text column and converting it to a pandas series\n",
        "# review_text = pd.Series(''.join(str(v) for v in (data['cleaned_review'])).split())\n",
        "# review_text\n"
      ],
      "metadata": {
        "id": "HKInw5IKNQlo"
      },
      "id": "HKInw5IKNQlo",
      "execution_count": 42,
      "outputs": []
    },
    {
      "cell_type": "code",
      "source": [
        "# # Splitting each words in the review text column and converting it to a pandas series\n",
        "# review_text = pd.Series(''.join(map(str, (data['cleaned_review']))).split())\n",
        "# review_text"
      ],
      "metadata": {
        "id": "nezowKhpNSl7"
      },
      "id": "nezowKhpNSl7",
      "execution_count": 43,
      "outputs": []
    },
    {
      "cell_type": "code",
      "execution_count": 44,
      "id": "d12b9b91",
      "metadata": {
        "id": "d12b9b91"
      },
      "outputs": [],
      "source": [
        "# # Splitting each words in the review text column and converting it to a pandas series\n",
        "# review_text = pd.Series(''.join(data['cleaned_review']).split())\n",
        "# review_text"
      ]
    },
    {
      "cell_type": "markdown",
      "source": [
        "### Popular, Positive, Negative & Neutral Sentiment WordCloud"
      ],
      "metadata": {
        "id": "8sjJejRx1jEp"
      },
      "id": "8sjJejRx1jEp"
    },
    {
      "cell_type": "code",
      "execution_count": 45,
      "id": "3ca37f3a",
      "metadata": {
        "id": "3ca37f3a"
      },
      "outputs": [],
      "source": [
        "# # Displaying only the popular sentiment\n",
        "# from wordcloud import WordCloud, STOPWORDS, ImageColorGenerator\n",
        "# words = WordCloud (width = 500, height = 500).generate(''.join(review_text))\n",
        "# plt.figure(figsize = (15,15))\n",
        "# plt.imshow(words)\n",
        "# plt.title('Popular Sentiments', size = 18)\n",
        "# plt.axis('off')\n",
        "# plt.show()"
      ]
    },
    {
      "cell_type": "code",
      "execution_count": 46,
      "id": "0fbeff61",
      "metadata": {
        "id": "0fbeff61"
      },
      "outputs": [],
      "source": [
        "# # Taking the positive sentiments and splitting the words and converting them to a Pandas Series\n",
        "# positivewords = pd.Series(''.join(map(str, (data[data['sentiments']=='Awesome'] ['cleaned_review']))).split())\n",
        "# positivewords"
      ]
    },
    {
      "cell_type": "code",
      "execution_count": 47,
      "id": "d51338aa",
      "metadata": {
        "id": "d51338aa"
      },
      "outputs": [],
      "source": [
        "# # Creating a Word Cloud of positive sentiments\n",
        "# positivewordcloud = WordCloud (width = 500, height = 500).generate(' '.join(positivewords))\n",
        "# plt.figure(figsize=(15,15))\n",
        "# plt.imshow(positivewordcloud)\n",
        "# plt.title(\"Positive Reviews\", size=18)\n",
        "# plt.axis(\"off\")\n",
        "# plt.show()"
      ]
    },
    {
      "cell_type": "code",
      "source": [
        "# # Taking the neutral sentiments and splitting the words and converting them to a Pandas Series\n",
        "# neutralwords = pd.Series(''.join(map(str, (data[data['sentiments']=='Ok'] ['cleaned_review']))).split())\n",
        "# neutralwords"
      ],
      "metadata": {
        "id": "2jIplxNsOZgp"
      },
      "id": "2jIplxNsOZgp",
      "execution_count": 48,
      "outputs": []
    },
    {
      "cell_type": "code",
      "source": [
        "# # Creating a Word Cloud of positive sentiments\n",
        "# neutralwordcloud = WordCloud (width = 500, height = 500).generate(' '.join(neutralwords))\n",
        "# plt.figure(figsize=(15,15))\n",
        "# plt.imshow(neutralwordcloud)\n",
        "# plt.title(\"Neutral Reviews\", size=18)\n",
        "# plt.axis(\"off\")\n",
        "# plt.show()"
      ],
      "metadata": {
        "id": "64TIf9FAOZaH"
      },
      "id": "64TIf9FAOZaH",
      "execution_count": 49,
      "outputs": []
    },
    {
      "cell_type": "code",
      "execution_count": 50,
      "id": "9682092f",
      "metadata": {
        "id": "9682092f"
      },
      "outputs": [],
      "source": [
        "# # Taking the negative sentiments and splitting the words and converting them to a Pandas Series\n",
        "# negativewords = pd.Series(''.join(map(str, (data[data['sentiments']=='Awful'] ['cleaned_review']))).split())\n",
        "# negativewords"
      ]
    },
    {
      "cell_type": "code",
      "execution_count": 51,
      "id": "226624d8",
      "metadata": {
        "id": "226624d8"
      },
      "outputs": [],
      "source": [
        "# # Creating a word Cloud of Negative Reviews\n",
        "# negativewordcloud = WordCloud (width = 500, height = 500).generate(' '.join(negativewords))\n",
        "# plt.figure(figsize=(15,15))\n",
        "# plt.imshow(negativewordcloud)\n",
        "# plt.title(\"Negative Reviews\", size=18)\n",
        "# plt.axis(\"off\")\n",
        "# plt.show()"
      ]
    },
    {
      "cell_type": "markdown",
      "source": [
        "# Applying the models"
      ],
      "metadata": {
        "id": "GG1pDIha1vXa"
      },
      "id": "GG1pDIha1vXa"
    },
    {
      "cell_type": "code",
      "execution_count": 53,
      "id": "77cb2e8a",
      "metadata": {
        "id": "77cb2e8a"
      },
      "outputs": [],
      "source": [
        "# Removing special Characters from the data, converting each word to Lower Case, splitting each words and stemming the words,\n",
        "# then perform stopword removal and then join each words back\n",
        "yelp_reviews = []\n",
        "for x in range(0,5000):\n",
        "    user_reviews = re.sub('[^a-zA-Z]', ' ', data['text'][x])\n",
        "    user_reviews = user_reviews.lower()\n",
        "    user_reviews = user_reviews.split()\n",
        "    ps = PorterStemmer()\n",
        "    user_reviews = [ps.stem(word) for word in user_reviews if not word in set(stopwords.words('english'))]\n",
        "    user_reviews = ' '.join(user_reviews)\n",
        "    yelp_reviews.append(user_reviews)"
      ]
    },
    {
      "cell_type": "code",
      "execution_count": 54,
      "id": "78e6a930",
      "metadata": {
        "id": "78e6a930",
        "colab": {
          "base_uri": "https://localhost:8080/",
          "height": 267
        },
        "outputId": "83b6190c-9324-4715-8f27-ff6ee4a65be3"
      },
      "outputs": [
        {
          "output_type": "execute_result",
          "data": {
            "text/plain": [
              "                                                                                                                                                                                                                                            reviews\n",
              "0  second time visit place want write new review place nice lebanes restaur owner realli nice help food good thing like chicken shawarma best philadelphia till chicken shawarma wrap amaz close authent sfeha fatay realli delici highli recommend\n",
              "1                                                                            schwarma lamb cafe baladi absolut delici sever dairi allergi owner abl accommod anoth restaur add list great go place malvern owner employe super friendli food delici\n",
              "2                                                                                                                                                                                           simpl best homemad food qualiti look comfort food place\n",
              "3                                                                                                                         husband red platter lunch tahini salad everyth authent incred alreadi talk order next time servic excel wait go back soon\n",
              "4                                                                                                                                                         less averag salti food much menu look like need extra peopl help slow expens qualiti food"
            ],
            "text/html": [
              "\n",
              "  <div id=\"df-2568d6ac-dcc3-4c32-93b6-2c94b91e955b\">\n",
              "    <div class=\"colab-df-container\">\n",
              "      <div>\n",
              "<style scoped>\n",
              "    .dataframe tbody tr th:only-of-type {\n",
              "        vertical-align: middle;\n",
              "    }\n",
              "\n",
              "    .dataframe tbody tr th {\n",
              "        vertical-align: top;\n",
              "    }\n",
              "\n",
              "    .dataframe thead th {\n",
              "        text-align: right;\n",
              "    }\n",
              "</style>\n",
              "<table border=\"1\" class=\"dataframe\">\n",
              "  <thead>\n",
              "    <tr style=\"text-align: right;\">\n",
              "      <th></th>\n",
              "      <th>reviews</th>\n",
              "    </tr>\n",
              "  </thead>\n",
              "  <tbody>\n",
              "    <tr>\n",
              "      <th>0</th>\n",
              "      <td>second time visit place want write new review place nice lebanes restaur owner realli nice help food good thing like chicken shawarma best philadelphia till chicken shawarma wrap amaz close authent sfeha fatay realli delici highli recommend</td>\n",
              "    </tr>\n",
              "    <tr>\n",
              "      <th>1</th>\n",
              "      <td>schwarma lamb cafe baladi absolut delici sever dairi allergi owner abl accommod anoth restaur add list great go place malvern owner employe super friendli food delici</td>\n",
              "    </tr>\n",
              "    <tr>\n",
              "      <th>2</th>\n",
              "      <td>simpl best homemad food qualiti look comfort food place</td>\n",
              "    </tr>\n",
              "    <tr>\n",
              "      <th>3</th>\n",
              "      <td>husband red platter lunch tahini salad everyth authent incred alreadi talk order next time servic excel wait go back soon</td>\n",
              "    </tr>\n",
              "    <tr>\n",
              "      <th>4</th>\n",
              "      <td>less averag salti food much menu look like need extra peopl help slow expens qualiti food</td>\n",
              "    </tr>\n",
              "  </tbody>\n",
              "</table>\n",
              "</div>\n",
              "      <button class=\"colab-df-convert\" onclick=\"convertToInteractive('df-2568d6ac-dcc3-4c32-93b6-2c94b91e955b')\"\n",
              "              title=\"Convert this dataframe to an interactive table.\"\n",
              "              style=\"display:none;\">\n",
              "        \n",
              "  <svg xmlns=\"http://www.w3.org/2000/svg\" height=\"24px\"viewBox=\"0 0 24 24\"\n",
              "       width=\"24px\">\n",
              "    <path d=\"M0 0h24v24H0V0z\" fill=\"none\"/>\n",
              "    <path d=\"M18.56 5.44l.94 2.06.94-2.06 2.06-.94-2.06-.94-.94-2.06-.94 2.06-2.06.94zm-11 1L8.5 8.5l.94-2.06 2.06-.94-2.06-.94L8.5 2.5l-.94 2.06-2.06.94zm10 10l.94 2.06.94-2.06 2.06-.94-2.06-.94-.94-2.06-.94 2.06-2.06.94z\"/><path d=\"M17.41 7.96l-1.37-1.37c-.4-.4-.92-.59-1.43-.59-.52 0-1.04.2-1.43.59L10.3 9.45l-7.72 7.72c-.78.78-.78 2.05 0 2.83L4 21.41c.39.39.9.59 1.41.59.51 0 1.02-.2 1.41-.59l7.78-7.78 2.81-2.81c.8-.78.8-2.07 0-2.86zM5.41 20L4 18.59l7.72-7.72 1.47 1.35L5.41 20z\"/>\n",
              "  </svg>\n",
              "      </button>\n",
              "      \n",
              "  <style>\n",
              "    .colab-df-container {\n",
              "      display:flex;\n",
              "      flex-wrap:wrap;\n",
              "      gap: 12px;\n",
              "    }\n",
              "\n",
              "    .colab-df-convert {\n",
              "      background-color: #E8F0FE;\n",
              "      border: none;\n",
              "      border-radius: 50%;\n",
              "      cursor: pointer;\n",
              "      display: none;\n",
              "      fill: #1967D2;\n",
              "      height: 32px;\n",
              "      padding: 0 0 0 0;\n",
              "      width: 32px;\n",
              "    }\n",
              "\n",
              "    .colab-df-convert:hover {\n",
              "      background-color: #E2EBFA;\n",
              "      box-shadow: 0px 1px 2px rgba(60, 64, 67, 0.3), 0px 1px 3px 1px rgba(60, 64, 67, 0.15);\n",
              "      fill: #174EA6;\n",
              "    }\n",
              "\n",
              "    [theme=dark] .colab-df-convert {\n",
              "      background-color: #3B4455;\n",
              "      fill: #D2E3FC;\n",
              "    }\n",
              "\n",
              "    [theme=dark] .colab-df-convert:hover {\n",
              "      background-color: #434B5C;\n",
              "      box-shadow: 0px 1px 3px 1px rgba(0, 0, 0, 0.15);\n",
              "      filter: drop-shadow(0px 1px 2px rgba(0, 0, 0, 0.3));\n",
              "      fill: #FFFFFF;\n",
              "    }\n",
              "  </style>\n",
              "\n",
              "      <script>\n",
              "        const buttonEl =\n",
              "          document.querySelector('#df-2568d6ac-dcc3-4c32-93b6-2c94b91e955b button.colab-df-convert');\n",
              "        buttonEl.style.display =\n",
              "          google.colab.kernel.accessAllowed ? 'block' : 'none';\n",
              "\n",
              "        async function convertToInteractive(key) {\n",
              "          const element = document.querySelector('#df-2568d6ac-dcc3-4c32-93b6-2c94b91e955b');\n",
              "          const dataTable =\n",
              "            await google.colab.kernel.invokeFunction('convertToInteractive',\n",
              "                                                     [key], {});\n",
              "          if (!dataTable) return;\n",
              "\n",
              "          const docLinkHtml = 'Like what you see? Visit the ' +\n",
              "            '<a target=\"_blank\" href=https://colab.research.google.com/notebooks/data_table.ipynb>data table notebook</a>'\n",
              "            + ' to learn more about interactive tables.';\n",
              "          element.innerHTML = '';\n",
              "          dataTable['output_type'] = 'display_data';\n",
              "          await google.colab.output.renderOutput(dataTable, element);\n",
              "          const docLink = document.createElement('div');\n",
              "          docLink.innerHTML = docLinkHtml;\n",
              "          element.appendChild(docLink);\n",
              "        }\n",
              "      </script>\n",
              "    </div>\n",
              "  </div>\n",
              "  "
            ]
          },
          "metadata": {},
          "execution_count": 54
        }
      ],
      "source": [
        "# Displaying the newly preprocessed dataset\n",
        "yelp_reviews = pd.DataFrame(yelp_reviews, columns=['reviews'])\n",
        "yelp_reviews.head()"
      ]
    },
    {
      "cell_type": "code",
      "execution_count": null,
      "id": "422112dd",
      "metadata": {
        "id": "422112dd"
      },
      "outputs": [],
      "source": [
        "# Adding back the sentiment scores to the dataset\n",
        "yelp_reviews = yelp_reviews.join(data[['sentiments']])\n",
        "yelp_reviews.head()"
      ]
    },
    {
      "cell_type": "code",
      "execution_count": null,
      "id": "63a3e722",
      "metadata": {
        "id": "63a3e722"
      },
      "outputs": [],
      "source": [
        "# # Performing TF-IDF on the dataset\n",
        "# from sklearn.feature_extraction.text import TfidfVectorizer\n",
        "# tfidf = TfidfVectorizer()\n",
        "# tfidf.fit(yelp_reviews['reviews'])"
      ]
    },
    {
      "cell_type": "code",
      "execution_count": null,
      "id": "8604c0d1",
      "metadata": {
        "id": "8604c0d1"
      },
      "outputs": [],
      "source": [
        "# # Splitting the dataset into dependent and independent variables.\n",
        "# # x is the independent variable which is the text column\n",
        "# # y is the dependent variable that is the sentiment scores column\n",
        "# # Splitting the dataset into training and testing, with 80:20 ratio.\n",
        "# from sklearn.model_selection import train_test_split\n",
        "# x = tfidf.transform(yelp_reviews['reviews'])\n",
        "# y = yelp_reviews['sentiments']\n",
        "# x_train, x_test, y_train, y_test = train_test_split(x, y, test_size = 0.2, random_state = 42)\n",
        "# print(x_train.shape, y_train.shape)\n",
        "# print(x_test.shape, y_test.shape)"
      ]
    },
    {
      "cell_type": "code",
      "source": [
        "# from sklearn.model_selection import train_test_split\n",
        "# X = tfidf.transform(yelp_reviews['reviews'])\n",
        "# y = yelp_reviews['sentiments']\n"
      ],
      "metadata": {
        "id": "1CBhJRvBmy-8"
      },
      "id": "1CBhJRvBmy-8",
      "execution_count": null,
      "outputs": []
    },
    {
      "cell_type": "code",
      "source": [
        "X_train, X_test, y_train, y_test = train_test_split(yelp_reviews['reviews'], yelp_reviews['sentiments'], test_size = 0.2, random_state = 42)\n",
        "print(X_train.shape, y_train.shape)\n",
        "print(X_test.shape, y_test.shape)"
      ],
      "metadata": {
        "id": "Tb5DLV2lm2Bo"
      },
      "id": "Tb5DLV2lm2Bo",
      "execution_count": null,
      "outputs": []
    },
    {
      "cell_type": "code",
      "source": [
        "tfid = TfidfVectorizer()\n",
        "train_tfid_matrix = tfid.fit_transform(X_train)\n",
        "test_tfid_matrix = tfid.transform(X_test)"
      ],
      "metadata": {
        "id": "KtloPnTynWk2"
      },
      "id": "KtloPnTynWk2",
      "execution_count": null,
      "outputs": []
    },
    {
      "cell_type": "code",
      "source": [
        "train_tfid_matrix.shape"
      ],
      "metadata": {
        "id": "mfIpxWA980Rb"
      },
      "id": "mfIpxWA980Rb",
      "execution_count": null,
      "outputs": []
    },
    {
      "cell_type": "markdown",
      "source": [
        "Random Forest"
      ],
      "metadata": {
        "id": "1ri2wYpynbl6"
      },
      "id": "1ri2wYpynbl6"
    },
    {
      "cell_type": "code",
      "source": [
        "# Create model object. \n",
        "model_rf = RandomForestClassifier(n_estimators = 200, random_state=0)\n",
        "# Train the model on the training data.\n",
        "model_rf.fit(train_tfid_matrix, y_train)\n",
        "# Make predictions on the test data. \n",
        "predictions_rf = model_rf.predict(test_tfid_matrix)"
      ],
      "metadata": {
        "id": "biwfl1l1ndxF"
      },
      "id": "biwfl1l1ndxF",
      "execution_count": null,
      "outputs": []
    },
    {
      "cell_type": "code",
      "source": [
        ""
      ],
      "metadata": {
        "id": "eQYW8t8j5Xwh"
      },
      "id": "eQYW8t8j5Xwh",
      "execution_count": null,
      "outputs": []
    },
    {
      "cell_type": "code",
      "source": [
        "rf = accuracy_score(y_test, predictions_rf)\n",
        "print(rf)"
      ],
      "metadata": {
        "id": "CUDcXrANnhj3"
      },
      "id": "CUDcXrANnhj3",
      "execution_count": null,
      "outputs": []
    },
    {
      "cell_type": "code",
      "source": [
        "print(classification_report(y_test, predictions_rf))"
      ],
      "metadata": {
        "id": "Zaw67diOnj05"
      },
      "id": "Zaw67diOnj05",
      "execution_count": null,
      "outputs": []
    },
    {
      "cell_type": "markdown",
      "source": [
        "Logistic Regression"
      ],
      "metadata": {
        "id": "DUqIRgBynmIm"
      },
      "id": "DUqIRgBynmIm"
    },
    {
      "cell_type": "code",
      "source": [
        "# Create model object. \n",
        "model_lr = LogisticRegression(max_iter=150)\n",
        "# Train the model on the training data.\n",
        "model_lr.fit(train_tfid_matrix, y_train)\n",
        "# Make predictions on the test data. \n",
        "predictions_lr = model_lr.predict(test_tfid_matrix)"
      ],
      "metadata": {
        "id": "TtVdYLrXnogk"
      },
      "id": "TtVdYLrXnogk",
      "execution_count": null,
      "outputs": []
    },
    {
      "cell_type": "code",
      "source": [
        "lr = accuracy_score(y_test, predictions_lr)\n",
        "print(lr)"
      ],
      "metadata": {
        "id": "hIMf2PcInr6a"
      },
      "id": "hIMf2PcInr6a",
      "execution_count": null,
      "outputs": []
    },
    {
      "cell_type": "code",
      "source": [
        "print(classification_report(y_test, predictions_lr))"
      ],
      "metadata": {
        "id": "oRDVET5knuN2"
      },
      "id": "oRDVET5knuN2",
      "execution_count": null,
      "outputs": []
    },
    {
      "cell_type": "markdown",
      "source": [
        "K Nearest Neighbours"
      ],
      "metadata": {
        "id": "W4TX3Q9mnzoV"
      },
      "id": "W4TX3Q9mnzoV"
    },
    {
      "cell_type": "code",
      "source": [
        "# Create model object. \n",
        "model_kn = KNeighborsClassifier(n_neighbors=9, leaf_size=20)\n",
        "# Train the model on the training data.\n",
        "model_kn.fit(train_tfid_matrix, y_train)\n",
        "# Make predictions on the test data. \n",
        "predictions_kn = model_kn.predict(test_tfid_matrix)"
      ],
      "metadata": {
        "id": "952OVZktn2nI"
      },
      "id": "952OVZktn2nI",
      "execution_count": null,
      "outputs": []
    },
    {
      "cell_type": "code",
      "source": [
        "kn = accuracy_score(y_test, predictions_kn)\n",
        "print(kn)"
      ],
      "metadata": {
        "id": "H2fD4akLn5UG"
      },
      "id": "H2fD4akLn5UG",
      "execution_count": null,
      "outputs": []
    },
    {
      "cell_type": "code",
      "source": [
        "print(classification_report(y_test, predictions_kn))"
      ],
      "metadata": {
        "id": "3onVx59Dn7YX"
      },
      "id": "3onVx59Dn7YX",
      "execution_count": null,
      "outputs": []
    },
    {
      "cell_type": "code",
      "source": [
        "import seaborn as sns\n",
        "models = pd.DataFrame({\n",
        "    'Model':['Random Forest', 'Logistic Regression', 'KNeighbours'],\n",
        "    'Accuracy_score' :[rf, lr, kn]\n",
        "})\n",
        "models\n",
        "sns.barplot(x='Accuracy_score', y='Model', data=models)\n",
        "\n",
        "models.sort_values(by='Accuracy_score', ascending=False)"
      ],
      "metadata": {
        "id": "-4tDIj_pn-Ky"
      },
      "id": "-4tDIj_pn-Ky",
      "execution_count": null,
      "outputs": []
    },
    {
      "cell_type": "code",
      "source": [
        ""
      ],
      "metadata": {
        "id": "me3ThWvuobv_"
      },
      "id": "me3ThWvuobv_",
      "execution_count": null,
      "outputs": []
    },
    {
      "cell_type": "code",
      "source": [
        "from sklearn.model_selection import train_test_split\n",
        "train_X, test_X, train_y, test_y = train_test_split(yelp_reviews['reviews'], yelp_reviews['sentiments'], test_size = 0.2, random_state = 42)\n",
        "\n",
        "print(\"Train shape : \",train_X.shape)\n",
        "print(\"Test shape : \",test_X.shape)"
      ],
      "metadata": {
        "id": "qCa9DIEWodR9"
      },
      "id": "qCa9DIEWodR9",
      "execution_count": null,
      "outputs": []
    },
    {
      "cell_type": "code",
      "source": [
        "## Tokenize the sentences\n",
        "tokenizer = Tokenizer(num_words=max_features)\n",
        "tokenizer.fit_on_texts(list(train_X))\n",
        "train_X = tokenizer.texts_to_sequences(train_X)\n",
        "test_X = tokenizer.texts_to_sequences(test_X)\n",
        "\n",
        "## Pad the sentences \n",
        "train_X = pad_sequences(train_X, maxlen=maxlen)\n",
        "test_X = pad_sequences(test_X, maxlen=maxlen)"
      ],
      "metadata": {
        "id": "fgx6RrBVodO7"
      },
      "id": "fgx6RrBVodO7",
      "execution_count": null,
      "outputs": []
    },
    {
      "cell_type": "code",
      "source": [
        "from sklearn.preprocessing import LabelEncoder\n",
        "le = LabelEncoder()\n",
        "train_y = le.fit_transform(train_y.values)\n",
        "test_y = le.transform(test_y.values)\n",
        "le.classes_"
      ],
      "metadata": {
        "id": "0XkDmiVlodLm"
      },
      "id": "0XkDmiVlodLm",
      "execution_count": null,
      "outputs": []
    },
    {
      "cell_type": "code",
      "source": [
        "def load_glove(word_index):\n",
        "    EMBEDDING_FILE = '/content/drive/MyDrive/glove.twitter.27B.200d.txt'\n",
        "    def get_coefs(word,*arr): return word, np.asarray(arr, dtype='float32')[:300]\n",
        "    embeddings_index = dict(get_coefs(*o.split(\" \")) for o in open(EMBEDDING_FILE))\n",
        "    \n",
        "    all_embs = np.stack(embeddings_index.values())\n",
        "    emb_mean,emb_std = -0.005838499,0.48782197\n",
        "    embed_size = all_embs.shape[1]\n",
        "\n",
        "    nb_words = min(max_features, len(word_index)+1)\n",
        "    embedding_matrix = np.random.normal(emb_mean, emb_std, (nb_words, embed_size))\n",
        "    for word, i in word_index.items():\n",
        "        if i >= max_features: continue\n",
        "        embedding_vector = embeddings_index.get(word)\n",
        "        if embedding_vector is not None: \n",
        "            embedding_matrix[i] = embedding_vector\n",
        "        else:\n",
        "            embedding_vector = embeddings_index.get(word.capitalize())\n",
        "            if embedding_vector is not None: \n",
        "                embedding_matrix[i] = embedding_vector\n",
        "    return embedding_matrix"
      ],
      "metadata": {
        "id": "owjXKPM5odHT"
      },
      "id": "owjXKPM5odHT",
      "execution_count": null,
      "outputs": []
    },
    {
      "cell_type": "code",
      "source": [
        ""
      ],
      "metadata": {
        "id": "apizZ6HeodBt"
      },
      "id": "apizZ6HeodBt",
      "execution_count": null,
      "outputs": []
    },
    {
      "cell_type": "code",
      "source": [
        ""
      ],
      "metadata": {
        "id": "ZbzwGmHCoc-w"
      },
      "id": "ZbzwGmHCoc-w",
      "execution_count": null,
      "outputs": []
    },
    {
      "cell_type": "code",
      "source": [
        ""
      ],
      "metadata": {
        "id": "KG_WXKfloc6M"
      },
      "id": "KG_WXKfloc6M",
      "execution_count": null,
      "outputs": []
    },
    {
      "cell_type": "code",
      "source": [
        "# tfid = TfidfVectorizer()\n",
        "# train_tfid_matrix = tfid.fit_transform(X_train)\n",
        "# test_tfid_matrix = tfid.transform(X_test)"
      ],
      "metadata": {
        "id": "MwiHIAhhSLR0"
      },
      "id": "MwiHIAhhSLR0",
      "execution_count": null,
      "outputs": []
    },
    {
      "cell_type": "code",
      "execution_count": null,
      "id": "77b13444",
      "metadata": {
        "id": "77b13444"
      },
      "outputs": [],
      "source": [
        "from sklearn import naive_bayes\n",
        "# Training the model using Naive Bayes Model\n",
        "result_prediction = {}\n",
        "from sklearn.naive_bayes import BernoulliNB\n",
        "naive_bayes= BernoulliNB().fit(x_train, y_train)\n",
        "y_pred_naive_bayes = naive_bayes.predict_proba(x_test)"
      ]
    },
    {
      "cell_type": "code",
      "execution_count": null,
      "id": "b5a86f50",
      "metadata": {
        "id": "b5a86f50"
      },
      "outputs": [],
      "source": [
        "# Displaying the accuracy of the Naive Bayes Model\n",
        "result_prediction['BernoulliNB'] = naive_bayes.predict_proba(x_test)[:, 1]\n",
        "print(\"Naive Bayes Accuracy : {}\". format(naive_bayes.score(x_test, y_test)))"
      ]
    },
    {
      "cell_type": "code",
      "execution_count": null,
      "id": "85c01af6",
      "metadata": {
        "id": "85c01af6"
      },
      "outputs": [],
      "source": [
        "# Training the model with the Logistic Regression Algorithm and displaying the Accuracy\n",
        "from sklearn.linear_model import LogisticRegression\n",
        "log_regression = LogisticRegression()\n",
        "logistic = log_regression.fit(x_train, y_train)\n",
        "result_prediction['LogisticRegression'] = log_regression.predict_proba(x_test)[:,1]\n",
        "y_pred_logistic = log_regression.predict(x_test)\n",
        "print(\"Logistic Regression Accuracy : {}\".format(log_regression.score(x_test, y_test)))"
      ]
    },
    {
      "cell_type": "code",
      "execution_count": null,
      "id": "76851682",
      "metadata": {
        "id": "76851682"
      },
      "outputs": [],
      "source": [
        "# Training the model with the Random Forest Algorithm and displaying the Accuracy\n",
        "from sklearn.ensemble import RandomForestClassifier\n",
        "from sklearn.metrics import classification_report\n",
        "from sklearn import metrics\n",
        "random_for = RandomForestClassifier(n_estimators=100)\n",
        "random_for.fit(x_train, y_train)\n",
        "y_random_for = random_for.predict(x_test)\n",
        "random_forest_model = metrics.accuracy_score(y_test, y_random_for)\n",
        "print(\"Random Forest Accuracy : {}\".format(random_forest_model))"
      ]
    },
    {
      "cell_type": "code",
      "execution_count": null,
      "id": "450617f2",
      "metadata": {
        "id": "450617f2"
      },
      "outputs": [],
      "source": [
        ""
      ]
    },
    {
      "cell_type": "code",
      "execution_count": null,
      "id": "4c5d50c8",
      "metadata": {
        "id": "4c5d50c8"
      },
      "outputs": [],
      "source": [
        ""
      ]
    },
    {
      "cell_type": "code",
      "source": [
        ""
      ],
      "metadata": {
        "id": "W3fnc3u5KHVH"
      },
      "id": "W3fnc3u5KHVH",
      "execution_count": null,
      "outputs": []
    },
    {
      "cell_type": "code",
      "source": [
        "embed_size = 200 # how big is each word vector\n",
        "max_features = 1000 # how many unique words to use (i.e num rows in embedding vector)\n",
        "maxlen = 272 # max number of words in a question to use\n",
        "batch_size = 512 # how many samples to process at once\n",
        "n_epochs = 15 # how many times to iterate over all samples\n",
        "n_splits = 5 # Number of K-fold Splits\n",
        "SEED = 10\n",
        "debug = 0"
      ],
      "metadata": {
        "id": "QQBSNg1bKcEJ"
      },
      "id": "QQBSNg1bKcEJ",
      "execution_count": 63,
      "outputs": []
    },
    {
      "cell_type": "code",
      "source": [
        "X_train, X_test, y_train, y_test = train_test_split(training_data['cleaned_text'], training_data['sentiment'], test_size=0.2)"
      ],
      "metadata": {
        "id": "u4ifPVGKKoaJ"
      },
      "id": "u4ifPVGKKoaJ",
      "execution_count": null,
      "outputs": []
    },
    {
      "cell_type": "code",
      "source": [
        ""
      ],
      "metadata": {
        "id": "62-NlkHWm6Tp"
      },
      "id": "62-NlkHWm6Tp",
      "execution_count": null,
      "outputs": []
    },
    {
      "cell_type": "code",
      "source": [
        ""
      ],
      "metadata": {
        "id": "PTs_sNDZm6XG"
      },
      "id": "PTs_sNDZm6XG",
      "execution_count": null,
      "outputs": []
    },
    {
      "cell_type": "code",
      "source": [
        ""
      ],
      "metadata": {
        "id": "dWdxzHgdnrG-"
      },
      "id": "dWdxzHgdnrG-",
      "execution_count": 69,
      "outputs": []
    },
    {
      "cell_type": "code",
      "source": [
        "data['lemmatized_text'] = data['cleaned_text'].apply(lambda x:lemmatize(x))\n",
        "data.head()"
      ],
      "metadata": {
        "colab": {
          "base_uri": "https://localhost:8080/",
          "height": 337
        },
        "id": "31yXhPpypXwO",
        "outputId": "3b07e113-67d6-4af4-bd64-a8cc34228200"
      },
      "id": "31yXhPpypXwO",
      "execution_count": 71,
      "outputs": [
        {
          "output_type": "execute_result",
          "data": {
            "text/plain": [
              "   stars                                               text  rating_score  \\\n",
              "0      4  This is the second time I visit this place so ...             1   \n",
              "1      5  I had the schwarma with lamb at Cafe Baladi. I...             1   \n",
              "2      5  Simple the best!. Homemade food quality. If yo...             1   \n",
              "3      5  My husband and I each had the \"red platter\" fo...             1   \n",
              "4      2  Just less than average. Very very salty food. ...            -1   \n",
              "\n",
              "  sentiments                                       cleaned_text  \\\n",
              "0   Positive  second time visit place wanted write new revie...   \n",
              "1   Positive  schwarma lamb cafe baladi absolutely delicious...   \n",
              "2   Positive  simple best homemade food quality looking comf...   \n",
              "3   Positive  husband red platter lunch tahini salad everyth...   \n",
              "4   Negative  less average salty food much menu looks like n...   \n",
              "\n",
              "                                      cleaned_review  \\\n",
              "0  second time visit place wanted write new revie...   \n",
              "1  schwarma lamb cafe baladi absolutely delicious...   \n",
              "2  simple best homemade food quality looking comf...   \n",
              "3  husband red platter lunch tahini salad everyth...   \n",
              "4  le average salty food much menu look like need...   \n",
              "\n",
              "                                     lemmatized_text  \n",
              "0  second time visit place wanted write new revie...  \n",
              "1  schwarma lamb cafe baladi absolutely delicious...  \n",
              "2  simple best homemade food quality looking comf...  \n",
              "3  husband red platter lunch tahini salad everyth...  \n",
              "4  le average salty food much menu look like need...  "
            ],
            "text/html": [
              "\n",
              "  <div id=\"df-d54197d4-fdbd-40ff-9c11-5660b1b45ae3\">\n",
              "    <div class=\"colab-df-container\">\n",
              "      <div>\n",
              "<style scoped>\n",
              "    .dataframe tbody tr th:only-of-type {\n",
              "        vertical-align: middle;\n",
              "    }\n",
              "\n",
              "    .dataframe tbody tr th {\n",
              "        vertical-align: top;\n",
              "    }\n",
              "\n",
              "    .dataframe thead th {\n",
              "        text-align: right;\n",
              "    }\n",
              "</style>\n",
              "<table border=\"1\" class=\"dataframe\">\n",
              "  <thead>\n",
              "    <tr style=\"text-align: right;\">\n",
              "      <th></th>\n",
              "      <th>stars</th>\n",
              "      <th>text</th>\n",
              "      <th>rating_score</th>\n",
              "      <th>sentiments</th>\n",
              "      <th>cleaned_text</th>\n",
              "      <th>cleaned_review</th>\n",
              "      <th>lemmatized_text</th>\n",
              "    </tr>\n",
              "  </thead>\n",
              "  <tbody>\n",
              "    <tr>\n",
              "      <th>0</th>\n",
              "      <td>4</td>\n",
              "      <td>This is the second time I visit this place so ...</td>\n",
              "      <td>1</td>\n",
              "      <td>Positive</td>\n",
              "      <td>second time visit place wanted write new revie...</td>\n",
              "      <td>second time visit place wanted write new revie...</td>\n",
              "      <td>second time visit place wanted write new revie...</td>\n",
              "    </tr>\n",
              "    <tr>\n",
              "      <th>1</th>\n",
              "      <td>5</td>\n",
              "      <td>I had the schwarma with lamb at Cafe Baladi. I...</td>\n",
              "      <td>1</td>\n",
              "      <td>Positive</td>\n",
              "      <td>schwarma lamb cafe baladi absolutely delicious...</td>\n",
              "      <td>schwarma lamb cafe baladi absolutely delicious...</td>\n",
              "      <td>schwarma lamb cafe baladi absolutely delicious...</td>\n",
              "    </tr>\n",
              "    <tr>\n",
              "      <th>2</th>\n",
              "      <td>5</td>\n",
              "      <td>Simple the best!. Homemade food quality. If yo...</td>\n",
              "      <td>1</td>\n",
              "      <td>Positive</td>\n",
              "      <td>simple best homemade food quality looking comf...</td>\n",
              "      <td>simple best homemade food quality looking comf...</td>\n",
              "      <td>simple best homemade food quality looking comf...</td>\n",
              "    </tr>\n",
              "    <tr>\n",
              "      <th>3</th>\n",
              "      <td>5</td>\n",
              "      <td>My husband and I each had the \"red platter\" fo...</td>\n",
              "      <td>1</td>\n",
              "      <td>Positive</td>\n",
              "      <td>husband red platter lunch tahini salad everyth...</td>\n",
              "      <td>husband red platter lunch tahini salad everyth...</td>\n",
              "      <td>husband red platter lunch tahini salad everyth...</td>\n",
              "    </tr>\n",
              "    <tr>\n",
              "      <th>4</th>\n",
              "      <td>2</td>\n",
              "      <td>Just less than average. Very very salty food. ...</td>\n",
              "      <td>-1</td>\n",
              "      <td>Negative</td>\n",
              "      <td>less average salty food much menu looks like n...</td>\n",
              "      <td>le average salty food much menu look like need...</td>\n",
              "      <td>le average salty food much menu look like need...</td>\n",
              "    </tr>\n",
              "  </tbody>\n",
              "</table>\n",
              "</div>\n",
              "      <button class=\"colab-df-convert\" onclick=\"convertToInteractive('df-d54197d4-fdbd-40ff-9c11-5660b1b45ae3')\"\n",
              "              title=\"Convert this dataframe to an interactive table.\"\n",
              "              style=\"display:none;\">\n",
              "        \n",
              "  <svg xmlns=\"http://www.w3.org/2000/svg\" height=\"24px\"viewBox=\"0 0 24 24\"\n",
              "       width=\"24px\">\n",
              "    <path d=\"M0 0h24v24H0V0z\" fill=\"none\"/>\n",
              "    <path d=\"M18.56 5.44l.94 2.06.94-2.06 2.06-.94-2.06-.94-.94-2.06-.94 2.06-2.06.94zm-11 1L8.5 8.5l.94-2.06 2.06-.94-2.06-.94L8.5 2.5l-.94 2.06-2.06.94zm10 10l.94 2.06.94-2.06 2.06-.94-2.06-.94-.94-2.06-.94 2.06-2.06.94z\"/><path d=\"M17.41 7.96l-1.37-1.37c-.4-.4-.92-.59-1.43-.59-.52 0-1.04.2-1.43.59L10.3 9.45l-7.72 7.72c-.78.78-.78 2.05 0 2.83L4 21.41c.39.39.9.59 1.41.59.51 0 1.02-.2 1.41-.59l7.78-7.78 2.81-2.81c.8-.78.8-2.07 0-2.86zM5.41 20L4 18.59l7.72-7.72 1.47 1.35L5.41 20z\"/>\n",
              "  </svg>\n",
              "      </button>\n",
              "      \n",
              "  <style>\n",
              "    .colab-df-container {\n",
              "      display:flex;\n",
              "      flex-wrap:wrap;\n",
              "      gap: 12px;\n",
              "    }\n",
              "\n",
              "    .colab-df-convert {\n",
              "      background-color: #E8F0FE;\n",
              "      border: none;\n",
              "      border-radius: 50%;\n",
              "      cursor: pointer;\n",
              "      display: none;\n",
              "      fill: #1967D2;\n",
              "      height: 32px;\n",
              "      padding: 0 0 0 0;\n",
              "      width: 32px;\n",
              "    }\n",
              "\n",
              "    .colab-df-convert:hover {\n",
              "      background-color: #E2EBFA;\n",
              "      box-shadow: 0px 1px 2px rgba(60, 64, 67, 0.3), 0px 1px 3px 1px rgba(60, 64, 67, 0.15);\n",
              "      fill: #174EA6;\n",
              "    }\n",
              "\n",
              "    [theme=dark] .colab-df-convert {\n",
              "      background-color: #3B4455;\n",
              "      fill: #D2E3FC;\n",
              "    }\n",
              "\n",
              "    [theme=dark] .colab-df-convert:hover {\n",
              "      background-color: #434B5C;\n",
              "      box-shadow: 0px 1px 3px 1px rgba(0, 0, 0, 0.15);\n",
              "      filter: drop-shadow(0px 1px 2px rgba(0, 0, 0, 0.3));\n",
              "      fill: #FFFFFF;\n",
              "    }\n",
              "  </style>\n",
              "\n",
              "      <script>\n",
              "        const buttonEl =\n",
              "          document.querySelector('#df-d54197d4-fdbd-40ff-9c11-5660b1b45ae3 button.colab-df-convert');\n",
              "        buttonEl.style.display =\n",
              "          google.colab.kernel.accessAllowed ? 'block' : 'none';\n",
              "\n",
              "        async function convertToInteractive(key) {\n",
              "          const element = document.querySelector('#df-d54197d4-fdbd-40ff-9c11-5660b1b45ae3');\n",
              "          const dataTable =\n",
              "            await google.colab.kernel.invokeFunction('convertToInteractive',\n",
              "                                                     [key], {});\n",
              "          if (!dataTable) return;\n",
              "\n",
              "          const docLinkHtml = 'Like what you see? Visit the ' +\n",
              "            '<a target=\"_blank\" href=https://colab.research.google.com/notebooks/data_table.ipynb>data table notebook</a>'\n",
              "            + ' to learn more about interactive tables.';\n",
              "          element.innerHTML = '';\n",
              "          dataTable['output_type'] = 'display_data';\n",
              "          await google.colab.output.renderOutput(dataTable, element);\n",
              "          const docLink = document.createElement('div');\n",
              "          docLink.innerHTML = docLinkHtml;\n",
              "          element.appendChild(docLink);\n",
              "        }\n",
              "      </script>\n",
              "    </div>\n",
              "  </div>\n",
              "  "
            ]
          },
          "metadata": {},
          "execution_count": 71
        }
      ]
    },
    {
      "cell_type": "code",
      "source": [
        "data.text.head()"
      ],
      "metadata": {
        "colab": {
          "base_uri": "https://localhost:8080/"
        },
        "id": "ScuLJDgizHd6",
        "outputId": "91274ecb-cbbe-41fa-b78e-12be2abc85cd"
      },
      "id": "ScuLJDgizHd6",
      "execution_count": 72,
      "outputs": [
        {
          "output_type": "execute_result",
          "data": {
            "text/plain": [
              "0       This is the second time I visit this place so ...\n",
              "1       I had the schwarma with lamb at Cafe Baladi. I...\n",
              "2       Simple the best!. Homemade food quality. If yo...\n",
              "3       My husband and I each had the \"red platter\" fo...\n",
              "4       Just less than average. Very very salty food. ...\n",
              "                              ...                        \n",
              "8874    By far the worst urgent care ever. Long waits ...\n",
              "8875    I was called in for an appointment and waited ...\n",
              "8876    The staff here are some of the most uneducated...\n",
              "8877    Went here yesterday for help with a bad virus ...\n",
              "8878    The staff are nice but this place is a waste o...\n",
              "Name: text, Length: 8879, dtype: object"
            ]
          },
          "metadata": {},
          "execution_count": 72
        }
      ]
    },
    {
      "cell_type": "code",
      "source": [
        ""
      ],
      "metadata": {
        "id": "s4zojVrizHaM"
      },
      "id": "s4zojVrizHaM",
      "execution_count": null,
      "outputs": []
    },
    {
      "cell_type": "code",
      "source": [
        "data.to_csv('reviews_cleaned_data.csv', index=False)"
      ],
      "metadata": {
        "id": "U-d0KW3kpdHu"
      },
      "id": "U-d0KW3kpdHu",
      "execution_count": null,
      "outputs": []
    },
    {
      "cell_type": "code",
      "source": [
        "count_df = data[['sentiments','cleaned_review']].groupby('sentiments').aggregate({'cleaned_review':'count'}).reset_index().sort_values('cleaned_review',ascending=False)\n",
        "count_df.head()"
      ],
      "metadata": {
        "id": "c7mcYHFpuiLX"
      },
      "id": "c7mcYHFpuiLX",
      "execution_count": null,
      "outputs": []
    },
    {
      "cell_type": "code",
      "source": [
        "from sklearn.model_selection import train_test_split\n",
        "train_X, test_X, train_y, test_y = train_test_split(data['cleaned_text'], data['sentiments'],\n",
        "                                                    test_size=0.25)\n",
        "\n",
        "print(\"Train shape : \",train_X.shape)\n",
        "print(\"Test shape : \",test_X.shape)"
      ],
      "metadata": {
        "id": "5UZLlQnSuyNE"
      },
      "id": "5UZLlQnSuyNE",
      "execution_count": null,
      "outputs": []
    },
    {
      "cell_type": "code",
      "source": [
        "## Tokenize the sentences\n",
        "tokenizer = Tokenizer(num_words=max_features)\n",
        "tokenizer.fit_on_texts(list(train_X))\n",
        "train_X = tokenizer.texts_to_sequences(train_X)\n",
        "test_X = tokenizer.texts_to_sequences(test_X)\n",
        "\n",
        "## Pad the sentences \n",
        "train_X = pad_sequences(train_X, maxlen=maxlen)\n",
        "test_X = pad_sequences(test_X, maxlen=maxlen)"
      ],
      "metadata": {
        "id": "5b4fZQGHvCZ2"
      },
      "id": "5b4fZQGHvCZ2",
      "execution_count": null,
      "outputs": []
    },
    {
      "cell_type": "code",
      "source": [
        "from sklearn.preprocessing import LabelEncoder\n",
        "le = LabelEncoder()\n",
        "train_y = le.fit_transform(train_y.values)\n",
        "test_y = le.transform(test_y.values)\n",
        "le.classes_"
      ],
      "metadata": {
        "id": "7ktGFxV9vFpe"
      },
      "id": "7ktGFxV9vFpe",
      "execution_count": null,
      "outputs": []
    },
    {
      "cell_type": "code",
      "source": [
        "def load_glove(word_index):\n",
        "    EMBEDDING_FILE = '/content/drive/MyDrive/glove.840B.300d/glove.840B.300d.txt'\n",
        "    def get_coefs(word,*arr): return word, np.asarray(arr, dtype='float32')[:300]\n",
        "    embeddings_index = dict(get_coefs(*o.split(\" \")) for o in open(EMBEDDING_FILE))\n",
        "    \n",
        "    all_embs = np.stack(embeddings_index.values())\n",
        "    emb_mean,emb_std = -0.005838499,0.48782197\n",
        "    embed_size = all_embs.shape[1]\n",
        "\n",
        "    nb_words = min(max_features, len(word_index)+1)\n",
        "    embedding_matrix = np.random.normal(emb_mean, emb_std, (nb_words, embed_size))\n",
        "    for word, i in word_index.items():\n",
        "        if i >= max_features: continue\n",
        "        embedding_vector = embeddings_index.get(word)\n",
        "        if embedding_vector is not None: \n",
        "            embedding_matrix[i] = embedding_vector\n",
        "        else:\n",
        "            embedding_vector = embeddings_index.get(word.capitalize())\n",
        "            if embedding_vector is not None: \n",
        "                embedding_matrix[i] = embedding_vector\n",
        "    return embedding_matrix"
      ],
      "metadata": {
        "id": "3VJBzHkRvITx"
      },
      "id": "3VJBzHkRvITx",
      "execution_count": null,
      "outputs": []
    },
    {
      "cell_type": "code",
      "source": [
        "if debug:\n",
        "    embedding_matrix = np.random.randn(1000,200)\n",
        "else:\n",
        "    embedding_matrix = load_glove(tokenizer.word_index)\n",
        "\n",
        "np.shape(embedding_matrix)"
      ],
      "metadata": {
        "id": "tYAyBe-OvLI5"
      },
      "id": "tYAyBe-OvLI5",
      "execution_count": null,
      "outputs": []
    },
    {
      "cell_type": "code",
      "source": [
        "embedding_matrix"
      ],
      "metadata": {
        "colab": {
          "base_uri": "https://localhost:8080/"
        },
        "id": "_8is_Crh-jMf",
        "outputId": "833dfad4-ce5a-430b-87a8-7040ec697946"
      },
      "id": "_8is_Crh-jMf",
      "execution_count": 101,
      "outputs": [
        {
          "output_type": "execute_result",
          "data": {
            "text/plain": [
              "array([[ 0.29171333,  0.16656217,  0.23780743, ...,  0.29127196,\n",
              "        -0.00523077, -0.37596519],\n",
              "       [-0.43511999,  0.028351  ,  0.49110001, ..., -0.47150999,\n",
              "         0.43009999,  0.36572999],\n",
              "       [ 0.40700001,  0.083541  , -0.10987   , ..., -0.042277  ,\n",
              "        -0.017143  ,  0.13816001],\n",
              "       ...,\n",
              "       [-0.43402001,  0.25227001, -0.11194   , ..., -0.23718999,\n",
              "        -0.18564001,  0.11064   ],\n",
              "       [-0.28397   ,  0.46566001,  0.31485   , ...,  0.0053503 ,\n",
              "         0.17941999, -0.13434   ],\n",
              "       [-0.35282999,  0.40358001, -0.33518001, ..., -0.52798003,\n",
              "         0.29804   ,  0.54641002]])"
            ]
          },
          "metadata": {},
          "execution_count": 101
        }
      ]
    },
    {
      "cell_type": "code",
      "source": [
        "class CNN_Text(nn.Module):\n",
        "    \n",
        "    def __init__(self):\n",
        "        super(CNN_Text, self).__init__()\n",
        "        filter_sizes = [1,2,3,5]\n",
        "        num_filters = 36\n",
        "        n_classes = len(le.classes_)\n",
        "        self.embedding = nn.Embedding(max_features, embed_size)\n",
        "        self.embedding.weight = nn.Parameter(torch.tensor(embedding_matrix, dtype=torch.float32))\n",
        "        self.embedding.weight.requires_grad = False\n",
        "        self.convs1 = nn.ModuleList([nn.Conv2d(1, num_filters, (K, embed_size)) for K in filter_sizes])\n",
        "        self.dropout = nn.Dropout(0.1)\n",
        "        self.fc1 = nn.Linear(len(filter_sizes)*num_filters, n_classes)\n",
        "\n",
        "\n",
        "    def forward(self, x):\n",
        "        x = self.embedding(x)  \n",
        "        x = x.unsqueeze(1)  \n",
        "        x = [F.relu(conv(x)).squeeze(3) for conv in self.convs1] \n",
        "        x = [F.max_pool1d(i, i.size(2)).squeeze(2) for i in x]  \n",
        "        x = torch.cat(x, 1)\n",
        "        x = self.dropout(x)  \n",
        "        logit = self.fc1(x) \n",
        "        return logit  "
      ],
      "metadata": {
        "id": "JRPB0jDZvM8F"
      },
      "id": "JRPB0jDZvM8F",
      "execution_count": 97,
      "outputs": []
    },
    {
      "cell_type": "code",
      "source": [
        "# print(max_features, embed_size)\n",
        "# abc = nn.Embedding(max_features, embed_size)\n",
        "# abc\n",
        "# defg = nn.Parameter(torch.tensor(embedding_matrix, dtype=torch.float32))\n",
        "# defg"
      ],
      "metadata": {
        "colab": {
          "base_uri": "https://localhost:8080/"
        },
        "id": "_6z0Fxck_X5N",
        "outputId": "ff9ed4d3-e3bf-4751-e054-d029c6e6501b"
      },
      "id": "_6z0Fxck_X5N",
      "execution_count": 105,
      "outputs": [
        {
          "output_type": "stream",
          "name": "stdout",
          "text": [
            "1000 200\n"
          ]
        },
        {
          "output_type": "execute_result",
          "data": {
            "text/plain": [
              "Parameter containing:\n",
              "tensor([[ 0.2917,  0.1666,  0.2378,  ...,  0.2913, -0.0052, -0.3760],\n",
              "        [-0.4351,  0.0284,  0.4911,  ..., -0.4715,  0.4301,  0.3657],\n",
              "        [ 0.4070,  0.0835, -0.1099,  ..., -0.0423, -0.0171,  0.1382],\n",
              "        ...,\n",
              "        [-0.4340,  0.2523, -0.1119,  ..., -0.2372, -0.1856,  0.1106],\n",
              "        [-0.2840,  0.4657,  0.3149,  ...,  0.0054,  0.1794, -0.1343],\n",
              "        [-0.3528,  0.4036, -0.3352,  ..., -0.5280,  0.2980,  0.5464]],\n",
              "       requires_grad=True)"
            ]
          },
          "metadata": {},
          "execution_count": 105
        }
      ]
    },
    {
      "cell_type": "code",
      "source": [
        "dtype = torch.float\n",
        "device = torch.device(\"mps\")"
      ],
      "metadata": {
        "id": "Bg50HqkoFRwv"
      },
      "id": "Bg50HqkoFRwv",
      "execution_count": 98,
      "outputs": []
    },
    {
      "cell_type": "code",
      "source": [
        "model = CNN_Text()\n",
        "loss_fn = nn.CrossEntropyLoss(reduction='sum')\n",
        "optimizer = torch.optim.Adam(filter(lambda p: p.requires_grad, model.parameters()), lr=0.001)\n",
        "x_train = torch.tensor(train_X, dtype=torch.long)\n",
        "y_train = torch.tensor(train_y, dtype=torch.long)\n",
        "x_cv = torch.tensor(test_X, dtype=torch.long)\n",
        "y_cv = torch.tensor(test_y, dtype=torch.long)\n",
        "train = torch.utils.data.TensorDataset(x_train, y_train)\n",
        "valid = torch.utils.data.TensorDataset(x_cv, y_cv)\n",
        "train_loader = torch.utils.data.DataLoader(train, batch_size=batch_size, shuffle=True)\n",
        "valid_loader = torch.utils.data.DataLoader(valid, batch_size=batch_size, shuffle=False)\n",
        "train_loss = []\n",
        "valid_loss = []\n",
        "\n",
        "for epoch in range(n_epochs):\n",
        "    start_time = time.time()\n",
        "    model.train()\n",
        "    avg_loss = 0.  \n",
        "    for i, (x_batch, y_batch) in enumerate(train_loader):\n",
        "        y_pred = model(x_batch)\n",
        "        loss = loss_fn(y_pred, y_batch)\n",
        "        optimizer.zero_grad()\n",
        "        loss.backward()\n",
        "        optimizer.step()\n",
        "        avg_loss += loss.item() / len(train_loader)\n",
        "    model.eval()        \n",
        "    avg_val_loss = 0.\n",
        "    val_preds = np.zeros((len(x_cv),len(le.classes_)))\n",
        "    \n",
        "    for i, (x_batch, y_batch) in enumerate(valid_loader):\n",
        "        y_pred = model(x_batch).detach()\n",
        "        avg_val_loss += loss_fn(y_pred, y_batch).item() / len(valid_loader)\n",
        "        val_preds[i * batch_size:(i+1) * batch_size] =F.softmax(y_pred).cpu().numpy()\n",
        "    val_accuracy = sum(val_preds.argmax(axis=1)==test_y)/len(test_y)\n",
        "    train_loss.append(avg_loss)\n",
        "    valid_loss.append(avg_val_loss)\n",
        "    elapsed_time = time.time() - start_time \n",
        "    print('Epoch {}/{} \\t loss={:.4f} \\t val_loss={:.4f}  \\t val_acc={:.4f}  \\t time={:.2f}s'.format(\n",
        "                epoch + 1, n_epochs, avg_loss, avg_val_loss, val_accuracy, elapsed_time))"
      ],
      "metadata": {
        "colab": {
          "base_uri": "https://localhost:8080/"
        },
        "id": "CPi3sAk2FRtP",
        "outputId": "478966d4-4cce-4f80-a012-b5792a94e514"
      },
      "id": "CPi3sAk2FRtP",
      "execution_count": null,
      "outputs": [
        {
          "output_type": "stream",
          "name": "stdout",
          "text": [
            "tensor([[  0,   0,   0,  ..., 446, 118,  92],\n",
            "        [  0,   0,   0,  ...,  11, 979,  30],\n",
            "        [  0,   0,   0,  ..., 370,   3,   8],\n",
            "        ...,\n",
            "        [  0,   0,   0,  ...,  94,   1, 111],\n",
            "        [  0,   0,   0,  ..., 588,  50,  12],\n",
            "        [  0,   0,   0,  ...,   7, 371,  60]])\n"
          ]
        }
      ]
    },
    {
      "cell_type": "code",
      "source": [
        "def plot_graph(epochs):\n",
        "    fig = plt.figure(figsize=(12,12))\n",
        "    plt.title(\"Train/Validation Loss\")\n",
        "    plt.plot(list(np.arange(epochs) + 1) , train_loss, label='train')\n",
        "    plt.plot(list(np.arange(epochs) + 1), valid_loss, label='validation')\n",
        "    plt.xlabel('num_epochs', fontsize=12)\n",
        "    plt.ylabel('loss', fontsize=12)\n",
        "    plt.legend(loc='best')\n",
        "\n",
        "plot_graph(n_epochs)"
      ],
      "metadata": {
        "id": "zc8wVlofFRqn"
      },
      "id": "zc8wVlofFRqn",
      "execution_count": null,
      "outputs": []
    },
    {
      "cell_type": "code",
      "source": [
        "!pip install scikit-plot"
      ],
      "metadata": {
        "id": "0g3a3ZusFRoH"
      },
      "id": "0g3a3ZusFRoH",
      "execution_count": null,
      "outputs": []
    },
    {
      "cell_type": "code",
      "source": [
        "import scikitplot as skplt\n",
        "\n",
        "y_true = [le.classes_[x] for x in test_y]\n",
        "y_pred = [le.classes_[x] for x in val_preds.argmax(axis=1)]\n",
        "skplt.metrics.plot_confusion_matrix(\n",
        "    y_true, \n",
        "    y_pred,\n",
        "    figsize=(12,12),x_tick_rotation=90)"
      ],
      "metadata": {
        "id": "aWArtIKvFRli"
      },
      "id": "aWArtIKvFRli",
      "execution_count": null,
      "outputs": []
    },
    {
      "cell_type": "code",
      "source": [
        "print('\\nAccuracy: {:.2f}\\n'.format(accuracy_score(y_true, y_pred)))"
      ],
      "metadata": {
        "id": "EdgEJWtUFRi5"
      },
      "id": "EdgEJWtUFRi5",
      "execution_count": null,
      "outputs": []
    },
    {
      "cell_type": "code",
      "source": [
        "def predict_cnn_sentiment(x):    \n",
        "    # tokenize\n",
        "    x = tokenizer.texts_to_sequences([x])\n",
        "    # padding\n",
        "    x = pad_sequences(x, maxlen=maxlen)\n",
        "    # create dataset\n",
        "    x = torch.tensor(x, dtype=torch.long)\n",
        "\n",
        "    pred = model(x).detach()\n",
        "    pred = F.softmax(pred).cpu().numpy()\n",
        "\n",
        "    sentiment_score = pred[0][pred.argmax(axis=1)]    \n",
        "    pred = pred.argmax(axis=1)\n",
        "\n",
        "    pred = le.classes_[pred]\n",
        "    return pd.Series([sentiment_score[0], pred[0]])"
      ],
      "metadata": {
        "id": "61PICpKAFlFK"
      },
      "id": "61PICpKAFlFK",
      "execution_count": null,
      "outputs": []
    },
    {
      "cell_type": "code",
      "source": [
        "tweet_data = ire_tweets"
      ],
      "metadata": {
        "id": "LBmTngUjFlBt"
      },
      "id": "LBmTngUjFlBt",
      "execution_count": null,
      "outputs": []
    },
    {
      "cell_type": "code",
      "source": [
        "tweet_data[['cnn_score_sentiment','cnn_sentiment']] = tweet_data['cleaned_text'].apply(lambda x: predict_cnn_sentiment(x))\n",
        "tweet_data.head()"
      ],
      "metadata": {
        "id": "hYD48kzIFk_W"
      },
      "id": "hYD48kzIFk_W",
      "execution_count": null,
      "outputs": []
    },
    {
      "cell_type": "code",
      "source": [
        "tweet_data.to_csv('ukraine_cnn_sentiment_pred_ireland.csv', index=False)"
      ],
      "metadata": {
        "id": "_RjMi4dBFk8O"
      },
      "id": "_RjMi4dBFk8O",
      "execution_count": null,
      "outputs": []
    },
    {
      "cell_type": "code",
      "source": [
        "tweet_data['cnn_sentiment'].value_counts()"
      ],
      "metadata": {
        "id": "I0MdMlChFk5v"
      },
      "id": "I0MdMlChFk5v",
      "execution_count": null,
      "outputs": []
    },
    {
      "cell_type": "code",
      "source": [
        "class LSTM(nn.Module):\n",
        "    \n",
        "    def __init__(self):\n",
        "        super(LSTM, self).__init__()\n",
        "        self.hidden_size = 64\n",
        "        drp = 0.1\n",
        "        n_classes = len(le.classes_)\n",
        "        self.embedding = nn.Embedding(max_features, embed_size)\n",
        "        self.embedding.weight = nn.Parameter(torch.tensor(embedding_matrix, dtype=torch.float32))\n",
        "        self.embedding.weight.requires_grad = False\n",
        "        self.lstm = nn.LSTM(embed_size, self.hidden_size, bidirectional=True, batch_first=True)\n",
        "        self.linear = nn.Linear(self.hidden_size*4 , 64)\n",
        "        self.relu = nn.ReLU()\n",
        "        self.dropout = nn.Dropout(drp)\n",
        "        self.out = nn.Linear(64, n_classes)\n",
        "\n",
        "\n",
        "    def forward(self, x):\n",
        "      h_embedding = self.embedding(x)\n",
        "          h_lstm, _ = self.lstm(h_embedding)\n",
        "        avg_pool = torch.mean(h_lstm, 1)\n",
        "        max_pool, _ = torch.max(h_lstm, 1)\n",
        "        conc = torch.cat(( avg_pool, max_pool), 1)\n",
        "        conc = self.relu(self.linear(conc))\n",
        "        conc = self.dropout(conc)\n",
        "        out = self.out(conc)\n",
        "        return out"
      ],
      "metadata": {
        "id": "-IV8uZLaFk22"
      },
      "id": "-IV8uZLaFk22",
      "execution_count": null,
      "outputs": []
    },
    {
      "cell_type": "code",
      "source": [
        "model = LSTM()\n",
        "loss_fn = nn.CrossEntropyLoss(reduction='sum')\n",
        "optimizer = torch.optim.Adam(filter(lambda p: p.requires_grad, model.parameters()), lr=0.001)\n",
        "\n",
        "x_train = torch.tensor(train_X, dtype=torch.long)\n",
        "y_train = torch.tensor(train_y, dtype=torch.long)\n",
        "x_cv = torch.tensor(test_X, dtype=torch.long)\n",
        "y_cv = torch.tensor(test_y, dtype=torch.long)\n",
        "train = torch.utils.data.TensorDataset(x_train, y_train)\n",
        "valid = torch.utils.data.TensorDataset(x_cv, y_cv)\n",
        "train_loader = torch.utils.data.DataLoader(train, batch_size=batch_size, shuffle=True)\n",
        "valid_loader = torch.utils.data.DataLoader(valid, batch_size=batch_size, shuffle=False)\n",
        "\n",
        "train_loss = []\n",
        "valid_loss = []\n",
        "\n",
        "for epoch in range(n_epochs):\n",
        "    start_time = time.time()\n",
        "    model.train()\n",
        "    avg_loss = 0.  \n",
        "    for i, (x_batch, y_batch) in enumerate(train_loader):\n",
        "        \n",
        "        y_pred = model(x_batch)\n",
        "        loss = loss_fn(y_pred, y_batch)\n",
        "        optimizer.zero_grad()\n",
        "        loss.backward()\n",
        "        optimizer.step()\n",
        "        avg_loss += loss.item() / len(train_loader)\n",
        "    model.eval()        \n",
        "    avg_val_loss = 0.\n",
        "    val_preds = np.zeros((len(x_cv),len(le.classes_)))\n",
        "    \n",
        "    for i, (x_batch, y_batch) in enumerate(valid_loader):\n",
        "        y_pred = model(x_batch).detach()\n",
        "        avg_val_loss += loss_fn(y_pred, y_batch).item() / len(valid_loader)\n",
        "        val_preds[i * batch_size:(i+1) * batch_size] =F.softmax(y_pred).cpu().numpy()\n",
        "    \n",
        "    \n",
        "    val_accuracy = sum(val_preds.argmax(axis=1)==test_y)/len(test_y)\n",
        "    train_loss.append(avg_loss)\n",
        "    valid_loss.append(avg_val_loss)\n",
        "    elapsed_time = time.time() - start_time \n",
        "    print('Epoch {}/{} \\t loss={:.4f} \\t val_loss={:.4f}  \\t val_acc={:.4f}  \\t time={:.2f}s'.format(\n",
        "                epoch + 1, n_epochs, avg_loss, avg_val_loss, val_accuracy, elapsed_time))"
      ],
      "metadata": {
        "id": "vzcTVdZmFkz6"
      },
      "id": "vzcTVdZmFkz6",
      "execution_count": null,
      "outputs": []
    },
    {
      "cell_type": "code",
      "source": [
        "from matplotlib.pyplot import *\n",
        "plot_graph(n_epochs)"
      ],
      "metadata": {
        "id": "avnuFc3XFkxJ"
      },
      "id": "avnuFc3XFkxJ",
      "execution_count": null,
      "outputs": []
    },
    {
      "cell_type": "code",
      "source": [
        "import scikitplot as skplt\n",
        "y_true = [le.classes_[x] for x in test_y]\n",
        "y_pred = [le.classes_[x] for x in val_preds.argmax(axis=1)]\n",
        "skplt.metrics.plot_confusion_matrix(\n",
        "    y_true, \n",
        "    y_pred,\n",
        "    figsize=(12,12),x_tick_rotation=90)"
      ],
      "metadata": {
        "id": "HncvYZWkGWvZ"
      },
      "id": "HncvYZWkGWvZ",
      "execution_count": null,
      "outputs": []
    },
    {
      "cell_type": "code",
      "source": [
        "print('\\nAccuracy: {:.2f}\\n'.format(accuracy_score(y_true, y_pred)))"
      ],
      "metadata": {
        "id": "joIoMeRpGWsI"
      },
      "id": "joIoMeRpGWsI",
      "execution_count": null,
      "outputs": []
    },
    {
      "cell_type": "code",
      "source": [
        "def predict_lstm_sentiment(x):    \n",
        "    # tokenize\n",
        "    x = tokenizer.texts_to_sequences([x])\n",
        "    # pad\n",
        "    x = pad_sequences(x, maxlen=maxlen)\n",
        "    # create dataset\n",
        "    x = torch.tensor(x, dtype=torch.long)\n",
        "\n",
        "    pred = model(x).detach()\n",
        "    pred = F.softmax(pred).cpu().numpy()\n",
        "\n",
        "    sentiment_score = pred[0][pred.argmax(axis=1)]    \n",
        "    pred = pred.argmax(axis=1)\n",
        "\n",
        "    pred = le.classes_[pred]\n",
        "    return pd.Series([sentiment_score[0], pred[0]])"
      ],
      "metadata": {
        "id": "rVjiBbDMGWpg"
      },
      "id": "rVjiBbDMGWpg",
      "execution_count": null,
      "outputs": []
    },
    {
      "cell_type": "code",
      "source": [
        "ire_tweets[['lstm_score_sentiment','lstm_sentiment']] = ire_tweets['cleaned_text'].apply(lambda x: predict_cnn_sentiment(x))\n",
        "ire_tweets.head()"
      ],
      "metadata": {
        "id": "fky2vaYkGWnM"
      },
      "id": "fky2vaYkGWnM",
      "execution_count": null,
      "outputs": []
    },
    {
      "cell_type": "code",
      "source": [
        "ire_tweets.to_csv('ukraine_bilstm_sentiment_pred_ireland.csv', index=False)"
      ],
      "metadata": {
        "id": "ZJ3zTyBXGWjy"
      },
      "id": "ZJ3zTyBXGWjy",
      "execution_count": null,
      "outputs": []
    },
    {
      "cell_type": "code",
      "source": [
        "ire_tweets['lstm_sentiment'].value_counts()"
      ],
      "metadata": {
        "id": "aIytsNyOGWhR"
      },
      "id": "aIytsNyOGWhR",
      "execution_count": null,
      "outputs": []
    },
    {
      "cell_type": "code",
      "source": [
        ""
      ],
      "metadata": {
        "id": "Z190m-GL4d2E"
      },
      "id": "Z190m-GL4d2E",
      "execution_count": null,
      "outputs": []
    },
    {
      "cell_type": "code",
      "source": [
        ""
      ],
      "metadata": {
        "id": "il1f2GGS4dyC"
      },
      "id": "il1f2GGS4dyC",
      "execution_count": null,
      "outputs": []
    },
    {
      "cell_type": "code",
      "source": [
        ""
      ],
      "metadata": {
        "id": "Aya8l0IZ4dul"
      },
      "id": "Aya8l0IZ4dul",
      "execution_count": null,
      "outputs": []
    },
    {
      "cell_type": "code",
      "source": [
        ""
      ],
      "metadata": {
        "id": "SYzEDALi4dnf"
      },
      "id": "SYzEDALi4dnf",
      "execution_count": null,
      "outputs": []
    },
    {
      "cell_type": "code",
      "source": [
        "def replace_contractions(text):\n",
        "    new_text = []\n",
        "    for word in text.split():\n",
        "        new_text.append(contractions.fix(word))\n",
        "        \n",
        "    return ' '.join(new_text)"
      ],
      "metadata": {
        "id": "hfdnvWLEm6aT"
      },
      "execution_count": null,
      "outputs": [],
      "id": "hfdnvWLEm6aT"
    },
    {
      "cell_type": "code",
      "source": [
        "def lemmatize(text):\n",
        "  new_text = []\n",
        "  wordnet_lemmatizer = WordNetLemmatizer()\n",
        "  for word in text.split():\n",
        "    new_text.append(wordnet_lemmatizer.lemmatize(word))\n",
        "\n",
        "  return ' '.join(new_text)"
      ],
      "metadata": {
        "id": "NbXrHvXenrUz"
      },
      "execution_count": null,
      "outputs": [],
      "id": "NbXrHvXenrUz"
    },
    {
      "cell_type": "code",
      "source": [
        "data"
      ],
      "metadata": {
        "id": "7dg0A5tMm6gw"
      },
      "execution_count": null,
      "outputs": [],
      "id": "7dg0A5tMm6gw"
    },
    {
      "cell_type": "code",
      "source": [
        "data['cleaned_text'] = data['text'].apply(lambda x:x.lower()) #lowercase\n",
        "data['cleaned_text'] = data['cleaned_text'].apply(lambda x:replace_contractions(x)) #remove contractions\n",
        "data['cleaned_text'] = data['cleaned_text'].apply(lambda x:re.sub(r\"&amp\",\" \",x)) #remove amps\n",
        "data['cleaned_text'] = data['cleaned_text'].apply(lambda x:re.sub(r\"http\\S+\",\" \",x)) #remove urls\n",
        "data['cleaned_text'] = data['cleaned_text'].apply(lambda x:re.sub(r\"\\n\",\" \",x)) #remove break lines\n",
        "data['cleaned_text'] = data['cleaned_text'].apply(lambda x:re.sub(r\"@[A-Za-z0-9]+\",\" \",x)) #remove mentions\n",
        "data['cleaned_text'] = data['cleaned_text'].apply(lambda x:re.sub(r\"RT\",\" \",x)) #remove retweet\n",
        "data['cleaned_text'] = data['cleaned_text'].apply(lambda x:re.sub(r\"[^0-9a-zA-Z\\s]+\",\" \",x)) #remove punctuactions\n",
        "data['cleaned_text'] = data['cleaned_text'].apply(lambda x:re.sub(r\"\\d+\",\"\",x)) #remove numbers\n",
        "data['cleaned_text'] = data['cleaned_text'].apply(lambda x:re.sub(r\"^ +| +$\",\"\",x)) #remove leading and trailing white spaces\n",
        "data['cleaned_text'] = data['cleaned_text'].apply(lambda x:re.sub(r\" +\",\" \",x)) #remove duplicated white spaces\n",
        "data['cleaned_text'] = data['cleaned_text'].apply(lambda x:x.encode('ascii', 'ignore').decode('ascii')) #remove emojis\n",
        "data['cleaned_text'] = data['cleaned_text'].apply(lambda x: \" \".join(x for x in x.split() if x not in stop_words)) #removing stopwords"
      ],
      "metadata": {
        "id": "FQ9aa-Y1nBuq"
      },
      "execution_count": null,
      "outputs": [],
      "id": "FQ9aa-Y1nBuq"
    }
  ],
  "metadata": {
    "kernelspec": {
      "display_name": "Python 3 (ipykernel)",
      "language": "python",
      "name": "python3"
    },
    "language_info": {
      "codemirror_mode": {
        "name": "ipython",
        "version": 3
      },
      "file_extension": ".py",
      "mimetype": "text/x-python",
      "name": "python",
      "nbconvert_exporter": "python",
      "pygments_lexer": "ipython3",
      "version": "3.9.12"
    },
    "colab": {
      "name": "Code.ipynb",
      "provenance": [],
      "collapsed_sections": [],
      "include_colab_link": true
    }
  },
  "nbformat": 4,
  "nbformat_minor": 5
}